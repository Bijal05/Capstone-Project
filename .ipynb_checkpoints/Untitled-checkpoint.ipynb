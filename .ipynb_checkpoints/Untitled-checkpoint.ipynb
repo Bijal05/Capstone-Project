{
 "cells": [
  {
   "cell_type": "markdown",
   "metadata": {},
   "source": [
    "# Predicting Sales E-Commerce\n",
    "\n",
    "- Accurate sales forecasts enable retailers to more precisely plan for the future of an e-commerce business. Sales forecasting is an important part of meeting customer expectations and provides insight into how the market will react to any given product.\n",
    "\n",
    "- We live in the world of e-commerce. We see tons of different stores here and there through the web. Internet made it possible to trade with anyone and everywhere. We can buy goods without leaving our house, we can compare prices in different stores within seconds, we can find what we really want and do not accept just the first more or less suitable offer. And I believe it would be really interesting to look at this world through the data it produces. That's why I decided to play around with e-commerce numbers and try to understand it better.\n",
    "\n",
    "- The data used in this analysis is taken from Bespoke Aquariums online store dataset \"Data |bespoke_data Actual transactions of Sydney retailer \".\n",
    "\n",
    "- This is a transnational data set which contains all the transactions occurring between 01/05/2020 and 09/12/2023 for a Sydney-based and registered bespoke online retail.The company mainly sells Aquariums products.\n",
    "\n",
    "- As always, we start our analysis by setting up our environment and by importing necessary libraries.\n",
    "\n",
    "- We import standard numpy and pandas to be able to perform analysis with Python, also we need data visualization libraries matplotlib and seaborn to output interesting visual findings.\n",
    "\n",
    "\n",
    "Predicting sales in e-commerce is a critical aspect of managing an online retail business. Accurate sales predictions can help you make informed decisions about inventory management, marketing strategies, and overall business growth. Here are some key methods and considerations for predicting sales in e-commerce:\n",
    "\n",
    "1. Historical Data Analysis:\n",
    "   - Start by analyzing your historical sales data. Look at trends, seasonality, and any patterns that may emerge. This data can provide valuable insights into past performance.\n",
    "\n",
    "2. Time Series Forecasting:\n",
    "   - Time series forecasting methods, such as ARIMA (AutoRegressive Integrated Moving Average) or Prophet, can be used to predict future sales based on past sales data. These models take into account seasonality and trends.\n",
    "\n",
    "3. Machine Learning Models:\n",
    "   - Machine learning models like regression, decision trees, random forests, and neural networks can be trained on historical data to make predictions. Feature engineering, which involves selecting and transforming relevant input features, is crucial for these models.\n",
    "\n",
    "4. Customer Segmentation:\n",
    "   - Segment your customer base to identify different groups with varying buying behaviors. This can help you tailor marketing efforts and predict sales more accurately for each segment.\n",
    "\n",
    "5. External Factors:\n",
    "   - Consider external factors that can influence sales, such as holidays, economic conditions, and industry trends. Incorporating these factors into your models can improve their accuracy.\n",
    "\n",
    "6. Inventory Management:\n",
    "   - Accurate sales predictions are essential for inventory management. Overstocking or understocking can lead to lost sales or excess costs. Make sure your predictions align with your inventory levels.\n",
    "\n",
    "7. Marketing Campaign Analysis:\n",
    "   - Analyze the impact of marketing campaigns on sales. Attribution modeling can help you understand which marketing efforts are driving the most sales, allowing you to optimize your marketing strategy.\n",
    "\n",
    "8. A/B Testing:\n",
    "   - Conduct A/B tests to experiment with different strategies and determine which ones have the most significant impact on sales. This can help refine your predictions over time.\n",
    "\n",
    "9. Customer Feedback and Reviews:\n",
    "   - Pay attention to customer feedback and product reviews. Negative feedback can lead to decreased sales, while positive feedback can boost sales. Monitor sentiment and address customer concerns promptly.\n",
    "\n",
    "10. Forecasting Tools:\n",
    "    - Consider using specialized forecasting software or e-commerce analytics platforms that offer pre-built models and dashboards tailored for sales predictions.\n",
    "\n",
    "11. Continuous Monitoring and Iteration:\n",
    "    - Sales prediction models should be regularly monitored and updated as new data becomes available. E-commerce is dynamic, and market conditions can change rapidly.\n",
    "\n",
    "12. Use of AI and Predictive Analytics:\n",
    "    - Advanced artificial intelligence and predictive analytics techniques, such as deep learning and reinforcement learning, can provide more accurate and automated sales predictions, especially for large datasets.\n",
    "\n",
    "- Remember that sales predictions are not always 100% accurate, but with consistent refinement and the use of various data sources and models, you can improve their accuracy over time. Additionally, be prepared to adapt your strategies based on the insights gained from your predictions to maximize your e-commerce success.\n"
   ]
  },
  {
   "cell_type": "code",
   "execution_count": 693,
   "metadata": {},
   "outputs": [],
   "source": [
    "import matplotlib.pyplot as plt\n",
    "import seaborn as sns\n",
    "from datetime import datetime\n",
    "from sklearn.model_selection import train_test_split\n",
    "from sklearn.linear_model import LinearRegression\n",
    "from sklearn.metrics import mean_squared_error\n",
    "from sklearn.preprocessing import StandardScaler\n",
    "import numpy as np\n",
    "import pandas as pd\n",
    "import statsmodels.api as sm\n",
    "\n",
    "from sklearn.metrics import r2_score\n",
    "import warnings\n",
    "warnings.filterwarnings('ignore')\n",
    "\n",
    "plt.style.use('fivethirtyeight')\n",
    "%matplotlib inline"
   ]
  },
  {
   "cell_type": "code",
   "execution_count": 766,
   "metadata": {},
   "outputs": [],
   "source": [
    "df_raw1 = pd.read_csv('data/bespoke_data.csv', encoding=\"latin\", dtype={'CustomerID': str})\n"
   ]
  },
  {
   "cell_type": "code",
   "execution_count": 767,
   "metadata": {},
   "outputs": [
    {
     "data": {
      "text/html": [
       "<div>\n",
       "<style scoped>\n",
       "    .dataframe tbody tr th:only-of-type {\n",
       "        vertical-align: middle;\n",
       "    }\n",
       "\n",
       "    .dataframe tbody tr th {\n",
       "        vertical-align: top;\n",
       "    }\n",
       "\n",
       "    .dataframe thead th {\n",
       "        text-align: right;\n",
       "    }\n",
       "</style>\n",
       "<table border=\"1\" class=\"dataframe\">\n",
       "  <thead>\n",
       "    <tr style=\"text-align: right;\">\n",
       "      <th></th>\n",
       "      <th>InvoiceNo</th>\n",
       "      <th>StockCode</th>\n",
       "      <th>Description</th>\n",
       "      <th>Quantity</th>\n",
       "      <th>InvoiceDate</th>\n",
       "      <th>UnitPrice</th>\n",
       "      <th>CustomerID</th>\n",
       "      <th>State</th>\n",
       "      <th>City</th>\n",
       "      <th>Postcode</th>\n",
       "    </tr>\n",
       "  </thead>\n",
       "  <tbody>\n",
       "    <tr>\n",
       "      <th>0</th>\n",
       "      <td>95599</td>\n",
       "      <td>5735</td>\n",
       "      <td>Red Sea Aquarium Net Cover 60cm x 60cm</td>\n",
       "      <td>1</td>\n",
       "      <td>9/12/2023 22:58</td>\n",
       "      <td>85.0</td>\n",
       "      <td>0</td>\n",
       "      <td>WA</td>\n",
       "      <td>Ballajura</td>\n",
       "      <td>6066</td>\n",
       "    </tr>\n",
       "    <tr>\n",
       "      <th>1</th>\n",
       "      <td>95598</td>\n",
       "      <td>6255</td>\n",
       "      <td>Flipper Cleaner Standard Float</td>\n",
       "      <td>1</td>\n",
       "      <td>9/12/2023 21:00</td>\n",
       "      <td>78.0</td>\n",
       "      <td>0</td>\n",
       "      <td>NSW</td>\n",
       "      <td>North Macquarie</td>\n",
       "      <td>2527</td>\n",
       "    </tr>\n",
       "    <tr>\n",
       "      <th>2</th>\n",
       "      <td>95597</td>\n",
       "      <td>38824</td>\n",
       "      <td>Fluval P50 Preset Submersible Heater 50W 155cm...</td>\n",
       "      <td>2</td>\n",
       "      <td>9/12/2023 20:42</td>\n",
       "      <td>40.0</td>\n",
       "      <td>0</td>\n",
       "      <td>ACT</td>\n",
       "      <td>SPENCE</td>\n",
       "      <td>2615</td>\n",
       "    </tr>\n",
       "    <tr>\n",
       "      <th>3</th>\n",
       "      <td>95595</td>\n",
       "      <td>22427</td>\n",
       "      <td>Aqua One Lifestyle 127 LED Light Unit (52044-L)</td>\n",
       "      <td>1</td>\n",
       "      <td>9/12/2023 15:05</td>\n",
       "      <td>119.0</td>\n",
       "      <td>0</td>\n",
       "      <td>QLD</td>\n",
       "      <td>Algester</td>\n",
       "      <td>4115</td>\n",
       "    </tr>\n",
       "    <tr>\n",
       "      <th>4</th>\n",
       "      <td>95594</td>\n",
       "      <td>38928</td>\n",
       "      <td>Fluval Circulation Pump for FLEX 34L</td>\n",
       "      <td>1</td>\n",
       "      <td>9/12/2023 10:24</td>\n",
       "      <td>45.0</td>\n",
       "      <td>0</td>\n",
       "      <td>VIC</td>\n",
       "      <td>Skye</td>\n",
       "      <td>3977</td>\n",
       "    </tr>\n",
       "  </tbody>\n",
       "</table>\n",
       "</div>"
      ],
      "text/plain": [
       "   InvoiceNo  StockCode                                        Description  \\\n",
       "0      95599       5735             Red Sea Aquarium Net Cover 60cm x 60cm   \n",
       "1      95598       6255                     Flipper Cleaner Standard Float   \n",
       "2      95597      38824  Fluval P50 Preset Submersible Heater 50W 155cm...   \n",
       "3      95595      22427    Aqua One Lifestyle 127 LED Light Unit (52044-L)   \n",
       "4      95594      38928               Fluval Circulation Pump for FLEX 34L   \n",
       "\n",
       "   Quantity      InvoiceDate  UnitPrice CustomerID State             City  \\\n",
       "0         1  9/12/2023 22:58       85.0          0    WA        Ballajura   \n",
       "1         1  9/12/2023 21:00       78.0          0   NSW  North Macquarie   \n",
       "2         2  9/12/2023 20:42       40.0          0   ACT           SPENCE   \n",
       "3         1  9/12/2023 15:05      119.0          0   QLD         Algester   \n",
       "4         1  9/12/2023 10:24       45.0          0   VIC             Skye   \n",
       "\n",
       "  Postcode  \n",
       "0     6066  \n",
       "1     2527  \n",
       "2     2615  \n",
       "3     4115  \n",
       "4     3977  "
      ]
     },
     "execution_count": 767,
     "metadata": {},
     "output_type": "execute_result"
    }
   ],
   "source": [
    "df_raw1.head()"
   ]
  },
  {
   "cell_type": "code",
   "execution_count": 768,
   "metadata": {},
   "outputs": [],
   "source": [
    "df_raw=df_raw1.drop(['Postcode','City'],axis=1)"
   ]
  },
  {
   "cell_type": "code",
   "execution_count": 769,
   "metadata": {},
   "outputs": [
    {
     "data": {
      "text/html": [
       "<div>\n",
       "<style scoped>\n",
       "    .dataframe tbody tr th:only-of-type {\n",
       "        vertical-align: middle;\n",
       "    }\n",
       "\n",
       "    .dataframe tbody tr th {\n",
       "        vertical-align: top;\n",
       "    }\n",
       "\n",
       "    .dataframe thead th {\n",
       "        text-align: right;\n",
       "    }\n",
       "</style>\n",
       "<table border=\"1\" class=\"dataframe\">\n",
       "  <thead>\n",
       "    <tr style=\"text-align: right;\">\n",
       "      <th></th>\n",
       "      <th>InvoiceNo</th>\n",
       "      <th>StockCode</th>\n",
       "      <th>Quantity</th>\n",
       "      <th>UnitPrice</th>\n",
       "    </tr>\n",
       "  </thead>\n",
       "  <tbody>\n",
       "    <tr>\n",
       "      <th>count</th>\n",
       "      <td>13372.000000</td>\n",
       "      <td>13372.000000</td>\n",
       "      <td>13372.000000</td>\n",
       "      <td>13372.000000</td>\n",
       "    </tr>\n",
       "    <tr>\n",
       "      <th>mean</th>\n",
       "      <td>57578.927909</td>\n",
       "      <td>18938.588543</td>\n",
       "      <td>1.407493</td>\n",
       "      <td>101.616322</td>\n",
       "    </tr>\n",
       "    <tr>\n",
       "      <th>std</th>\n",
       "      <td>29080.752531</td>\n",
       "      <td>18273.583980</td>\n",
       "      <td>1.727285</td>\n",
       "      <td>217.971654</td>\n",
       "    </tr>\n",
       "    <tr>\n",
       "      <th>min</th>\n",
       "      <td>9667.000000</td>\n",
       "      <td>3449.000000</td>\n",
       "      <td>1.000000</td>\n",
       "      <td>0.180000</td>\n",
       "    </tr>\n",
       "    <tr>\n",
       "      <th>25%</th>\n",
       "      <td>30525.000000</td>\n",
       "      <td>8324.000000</td>\n",
       "      <td>1.000000</td>\n",
       "      <td>17.000000</td>\n",
       "    </tr>\n",
       "    <tr>\n",
       "      <th>50%</th>\n",
       "      <td>61916.500000</td>\n",
       "      <td>11346.000000</td>\n",
       "      <td>1.000000</td>\n",
       "      <td>38.000000</td>\n",
       "    </tr>\n",
       "    <tr>\n",
       "      <th>75%</th>\n",
       "      <td>87137.000000</td>\n",
       "      <td>20511.000000</td>\n",
       "      <td>1.000000</td>\n",
       "      <td>91.690000</td>\n",
       "    </tr>\n",
       "    <tr>\n",
       "      <th>max</th>\n",
       "      <td>95599.000000</td>\n",
       "      <td>95148.000000</td>\n",
       "      <td>150.000000</td>\n",
       "      <td>7799.980000</td>\n",
       "    </tr>\n",
       "  </tbody>\n",
       "</table>\n",
       "</div>"
      ],
      "text/plain": [
       "          InvoiceNo     StockCode      Quantity     UnitPrice\n",
       "count  13372.000000  13372.000000  13372.000000  13372.000000\n",
       "mean   57578.927909  18938.588543      1.407493    101.616322\n",
       "std    29080.752531  18273.583980      1.727285    217.971654\n",
       "min     9667.000000   3449.000000      1.000000      0.180000\n",
       "25%    30525.000000   8324.000000      1.000000     17.000000\n",
       "50%    61916.500000  11346.000000      1.000000     38.000000\n",
       "75%    87137.000000  20511.000000      1.000000     91.690000\n",
       "max    95599.000000  95148.000000    150.000000   7799.980000"
      ]
     },
     "execution_count": 769,
     "metadata": {},
     "output_type": "execute_result"
    }
   ],
   "source": [
    "df_raw.describe()"
   ]
  },
  {
   "cell_type": "code",
   "execution_count": 770,
   "metadata": {},
   "outputs": [
    {
     "data": {
      "text/plain": [
       "InvoiceNo        int64\n",
       "StockCode        int64\n",
       "Description     object\n",
       "Quantity         int64\n",
       "InvoiceDate     object\n",
       "UnitPrice      float64\n",
       "CustomerID      object\n",
       "State           object\n",
       "dtype: object"
      ]
     },
     "execution_count": 770,
     "metadata": {},
     "output_type": "execute_result"
    }
   ],
   "source": [
    "df_raw.dtypes"
   ]
  },
  {
   "cell_type": "code",
   "execution_count": 771,
   "metadata": {
    "scrolled": true
   },
   "outputs": [
    {
     "data": {
      "text/html": [
       "<div>\n",
       "<style scoped>\n",
       "    .dataframe tbody tr th:only-of-type {\n",
       "        vertical-align: middle;\n",
       "    }\n",
       "\n",
       "    .dataframe tbody tr th {\n",
       "        vertical-align: top;\n",
       "    }\n",
       "\n",
       "    .dataframe thead th {\n",
       "        text-align: right;\n",
       "    }\n",
       "</style>\n",
       "<table border=\"1\" class=\"dataframe\">\n",
       "  <thead>\n",
       "    <tr style=\"text-align: right;\">\n",
       "      <th></th>\n",
       "      <th>InvoiceNo</th>\n",
       "      <th>StockCode</th>\n",
       "      <th>Description</th>\n",
       "      <th>Quantity</th>\n",
       "      <th>InvoiceDate</th>\n",
       "      <th>UnitPrice</th>\n",
       "      <th>CustomerID</th>\n",
       "      <th>State</th>\n",
       "    </tr>\n",
       "  </thead>\n",
       "  <tbody>\n",
       "    <tr>\n",
       "      <th>0</th>\n",
       "      <td>95599</td>\n",
       "      <td>5735</td>\n",
       "      <td>Red Sea Aquarium Net Cover 60cm x 60cm</td>\n",
       "      <td>1</td>\n",
       "      <td>9/12/2023 22:58</td>\n",
       "      <td>85.0</td>\n",
       "      <td>0</td>\n",
       "      <td>WA</td>\n",
       "    </tr>\n",
       "    <tr>\n",
       "      <th>1</th>\n",
       "      <td>95598</td>\n",
       "      <td>6255</td>\n",
       "      <td>Flipper Cleaner Standard Float</td>\n",
       "      <td>1</td>\n",
       "      <td>9/12/2023 21:00</td>\n",
       "      <td>78.0</td>\n",
       "      <td>0</td>\n",
       "      <td>NSW</td>\n",
       "    </tr>\n",
       "  </tbody>\n",
       "</table>\n",
       "</div>"
      ],
      "text/plain": [
       "   InvoiceNo  StockCode                             Description  Quantity  \\\n",
       "0      95599       5735  Red Sea Aquarium Net Cover 60cm x 60cm         1   \n",
       "1      95598       6255          Flipper Cleaner Standard Float         1   \n",
       "\n",
       "       InvoiceDate  UnitPrice CustomerID State  \n",
       "0  9/12/2023 22:58       85.0          0    WA  \n",
       "1  9/12/2023 21:00       78.0          0   NSW  "
      ]
     },
     "execution_count": 771,
     "metadata": {},
     "output_type": "execute_result"
    }
   ],
   "source": [
    "df_raw.head(2)"
   ]
  },
  {
   "cell_type": "markdown",
   "metadata": {},
   "source": [
    "# capculated sales per order field\n",
    "\n",
    "Multilying Quantity with UnitPrice and created totalsales column in dataframe.\n",
    "Dropped unwanted columns."
   ]
  },
  {
   "cell_type": "code",
   "execution_count": 772,
   "metadata": {
    "scrolled": true
   },
   "outputs": [
    {
     "data": {
      "text/html": [
       "<div>\n",
       "<style scoped>\n",
       "    .dataframe tbody tr th:only-of-type {\n",
       "        vertical-align: middle;\n",
       "    }\n",
       "\n",
       "    .dataframe tbody tr th {\n",
       "        vertical-align: top;\n",
       "    }\n",
       "\n",
       "    .dataframe thead th {\n",
       "        text-align: right;\n",
       "    }\n",
       "</style>\n",
       "<table border=\"1\" class=\"dataframe\">\n",
       "  <thead>\n",
       "    <tr style=\"text-align: right;\">\n",
       "      <th></th>\n",
       "      <th>InvoiceNo</th>\n",
       "      <th>Description</th>\n",
       "      <th>InvoiceDate</th>\n",
       "      <th>CustomerID</th>\n",
       "      <th>State</th>\n",
       "      <th>totalsales</th>\n",
       "    </tr>\n",
       "  </thead>\n",
       "  <tbody>\n",
       "    <tr>\n",
       "      <th>0</th>\n",
       "      <td>95599</td>\n",
       "      <td>Red Sea Aquarium Net Cover 60cm x 60cm</td>\n",
       "      <td>9/12/2023 22:58</td>\n",
       "      <td>0</td>\n",
       "      <td>WA</td>\n",
       "      <td>85.0</td>\n",
       "    </tr>\n",
       "    <tr>\n",
       "      <th>1</th>\n",
       "      <td>95598</td>\n",
       "      <td>Flipper Cleaner Standard Float</td>\n",
       "      <td>9/12/2023 21:00</td>\n",
       "      <td>0</td>\n",
       "      <td>NSW</td>\n",
       "      <td>78.0</td>\n",
       "    </tr>\n",
       "    <tr>\n",
       "      <th>2</th>\n",
       "      <td>95597</td>\n",
       "      <td>Fluval P50 Preset Submersible Heater 50W 155cm...</td>\n",
       "      <td>9/12/2023 20:42</td>\n",
       "      <td>0</td>\n",
       "      <td>ACT</td>\n",
       "      <td>80.0</td>\n",
       "    </tr>\n",
       "    <tr>\n",
       "      <th>3</th>\n",
       "      <td>95595</td>\n",
       "      <td>Aqua One Lifestyle 127 LED Light Unit (52044-L)</td>\n",
       "      <td>9/12/2023 15:05</td>\n",
       "      <td>0</td>\n",
       "      <td>QLD</td>\n",
       "      <td>119.0</td>\n",
       "    </tr>\n",
       "    <tr>\n",
       "      <th>4</th>\n",
       "      <td>95594</td>\n",
       "      <td>Fluval Circulation Pump for FLEX 34L</td>\n",
       "      <td>9/12/2023 10:24</td>\n",
       "      <td>0</td>\n",
       "      <td>VIC</td>\n",
       "      <td>45.0</td>\n",
       "    </tr>\n",
       "  </tbody>\n",
       "</table>\n",
       "</div>"
      ],
      "text/plain": [
       "   InvoiceNo                                        Description  \\\n",
       "0      95599             Red Sea Aquarium Net Cover 60cm x 60cm   \n",
       "1      95598                     Flipper Cleaner Standard Float   \n",
       "2      95597  Fluval P50 Preset Submersible Heater 50W 155cm...   \n",
       "3      95595    Aqua One Lifestyle 127 LED Light Unit (52044-L)   \n",
       "4      95594               Fluval Circulation Pump for FLEX 34L   \n",
       "\n",
       "       InvoiceDate CustomerID State  totalsales  \n",
       "0  9/12/2023 22:58          0    WA        85.0  \n",
       "1  9/12/2023 21:00          0   NSW        78.0  \n",
       "2  9/12/2023 20:42          0   ACT        80.0  \n",
       "3  9/12/2023 15:05          0   QLD       119.0  \n",
       "4  9/12/2023 10:24          0   VIC        45.0  "
      ]
     },
     "execution_count": 772,
     "metadata": {},
     "output_type": "execute_result"
    }
   ],
   "source": [
    "df_raw['totalsales']=df_raw['Quantity']*df_raw['UnitPrice']\n",
    "df = df_raw.drop(['UnitPrice','Quantity','StockCode'], axis=1)\n",
    "df.head()"
   ]
  },
  {
   "cell_type": "code",
   "execution_count": 773,
   "metadata": {},
   "outputs": [
    {
     "data": {
      "text/html": [
       "<div>\n",
       "<style scoped>\n",
       "    .dataframe tbody tr th:only-of-type {\n",
       "        vertical-align: middle;\n",
       "    }\n",
       "\n",
       "    .dataframe tbody tr th {\n",
       "        vertical-align: top;\n",
       "    }\n",
       "\n",
       "    .dataframe thead th {\n",
       "        text-align: right;\n",
       "    }\n",
       "</style>\n",
       "<table border=\"1\" class=\"dataframe\">\n",
       "  <thead>\n",
       "    <tr style=\"text-align: right;\">\n",
       "      <th></th>\n",
       "      <th>InvoiceNo</th>\n",
       "      <th>Description</th>\n",
       "      <th>InvoiceDate</th>\n",
       "      <th>CustomerID</th>\n",
       "      <th>State</th>\n",
       "      <th>totalsales</th>\n",
       "    </tr>\n",
       "  </thead>\n",
       "  <tbody>\n",
       "    <tr>\n",
       "      <th>0</th>\n",
       "      <td>95599</td>\n",
       "      <td>Red Sea Aquarium Net Cover 60cm x 60cm</td>\n",
       "      <td>9/12/2023 22:58</td>\n",
       "      <td>0</td>\n",
       "      <td>WA</td>\n",
       "      <td>85.0</td>\n",
       "    </tr>\n",
       "    <tr>\n",
       "      <th>1</th>\n",
       "      <td>95598</td>\n",
       "      <td>Flipper Cleaner Standard Float</td>\n",
       "      <td>9/12/2023 21:00</td>\n",
       "      <td>0</td>\n",
       "      <td>NSW</td>\n",
       "      <td>78.0</td>\n",
       "    </tr>\n",
       "    <tr>\n",
       "      <th>2</th>\n",
       "      <td>95597</td>\n",
       "      <td>Fluval P50 Preset Submersible Heater 50W 155cm...</td>\n",
       "      <td>9/12/2023 20:42</td>\n",
       "      <td>0</td>\n",
       "      <td>ACT</td>\n",
       "      <td>80.0</td>\n",
       "    </tr>\n",
       "    <tr>\n",
       "      <th>3</th>\n",
       "      <td>95595</td>\n",
       "      <td>Aqua One Lifestyle 127 LED Light Unit (52044-L)</td>\n",
       "      <td>9/12/2023 15:05</td>\n",
       "      <td>0</td>\n",
       "      <td>QLD</td>\n",
       "      <td>119.0</td>\n",
       "    </tr>\n",
       "    <tr>\n",
       "      <th>4</th>\n",
       "      <td>95594</td>\n",
       "      <td>Fluval Circulation Pump for FLEX 34L</td>\n",
       "      <td>9/12/2023 10:24</td>\n",
       "      <td>0</td>\n",
       "      <td>VIC</td>\n",
       "      <td>45.0</td>\n",
       "    </tr>\n",
       "  </tbody>\n",
       "</table>\n",
       "</div>"
      ],
      "text/plain": [
       "   InvoiceNo                                        Description  \\\n",
       "0      95599             Red Sea Aquarium Net Cover 60cm x 60cm   \n",
       "1      95598                     Flipper Cleaner Standard Float   \n",
       "2      95597  Fluval P50 Preset Submersible Heater 50W 155cm...   \n",
       "3      95595    Aqua One Lifestyle 127 LED Light Unit (52044-L)   \n",
       "4      95594               Fluval Circulation Pump for FLEX 34L   \n",
       "\n",
       "       InvoiceDate CustomerID State  totalsales  \n",
       "0  9/12/2023 22:58          0    WA        85.0  \n",
       "1  9/12/2023 21:00          0   NSW        78.0  \n",
       "2  9/12/2023 20:42          0   ACT        80.0  \n",
       "3  9/12/2023 15:05          0   QLD       119.0  \n",
       "4  9/12/2023 10:24          0   VIC        45.0  "
      ]
     },
     "execution_count": 773,
     "metadata": {},
     "output_type": "execute_result"
    }
   ],
   "source": [
    "df.head()"
   ]
  },
  {
   "cell_type": "code",
   "execution_count": 774,
   "metadata": {},
   "outputs": [
    {
     "data": {
      "text/plain": [
       "InvoiceNo      0\n",
       "Description    0\n",
       "InvoiceDate    0\n",
       "CustomerID     0\n",
       "State          7\n",
       "totalsales     0\n",
       "dtype: int64"
      ]
     },
     "execution_count": 774,
     "metadata": {},
     "output_type": "execute_result"
    }
   ],
   "source": [
    "df.isnull().sum()"
   ]
  },
  {
   "cell_type": "markdown",
   "metadata": {},
   "source": [
    "Filling NAN with State NSW beacause the payment made instore."
   ]
  },
  {
   "cell_type": "code",
   "execution_count": 775,
   "metadata": {},
   "outputs": [],
   "source": [
    "df_raw['State'].fillna('NSW', inplace=True)"
   ]
  },
  {
   "cell_type": "markdown",
   "metadata": {},
   "source": [
    "So many zeros in customerID so best thing to handle by dropping it from the dataset also we don't want descripton to predict sales amount."
   ]
  },
  {
   "cell_type": "code",
   "execution_count": 776,
   "metadata": {},
   "outputs": [],
   "source": [
    "df = df.drop(columns=['CustomerID'])\n",
    "df = df.drop(columns=['Description'])"
   ]
  },
  {
   "cell_type": "code",
   "execution_count": 777,
   "metadata": {
    "scrolled": true
   },
   "outputs": [
    {
     "data": {
      "text/html": [
       "<div>\n",
       "<style scoped>\n",
       "    .dataframe tbody tr th:only-of-type {\n",
       "        vertical-align: middle;\n",
       "    }\n",
       "\n",
       "    .dataframe tbody tr th {\n",
       "        vertical-align: top;\n",
       "    }\n",
       "\n",
       "    .dataframe thead th {\n",
       "        text-align: right;\n",
       "    }\n",
       "</style>\n",
       "<table border=\"1\" class=\"dataframe\">\n",
       "  <thead>\n",
       "    <tr style=\"text-align: right;\">\n",
       "      <th></th>\n",
       "      <th>InvoiceNo</th>\n",
       "      <th>InvoiceDate</th>\n",
       "      <th>State</th>\n",
       "      <th>totalsales</th>\n",
       "    </tr>\n",
       "  </thead>\n",
       "  <tbody>\n",
       "    <tr>\n",
       "      <th>0</th>\n",
       "      <td>95599</td>\n",
       "      <td>9/12/2023 22:58</td>\n",
       "      <td>WA</td>\n",
       "      <td>85.0</td>\n",
       "    </tr>\n",
       "    <tr>\n",
       "      <th>1</th>\n",
       "      <td>95598</td>\n",
       "      <td>9/12/2023 21:00</td>\n",
       "      <td>NSW</td>\n",
       "      <td>78.0</td>\n",
       "    </tr>\n",
       "    <tr>\n",
       "      <th>2</th>\n",
       "      <td>95597</td>\n",
       "      <td>9/12/2023 20:42</td>\n",
       "      <td>ACT</td>\n",
       "      <td>80.0</td>\n",
       "    </tr>\n",
       "    <tr>\n",
       "      <th>3</th>\n",
       "      <td>95595</td>\n",
       "      <td>9/12/2023 15:05</td>\n",
       "      <td>QLD</td>\n",
       "      <td>119.0</td>\n",
       "    </tr>\n",
       "    <tr>\n",
       "      <th>4</th>\n",
       "      <td>95594</td>\n",
       "      <td>9/12/2023 10:24</td>\n",
       "      <td>VIC</td>\n",
       "      <td>45.0</td>\n",
       "    </tr>\n",
       "  </tbody>\n",
       "</table>\n",
       "</div>"
      ],
      "text/plain": [
       "   InvoiceNo      InvoiceDate State  totalsales\n",
       "0      95599  9/12/2023 22:58    WA        85.0\n",
       "1      95598  9/12/2023 21:00   NSW        78.0\n",
       "2      95597  9/12/2023 20:42   ACT        80.0\n",
       "3      95595  9/12/2023 15:05   QLD       119.0\n",
       "4      95594  9/12/2023 10:24   VIC        45.0"
      ]
     },
     "execution_count": 777,
     "metadata": {},
     "output_type": "execute_result"
    }
   ],
   "source": [
    "df.head()"
   ]
  },
  {
   "cell_type": "markdown",
   "metadata": {},
   "source": [
    "Also calculated WeekendFlag by weekend is 0 and weekday is 1. "
   ]
  },
  {
   "cell_type": "code",
   "execution_count": 778,
   "metadata": {
    "scrolled": true
   },
   "outputs": [
    {
     "name": "stdout",
     "output_type": "stream",
     "text": [
      "   InvoiceNo         InvoiceDate State  totalsales WeekendFlag\n",
      "0      95599 2023-09-12 22:58:00    WA        85.0           0\n",
      "1      95598 2023-09-12 21:00:00   NSW        78.0           0\n",
      "2      95597 2023-09-12 20:42:00   ACT        80.0           0\n",
      "3      95595 2023-09-12 15:05:00   QLD       119.0           0\n",
      "4      95594 2023-09-12 10:24:00   VIC        45.0           0\n"
     ]
    }
   ],
   "source": [
    "df['InvoiceDate'] = pd.to_datetime(df['InvoiceDate'])  # Convert 'InvoiceDate' to datetime format\n",
    "\n",
    "# Create a new column 'WeekendFlag'\n",
    "df['WeekendFlag'] = (df['InvoiceDate'].dt.dayofweek // 5).astype('category')\n",
    "\n",
    "# Display the updated DataFrame\n",
    "print(df.head())\n"
   ]
  },
  {
   "cell_type": "markdown",
   "metadata": {},
   "source": [
    "From WeekendFlag can clearly see that salesvolume increasing on weekend."
   ]
  },
  {
   "cell_type": "code",
   "execution_count": 779,
   "metadata": {
    "scrolled": true
   },
   "outputs": [
    {
     "data": {
      "image/png": "[encoded data removed]",
      "text/plain": [
       "<Figure size 864x432 with 1 Axes>"
      ]
     },
     "metadata": {
      "needs_background": "light"
     },
     "output_type": "display_data"
    }
   ],
   "source": [
    "# Plotting the trend of 'totalsales' over time\n",
    "plt.figure(figsize=(12, 6))\n",
    "sns.lineplot(x='InvoiceDate', y='totalsales', data=df, hue='WeekendFlag', marker='o')\n",
    "plt.title('Trend of totalsales Over Time')\n",
    "plt.xlabel('InvoiceDate')\n",
    "plt.ylabel('totalsales')\n",
    "plt.legend(title='WeekendFlag')\n",
    "plt.show()\n"
   ]
  },
  {
   "cell_type": "markdown",
   "metadata": {},
   "source": [
    "If we have DateTime data it's better to cast it to DateTime type.\n"
   ]
  },
  {
   "cell_type": "code",
   "execution_count": 780,
   "metadata": {},
   "outputs": [
    {
     "data": {
      "text/plain": [
       "<AxesSubplot:xlabel='InvoiceDate'>"
      ]
     },
     "execution_count": 780,
     "metadata": {},
     "output_type": "execute_result"
    },
    {
     "data": {
      "text/plain": [
       "<Figure size 1296x432 with 0 Axes>"
      ]
     },
     "metadata": {},
     "output_type": "display_data"
    },
    {
     "data": {
      "image/png": "[encoded data removed]",
      "text/plain": [
       "<Figure size 432x288 with 1 Axes>"
      ]
     },
     "metadata": {
      "needs_background": "light"
     },
     "output_type": "display_data"
    }
   ],
   "source": [
    "df1=df\n",
    "df1['InvoiceDate'] = pd.to_datetime(df1['InvoiceDate'])\n",
    "df1 = df1.set_index('InvoiceDate')\n",
    "df_ts = df1[['totalsales']]\n",
    "df_ts.head()\n",
    "plt.figure(figsize=(18,6))\n",
    "df_resample = df_ts.resample('W').sum()\n",
    "df_resample.plot()"
   ]
  },
  {
   "cell_type": "markdown",
   "metadata": {},
   "source": [
    "Removing time from InvoiceDate column."
   ]
  },
  {
   "cell_type": "code",
   "execution_count": 781,
   "metadata": {
    "scrolled": false
   },
   "outputs": [
    {
     "data": {
      "text/html": [
       "<div>\n",
       "<style scoped>\n",
       "    .dataframe tbody tr th:only-of-type {\n",
       "        vertical-align: middle;\n",
       "    }\n",
       "\n",
       "    .dataframe tbody tr th {\n",
       "        vertical-align: top;\n",
       "    }\n",
       "\n",
       "    .dataframe thead th {\n",
       "        text-align: right;\n",
       "    }\n",
       "</style>\n",
       "<table border=\"1\" class=\"dataframe\">\n",
       "  <thead>\n",
       "    <tr style=\"text-align: right;\">\n",
       "      <th></th>\n",
       "      <th>InvoiceNo</th>\n",
       "      <th>InvoiceDate</th>\n",
       "      <th>State</th>\n",
       "      <th>totalsales</th>\n",
       "      <th>WeekendFlag</th>\n",
       "    </tr>\n",
       "  </thead>\n",
       "  <tbody>\n",
       "    <tr>\n",
       "      <th>0</th>\n",
       "      <td>95599</td>\n",
       "      <td>2023-09-12</td>\n",
       "      <td>WA</td>\n",
       "      <td>85.0</td>\n",
       "      <td>0</td>\n",
       "    </tr>\n",
       "    <tr>\n",
       "      <th>1</th>\n",
       "      <td>95598</td>\n",
       "      <td>2023-09-12</td>\n",
       "      <td>NSW</td>\n",
       "      <td>78.0</td>\n",
       "      <td>0</td>\n",
       "    </tr>\n",
       "    <tr>\n",
       "      <th>2</th>\n",
       "      <td>95597</td>\n",
       "      <td>2023-09-12</td>\n",
       "      <td>ACT</td>\n",
       "      <td>80.0</td>\n",
       "      <td>0</td>\n",
       "    </tr>\n",
       "    <tr>\n",
       "      <th>3</th>\n",
       "      <td>95595</td>\n",
       "      <td>2023-09-12</td>\n",
       "      <td>QLD</td>\n",
       "      <td>119.0</td>\n",
       "      <td>0</td>\n",
       "    </tr>\n",
       "    <tr>\n",
       "      <th>4</th>\n",
       "      <td>95594</td>\n",
       "      <td>2023-09-12</td>\n",
       "      <td>VIC</td>\n",
       "      <td>45.0</td>\n",
       "      <td>0</td>\n",
       "    </tr>\n",
       "  </tbody>\n",
       "</table>\n",
       "</div>"
      ],
      "text/plain": [
       "   InvoiceNo InvoiceDate State  totalsales WeekendFlag\n",
       "0      95599  2023-09-12    WA        85.0           0\n",
       "1      95598  2023-09-12   NSW        78.0           0\n",
       "2      95597  2023-09-12   ACT        80.0           0\n",
       "3      95595  2023-09-12   QLD       119.0           0\n",
       "4      95594  2023-09-12   VIC        45.0           0"
      ]
     },
     "execution_count": 781,
     "metadata": {},
     "output_type": "execute_result"
    }
   ],
   "source": [
    "df['InvoiceDate'] = pd.to_datetime(df['InvoiceDate'])\n",
    "\n",
    "df['InvoiceDate'] = df['InvoiceDate'].dt.date\n",
    "# Display the modified DataFrame\n",
    "df.head()\n"
   ]
  },
  {
   "cell_type": "code",
   "execution_count": 782,
   "metadata": {},
   "outputs": [
    {
     "data": {
      "image/png": "[encoded data removed]",
      "text/plain": [
       "<Figure size 360x360 with 6 Axes>"
      ]
     },
     "metadata": {
      "needs_background": "light"
     },
     "output_type": "display_data"
    }
   ],
   "source": [
    "## Explore relationships between key features and the target variable\n",
    "sns.pairplot(df)\n",
    "plt.suptitle(\"Pairplot of Key Features\", y=1.02, size=20)\n",
    "plt.show()"
   ]
  },
  {
   "cell_type": "code",
   "execution_count": 783,
   "metadata": {},
   "outputs": [
    {
     "data": {
      "image/png": "[encoded data removed]",
      "text/plain": [
       "<Figure size 720x576 with 2 Axes>"
      ]
     },
     "metadata": {
      "needs_background": "light"
     },
     "output_type": "display_data"
    }
   ],
   "source": [
    "## Correlation heatmap to visualize the correlation between features\n",
    "plt.figure(figsize=(10, 8))\n",
    "sns.heatmap(df.corr(), annot=True, cmap='coolwarm', fmt=\".2f\", linewidths=0.5)\n",
    "plt.title(\"Correlation Heatmap\")\n",
    "plt.show()"
   ]
  },
  {
   "cell_type": "markdown",
   "metadata": {},
   "source": [
    "# Checking the ordervolume by States from NSW and outside the NSW"
   ]
  },
  {
   "cell_type": "code",
   "execution_count": 784,
   "metadata": {},
   "outputs": [
    {
     "data": {
      "text/plain": [
       "(array([0]), [Text(0, 0, 'NSW')])"
      ]
     },
     "execution_count": 784,
     "metadata": {},
     "output_type": "execute_result"
    },
    {
     "data": {
      "image/png": "[encoded data removed]",
      "text/plain": [
       "<Figure size 216x432 with 1 Axes>"
      ]
     },
     "metadata": {
      "needs_background": "light"
     },
     "output_type": "display_data"
    }
   ],
   "source": [
    "plt.figure(figsize=(3,6))\n",
    "sns.countplot(x=df[df['State'] == 'NSW']['State'])\n",
    "plt.xticks(rotation=90)"
   ]
  },
  {
   "cell_type": "code",
   "execution_count": 785,
   "metadata": {
    "scrolled": false
   },
   "outputs": [
    {
     "data": {
      "text/plain": [
       "(array([0, 1, 2, 3, 4, 5, 6, 7, 8]),\n",
       " [Text(0, 0, 'WA'),\n",
       "  Text(1, 0, 'ACT'),\n",
       "  Text(2, 0, 'QLD'),\n",
       "  Text(3, 0, 'VIC'),\n",
       "  Text(4, 0, 'NT'),\n",
       "  Text(5, 0, 'SA'),\n",
       "  Text(6, 0, 'TAS'),\n",
       "  Text(7, 0, 'England'),\n",
       "  Text(8, 0, 'Australia')])"
      ]
     },
     "execution_count": 785,
     "metadata": {},
     "output_type": "execute_result"
    },
    {
     "data": {
      "image/png": "[encoded data removed]",
      "text/plain": [
       "<Figure size 1296x432 with 1 Axes>"
      ]
     },
     "metadata": {
      "needs_background": "light"
     },
     "output_type": "display_data"
    }
   ],
   "source": [
    "plt.figure(figsize=(18,6))\n",
    "sns.countplot(x=df[df['State'] != 'NSW']['State'])\n",
    "plt.xticks(rotation=90)"
   ]
  },
  {
   "cell_type": "markdown",
   "metadata": {},
   "source": [
    "# Calculating Total Sales and Order per day\n",
    "### Preparing data for modeling and feature creation\n",
    "- Now comes the most fun part of the project - building a model.\n",
    "- To do this we will need to create a few more additional features to make our model more sophisticated."
   ]
  },
  {
   "cell_type": "code",
   "execution_count": 786,
   "metadata": {
    "scrolled": true
   },
   "outputs": [
    {
     "data": {
      "text/html": [
       "<div>\n",
       "<style scoped>\n",
       "    .dataframe tbody tr th:only-of-type {\n",
       "        vertical-align: middle;\n",
       "    }\n",
       "\n",
       "    .dataframe tbody tr th {\n",
       "        vertical-align: top;\n",
       "    }\n",
       "\n",
       "    .dataframe thead th {\n",
       "        text-align: right;\n",
       "    }\n",
       "</style>\n",
       "<table border=\"1\" class=\"dataframe\">\n",
       "  <thead>\n",
       "    <tr style=\"text-align: right;\">\n",
       "      <th></th>\n",
       "      <th>InvoiceNo</th>\n",
       "      <th>InvoiceDate</th>\n",
       "      <th>State</th>\n",
       "      <th>totalsales_x</th>\n",
       "      <th>WeekendFlag</th>\n",
       "      <th>TotalOrders</th>\n",
       "      <th>totalsales_y</th>\n",
       "    </tr>\n",
       "  </thead>\n",
       "  <tbody>\n",
       "    <tr>\n",
       "      <th>0</th>\n",
       "      <td>95599</td>\n",
       "      <td>2023-09-12</td>\n",
       "      <td>WA</td>\n",
       "      <td>85.0</td>\n",
       "      <td>0</td>\n",
       "      <td>5</td>\n",
       "      <td>407.0</td>\n",
       "    </tr>\n",
       "    <tr>\n",
       "      <th>1</th>\n",
       "      <td>95598</td>\n",
       "      <td>2023-09-12</td>\n",
       "      <td>NSW</td>\n",
       "      <td>78.0</td>\n",
       "      <td>0</td>\n",
       "      <td>5</td>\n",
       "      <td>407.0</td>\n",
       "    </tr>\n",
       "    <tr>\n",
       "      <th>2</th>\n",
       "      <td>95597</td>\n",
       "      <td>2023-09-12</td>\n",
       "      <td>ACT</td>\n",
       "      <td>80.0</td>\n",
       "      <td>0</td>\n",
       "      <td>5</td>\n",
       "      <td>407.0</td>\n",
       "    </tr>\n",
       "    <tr>\n",
       "      <th>3</th>\n",
       "      <td>95595</td>\n",
       "      <td>2023-09-12</td>\n",
       "      <td>QLD</td>\n",
       "      <td>119.0</td>\n",
       "      <td>0</td>\n",
       "      <td>5</td>\n",
       "      <td>407.0</td>\n",
       "    </tr>\n",
       "    <tr>\n",
       "      <th>4</th>\n",
       "      <td>95594</td>\n",
       "      <td>2023-09-12</td>\n",
       "      <td>VIC</td>\n",
       "      <td>45.0</td>\n",
       "      <td>0</td>\n",
       "      <td>5</td>\n",
       "      <td>407.0</td>\n",
       "    </tr>\n",
       "  </tbody>\n",
       "</table>\n",
       "</div>"
      ],
      "text/plain": [
       "   InvoiceNo InvoiceDate State  totalsales_x WeekendFlag  TotalOrders  \\\n",
       "0      95599  2023-09-12    WA          85.0           0            5   \n",
       "1      95598  2023-09-12   NSW          78.0           0            5   \n",
       "2      95597  2023-09-12   ACT          80.0           0            5   \n",
       "3      95595  2023-09-12   QLD         119.0           0            5   \n",
       "4      95594  2023-09-12   VIC          45.0           0            5   \n",
       "\n",
       "   totalsales_y  \n",
       "0         407.0  \n",
       "1         407.0  \n",
       "2         407.0  \n",
       "3         407.0  \n",
       "4         407.0  "
      ]
     },
     "execution_count": 786,
     "metadata": {},
     "output_type": "execute_result"
    }
   ],
   "source": [
    "df['InvoiceDate'] = pd.to_datetime(df['InvoiceDate'])\n",
    "df['InvoiceDate'] = df['InvoiceDate'].dt.date\n",
    "\n",
    "# Count total orders per day\n",
    "total_orders_per_day = df.groupby('InvoiceDate')['InvoiceNo'].nunique().reset_index()\n",
    "total_orders_per_day.columns = ['InvoiceDate', 'TotalOrders']\n",
    "\n",
    "# Calculate total sales per day\n",
    "total_sales_per_day = df.groupby('InvoiceDate')['totalsales'].sum().reset_index()\n",
    "\n",
    "# Merge the two DataFrames on 'InvoiceDate'\n",
    "result_df = pd.merge(df, total_orders_per_day, on='InvoiceDate', how='left')\n",
    "result_df = pd.merge(result_df, total_sales_per_day, on='InvoiceDate', how='left')\n",
    "\n",
    "# Display the modified DataFrame\n",
    "result_df.head()\n"
   ]
  },
  {
   "cell_type": "code",
   "execution_count": 788,
   "metadata": {},
   "outputs": [
    {
     "data": {
      "text/html": [
       "<div>\n",
       "<style scoped>\n",
       "    .dataframe tbody tr th:only-of-type {\n",
       "        vertical-align: middle;\n",
       "    }\n",
       "\n",
       "    .dataframe tbody tr th {\n",
       "        vertical-align: top;\n",
       "    }\n",
       "\n",
       "    .dataframe thead th {\n",
       "        text-align: right;\n",
       "    }\n",
       "</style>\n",
       "<table border=\"1\" class=\"dataframe\">\n",
       "  <thead>\n",
       "    <tr style=\"text-align: right;\">\n",
       "      <th></th>\n",
       "      <th>InvoiceDate</th>\n",
       "      <th>State</th>\n",
       "      <th>WeekendFlag</th>\n",
       "      <th>TotalOrders</th>\n",
       "      <th>Sales</th>\n",
       "    </tr>\n",
       "  </thead>\n",
       "  <tbody>\n",
       "    <tr>\n",
       "      <th>0</th>\n",
       "      <td>2023-09-12</td>\n",
       "      <td>WA</td>\n",
       "      <td>0</td>\n",
       "      <td>5</td>\n",
       "      <td>407.0</td>\n",
       "    </tr>\n",
       "    <tr>\n",
       "      <th>1</th>\n",
       "      <td>2023-09-12</td>\n",
       "      <td>NSW</td>\n",
       "      <td>0</td>\n",
       "      <td>5</td>\n",
       "      <td>407.0</td>\n",
       "    </tr>\n",
       "    <tr>\n",
       "      <th>2</th>\n",
       "      <td>2023-09-12</td>\n",
       "      <td>ACT</td>\n",
       "      <td>0</td>\n",
       "      <td>5</td>\n",
       "      <td>407.0</td>\n",
       "    </tr>\n",
       "    <tr>\n",
       "      <th>3</th>\n",
       "      <td>2023-09-12</td>\n",
       "      <td>QLD</td>\n",
       "      <td>0</td>\n",
       "      <td>5</td>\n",
       "      <td>407.0</td>\n",
       "    </tr>\n",
       "    <tr>\n",
       "      <th>4</th>\n",
       "      <td>2023-09-12</td>\n",
       "      <td>VIC</td>\n",
       "      <td>0</td>\n",
       "      <td>5</td>\n",
       "      <td>407.0</td>\n",
       "    </tr>\n",
       "  </tbody>\n",
       "</table>\n",
       "</div>"
      ],
      "text/plain": [
       "  InvoiceDate State WeekendFlag  TotalOrders  Sales\n",
       "0  2023-09-12    WA           0            5  407.0\n",
       "1  2023-09-12   NSW           0            5  407.0\n",
       "2  2023-09-12   ACT           0            5  407.0\n",
       "3  2023-09-12   QLD           0            5  407.0\n",
       "4  2023-09-12   VIC           0            5  407.0"
      ]
     },
     "execution_count": 788,
     "metadata": {},
     "output_type": "execute_result"
    }
   ],
   "source": [
    "df_by_day = result_df.drop(['InvoiceNo','totalsales_x'], axis=1)\n",
    "df_by_day.rename(columns={'totalsales_y': 'Sales'}, inplace=True)\n",
    "\n",
    "# Display the modified DataFrame\n",
    "df_by_day.head()"
   ]
  },
  {
   "cell_type": "markdown",
   "metadata": {},
   "source": [
    "# Detecting outliers\n",
    "- There are a few different methods to detect outliers:\n",
    "\n",
    "    - box plots,\n",
    "    - using IQR,\n",
    "    - scatter plot also works in some cases (and this is one of those)."
   ]
  },
  {
   "cell_type": "code",
   "execution_count": 742,
   "metadata": {
    "scrolled": false
   },
   "outputs": [
    {
     "data": {
      "text/plain": [
       "<matplotlib.collections.PathCollection at 0x1a954be9640>"
      ]
     },
     "execution_count": 742,
     "metadata": {},
     "output_type": "execute_result"
    },
    {
     "data": {
      "image/png": "[encoded data removed]",
      "text/plain": [
       "<Figure size 1296x432 with 1 Axes>"
      ]
     },
     "metadata": {
      "needs_background": "light"
     },
     "output_type": "display_data"
    }
   ],
   "source": [
    "plt.figure(figsize=(18,6))\n",
    "plt.scatter(x=dff_by_day.index, y=dff_by_day['Sales'])"
   ]
  },
  {
   "cell_type": "code",
   "execution_count": 739,
   "metadata": {
    "scrolled": true
   },
   "outputs": [
    {
     "data": {
      "text/html": [
       "<div>\n",
       "<style scoped>\n",
       "    .dataframe tbody tr th:only-of-type {\n",
       "        vertical-align: middle;\n",
       "    }\n",
       "\n",
       "    .dataframe tbody tr th {\n",
       "        vertical-align: top;\n",
       "    }\n",
       "\n",
       "    .dataframe thead th {\n",
       "        text-align: right;\n",
       "    }\n",
       "</style>\n",
       "<table border=\"1\" class=\"dataframe\">\n",
       "  <thead>\n",
       "    <tr style=\"text-align: right;\">\n",
       "      <th></th>\n",
       "      <th>TotalOrders</th>\n",
       "      <th>Sales</th>\n",
       "      <th>State_Australia</th>\n",
       "      <th>State_England</th>\n",
       "      <th>State_NSW</th>\n",
       "      <th>State_NT</th>\n",
       "      <th>State_QLD</th>\n",
       "      <th>State_SA</th>\n",
       "      <th>State_TAS</th>\n",
       "      <th>State_VIC</th>\n",
       "      <th>State_WA</th>\n",
       "    </tr>\n",
       "  </thead>\n",
       "  <tbody>\n",
       "    <tr>\n",
       "      <th>0.050</th>\n",
       "      <td>-1.097852</td>\n",
       "      <td>5.466540</td>\n",
       "      <td>0.0</td>\n",
       "      <td>0.0</td>\n",
       "      <td>0.0</td>\n",
       "      <td>0.0</td>\n",
       "      <td>0.0</td>\n",
       "      <td>0.0</td>\n",
       "      <td>0.0</td>\n",
       "      <td>0.0</td>\n",
       "      <td>0.0</td>\n",
       "    </tr>\n",
       "    <tr>\n",
       "      <th>0.950</th>\n",
       "      <td>2.320312</td>\n",
       "      <td>8.655174</td>\n",
       "      <td>0.0</td>\n",
       "      <td>0.0</td>\n",
       "      <td>1.0</td>\n",
       "      <td>0.0</td>\n",
       "      <td>1.0</td>\n",
       "      <td>0.0</td>\n",
       "      <td>0.0</td>\n",
       "      <td>1.0</td>\n",
       "      <td>1.0</td>\n",
       "    </tr>\n",
       "    <tr>\n",
       "      <th>0.980</th>\n",
       "      <td>2.860022</td>\n",
       "      <td>8.978832</td>\n",
       "      <td>0.0</td>\n",
       "      <td>0.0</td>\n",
       "      <td>1.0</td>\n",
       "      <td>0.0</td>\n",
       "      <td>1.0</td>\n",
       "      <td>1.0</td>\n",
       "      <td>1.0</td>\n",
       "      <td>1.0</td>\n",
       "      <td>1.0</td>\n",
       "    </tr>\n",
       "    <tr>\n",
       "      <th>0.990</th>\n",
       "      <td>3.399732</td>\n",
       "      <td>9.486301</td>\n",
       "      <td>0.0</td>\n",
       "      <td>0.0</td>\n",
       "      <td>1.0</td>\n",
       "      <td>0.0</td>\n",
       "      <td>1.0</td>\n",
       "      <td>1.0</td>\n",
       "      <td>1.0</td>\n",
       "      <td>1.0</td>\n",
       "      <td>1.0</td>\n",
       "    </tr>\n",
       "    <tr>\n",
       "      <th>0.999</th>\n",
       "      <td>5.918379</td>\n",
       "      <td>9.651014</td>\n",
       "      <td>0.0</td>\n",
       "      <td>0.0</td>\n",
       "      <td>1.0</td>\n",
       "      <td>1.0</td>\n",
       "      <td>1.0</td>\n",
       "      <td>1.0</td>\n",
       "      <td>1.0</td>\n",
       "      <td>1.0</td>\n",
       "      <td>1.0</td>\n",
       "    </tr>\n",
       "  </tbody>\n",
       "</table>\n",
       "</div>"
      ],
      "text/plain": [
       "       TotalOrders     Sales  State_Australia  State_England  State_NSW  \\\n",
       "0.050    -1.097852  5.466540              0.0            0.0        0.0   \n",
       "0.950     2.320312  8.655174              0.0            0.0        1.0   \n",
       "0.980     2.860022  8.978832              0.0            0.0        1.0   \n",
       "0.990     3.399732  9.486301              0.0            0.0        1.0   \n",
       "0.999     5.918379  9.651014              0.0            0.0        1.0   \n",
       "\n",
       "       State_NT  State_QLD  State_SA  State_TAS  State_VIC  State_WA  \n",
       "0.050       0.0        0.0       0.0        0.0        0.0       0.0  \n",
       "0.950       0.0        1.0       0.0        0.0        1.0       1.0  \n",
       "0.980       0.0        1.0       1.0        1.0        1.0       1.0  \n",
       "0.990       0.0        1.0       1.0        1.0        1.0       1.0  \n",
       "0.999       1.0        1.0       1.0        1.0        1.0       1.0  "
      ]
     },
     "execution_count": 739,
     "metadata": {},
     "output_type": "execute_result"
    }
   ],
   "source": [
    "df_by_day.quantile([0.05, 0.95, 0.98, 0.99, 0.999])"
   ]
  },
  {
   "cell_type": "code",
   "execution_count": 564,
   "metadata": {
    "scrolled": true
   },
   "outputs": [
    {
     "data": {
      "text/plain": [
       "(array([-2000.,     0.,  2000.,  4000.,  6000.,  8000., 10000., 12000.,\n",
       "        14000., 16000.]),\n",
       " [Text(0, 0, ''),\n",
       "  Text(0, 0, ''),\n",
       "  Text(0, 0, ''),\n",
       "  Text(0, 0, ''),\n",
       "  Text(0, 0, ''),\n",
       "  Text(0, 0, ''),\n",
       "  Text(0, 0, ''),\n",
       "  Text(0, 0, ''),\n",
       "  Text(0, 0, ''),\n",
       "  Text(0, 0, '')])"
      ]
     },
     "execution_count": 564,
     "metadata": {},
     "output_type": "execute_result"
    },
    {
     "data": {
      "image/png": "[encoded data removed]",
      "text/plain": [
       "<Figure size 432x288 with 1 Axes>"
      ]
     },
     "metadata": {
      "needs_background": "light"
     },
     "output_type": "display_data"
    }
   ],
   "source": [
    "df_quantile = df_by_day[df_by_day['Sales'] < 8000]\n",
    "plt.scatter(x=df_quantile.index, y=df_quantile['Sales'])\n",
    "plt.xticks(rotation=90)"
   ]
  },
  {
   "cell_type": "code",
   "execution_count": 565,
   "metadata": {
    "scrolled": true
   },
   "outputs": [
    {
     "data": {
      "text/plain": [
       "<AxesSubplot:ylabel='Density'>"
      ]
     },
     "execution_count": 565,
     "metadata": {},
     "output_type": "execute_result"
    },
    {
     "data": {
      "image/png": "[encoded data removed]",
      "text/plain": [
       "<Figure size 864x288 with 1 Axes>"
      ]
     },
     "metadata": {
      "needs_background": "light"
     },
     "output_type": "display_data"
    }
   ],
   "source": [
    "plt.figure(figsize=(12,4))\n",
    "sns.distplot(df_quantile[df_quantile['Sales'] < 5000]['Sales'].values, kde=True, bins=10)"
   ]
  },
  {
   "cell_type": "code",
   "execution_count": 566,
   "metadata": {
    "scrolled": true
   },
   "outputs": [
    {
     "data": {
      "text/plain": [
       "<AxesSubplot:ylabel='Density'>"
      ]
     },
     "execution_count": 566,
     "metadata": {},
     "output_type": "execute_result"
    },
    {
     "data": {
      "image/png": "[encoded data removed]",
      "text/plain": [
       "<Figure size 864x288 with 1 Axes>"
      ]
     },
     "metadata": {
      "needs_background": "light"
     },
     "output_type": "display_data"
    }
   ],
   "source": [
    "plt.figure(figsize=(12,4))\n",
    "sns.distplot(df_quantile[df_quantile['Sales'] < 2500]['Sales'].values, kde=True, bins=10)"
   ]
  },
  {
   "cell_type": "code",
   "execution_count": 789,
   "metadata": {},
   "outputs": [
    {
     "name": "stdout",
     "output_type": "stream",
     "text": [
      "Training Set Evaluation:\n",
      "Mean Squared Error: 0.4382737322583532\n",
      "R-squared: 0.5233624995680408\n",
      "\n",
      "Testing Set Evaluation:\n",
      "Mean Squared Error: 0.4779741080032715\n",
      "R-squared: 0.5000337754263651\n"
     ]
    }
   ],
   "source": [
    "df_by_day['InvoiceDate'] = pd.to_datetime(df_by_day['InvoiceDate'])\n",
    "\n",
    "\n",
    "# Create Dummies\n",
    "df_by_day = pd.get_dummies(df_by_day, columns=['State'], drop_first=True)\n",
    "\n",
    "# Log Transformation\n",
    "df_by_day['Sales'] = np.log1p(df_by_day['Sales'])\n",
    "\n",
    "# Feature Scaling (if needed)\n",
    "scaler = StandardScaler()\n",
    "numeric_features = ['TotalOrders']\n",
    "df_by_day[numeric_features] = scaler.fit_transform(df_by_day[numeric_features])\n",
    "\n",
    "# Prepare X (features) and y (target)\n",
    "X = df_by_day.drop(['InvoiceDate','Sales'], axis=1)\n",
    "y = df_by_day['Sales']\n",
    "\n",
    "# Split the data into training and testing sets\n",
    "X_train, X_test, y_train, y_test = train_test_split(X, y, test_size=0.2, random_state=42)\n",
    "\n",
    "# Train the linear regression model\n",
    "model = LinearRegression()\n",
    "model.fit(X_train, y_train)\n",
    "\n",
    "## Model Evaluation\n",
    "y_train_pred = model.predict(X_train)\n",
    "mse_train = mean_squared_error(y_train, y_train_pred)\n",
    "r2_train = r2_score(y_train, y_train_pred)\n",
    "\n",
    "y_test_pred = model.predict(X_test)\n",
    "mse_test = mean_squared_error(y_test, y_test_pred)\n",
    "r2_test = r2_score(y_test, y_test_pred)\n",
    "\n",
    "print(\"Training Set Evaluation:\")\n",
    "print(f'Mean Squared Error: {mse_train}')\n",
    "print(f'R-squared: {r2_train}')\n",
    "\n",
    "print(\"\\nTesting Set Evaluation:\")\n",
    "print(f'Mean Squared Error: {mse_test}')\n",
    "print(f'R-squared: {r2_test}')\n",
    "\n"
   ]
  },
  {
   "cell_type": "code",
   "execution_count": 790,
   "metadata": {
    "scrolled": false
   },
   "outputs": [
    {
     "name": "stdout",
     "output_type": "stream",
     "text": [
      "                            OLS Regression Results                            \n",
      "==============================================================================\n",
      "Dep. Variable:                  Sales   R-squared:                       0.523\n",
      "Model:                            OLS   Adj. R-squared:                  0.523\n",
      "Method:                 Least Squares   F-statistic:                     1067.\n",
      "Date:                Fri, 15 Dec 2023   Prob (F-statistic):               0.00\n",
      "Time:                        19:05:08   Log-Likelihood:                -10766.\n",
      "No. Observations:               10697   AIC:                         2.156e+04\n",
      "Df Residuals:                   10685   BIC:                         2.164e+04\n",
      "Df Model:                          11                                         \n",
      "Covariance Type:            nonrobust                                         \n",
      "===================================================================================\n",
      "                      coef    std err          t      P>|t|      [0.025      0.975]\n",
      "-----------------------------------------------------------------------------------\n",
      "const               7.2765      0.041    179.637      0.000       7.197       7.356\n",
      "WeekendFlag         0.0248      0.014      1.740      0.082      -0.003       0.053\n",
      "TotalOrders         0.6927      0.006    108.134      0.000       0.680       0.705\n",
      "State_Australia    -0.0659      0.334     -0.197      0.844      -0.720       0.588\n",
      "State_England       1.0748      0.664      1.620      0.105      -0.226       2.376\n",
      "State_NSW          -0.0897      0.041     -2.176      0.030      -0.170      -0.009\n",
      "State_NT           -0.0810      0.119     -0.680      0.496      -0.314       0.152\n",
      "State_QLD          -0.1043      0.043     -2.401      0.016      -0.190      -0.019\n",
      "State_SA           -0.1109      0.054     -2.069      0.039      -0.216      -0.006\n",
      "State_TAS          -0.0143      0.059     -0.243      0.808      -0.130       0.101\n",
      "State_VIC          -0.0602      0.044     -1.373      0.170      -0.146       0.026\n",
      "State_WA           -0.1281      0.048     -2.691      0.007      -0.221      -0.035\n",
      "==============================================================================\n",
      "Omnibus:                      741.424   Durbin-Watson:                   1.988\n",
      "Prob(Omnibus):                  0.000   Jarque-Bera (JB):             1245.810\n",
      "Skew:                          -0.534   Prob(JB):                    2.99e-271\n",
      "Kurtosis:                       4.287   Cond. No.                         127.\n",
      "==============================================================================\n",
      "\n",
      "Notes:\n",
      "[1] Standard Errors assume that the covariance matrix of the errors is correctly specified.\n"
     ]
    }
   ],
   "source": [
    "# Add a constant term for the intercept\n",
    "X_train_with_const = sm.add_constant(X_train)\n",
    "\n",
    "# Fit the model\n",
    "model_stats = sm.OLS(y_train, X_train_with_const).fit()\n",
    "\n",
    "# Display the summary\n",
    "print(model_stats.summary())"
   ]
  },
  {
   "cell_type": "code",
   "execution_count": 791,
   "metadata": {},
   "outputs": [
    {
     "data": {
      "image/png": "[encoded data removed]",
      "text/plain": [
       "<Figure size 432x288 with 1 Axes>"
      ]
     },
     "metadata": {
      "needs_background": "light"
     },
     "output_type": "display_data"
    },
    {
     "data": {
      "text/plain": [
       "<Figure size 576x432 with 0 Axes>"
      ]
     },
     "metadata": {},
     "output_type": "display_data"
    }
   ],
   "source": [
    "## Validate assumptions\n",
    "# QQ Plot\n",
    "from statsmodels.graphics.gofplots import qqplot\n",
    "\n",
    "residuals = y_train - y_train_pred\n",
    "qqplot(residuals, line='s')\n",
    "plt.title(\"QQ Plot of Residuals\")\n",
    "plt.figure(figsize=(8, 6))\n",
    "plt.show()\n"
   ]
  },
  {
   "cell_type": "code",
   "execution_count": 572,
   "metadata": {},
   "outputs": [
    {
     "data": {
      "text/html": [
       "<div>\n",
       "<style scoped>\n",
       "    .dataframe tbody tr th:only-of-type {\n",
       "        vertical-align: middle;\n",
       "    }\n",
       "\n",
       "    .dataframe tbody tr th {\n",
       "        vertical-align: top;\n",
       "    }\n",
       "\n",
       "    .dataframe thead th {\n",
       "        text-align: right;\n",
       "    }\n",
       "</style>\n",
       "<table border=\"1\" class=\"dataframe\">\n",
       "  <thead>\n",
       "    <tr style=\"text-align: right;\">\n",
       "      <th></th>\n",
       "      <th>InvoiceDate</th>\n",
       "      <th>WeekendFlag</th>\n",
       "      <th>TotalOrders</th>\n",
       "      <th>Sales</th>\n",
       "      <th>State_Australia</th>\n",
       "      <th>State_England</th>\n",
       "      <th>State_NSW</th>\n",
       "      <th>State_NT</th>\n",
       "      <th>State_QLD</th>\n",
       "      <th>State_SA</th>\n",
       "      <th>State_TAS</th>\n",
       "      <th>State_VIC</th>\n",
       "      <th>State_WA</th>\n",
       "    </tr>\n",
       "  </thead>\n",
       "  <tbody>\n",
       "    <tr>\n",
       "      <th>0</th>\n",
       "      <td>2023-09-12</td>\n",
       "      <td>0</td>\n",
       "      <td>-0.558142</td>\n",
       "      <td>6.011267</td>\n",
       "      <td>0</td>\n",
       "      <td>0</td>\n",
       "      <td>0</td>\n",
       "      <td>0</td>\n",
       "      <td>0</td>\n",
       "      <td>0</td>\n",
       "      <td>0</td>\n",
       "      <td>0</td>\n",
       "      <td>1</td>\n",
       "    </tr>\n",
       "    <tr>\n",
       "      <th>1</th>\n",
       "      <td>2023-09-12</td>\n",
       "      <td>0</td>\n",
       "      <td>-0.558142</td>\n",
       "      <td>6.011267</td>\n",
       "      <td>0</td>\n",
       "      <td>0</td>\n",
       "      <td>1</td>\n",
       "      <td>0</td>\n",
       "      <td>0</td>\n",
       "      <td>0</td>\n",
       "      <td>0</td>\n",
       "      <td>0</td>\n",
       "      <td>0</td>\n",
       "    </tr>\n",
       "    <tr>\n",
       "      <th>2</th>\n",
       "      <td>2023-09-12</td>\n",
       "      <td>0</td>\n",
       "      <td>-0.558142</td>\n",
       "      <td>6.011267</td>\n",
       "      <td>0</td>\n",
       "      <td>0</td>\n",
       "      <td>0</td>\n",
       "      <td>0</td>\n",
       "      <td>0</td>\n",
       "      <td>0</td>\n",
       "      <td>0</td>\n",
       "      <td>0</td>\n",
       "      <td>0</td>\n",
       "    </tr>\n",
       "    <tr>\n",
       "      <th>3</th>\n",
       "      <td>2023-09-12</td>\n",
       "      <td>0</td>\n",
       "      <td>-0.558142</td>\n",
       "      <td>6.011267</td>\n",
       "      <td>0</td>\n",
       "      <td>0</td>\n",
       "      <td>0</td>\n",
       "      <td>0</td>\n",
       "      <td>1</td>\n",
       "      <td>0</td>\n",
       "      <td>0</td>\n",
       "      <td>0</td>\n",
       "      <td>0</td>\n",
       "    </tr>\n",
       "    <tr>\n",
       "      <th>4</th>\n",
       "      <td>2023-09-12</td>\n",
       "      <td>0</td>\n",
       "      <td>-0.558142</td>\n",
       "      <td>6.011267</td>\n",
       "      <td>0</td>\n",
       "      <td>0</td>\n",
       "      <td>0</td>\n",
       "      <td>0</td>\n",
       "      <td>0</td>\n",
       "      <td>0</td>\n",
       "      <td>0</td>\n",
       "      <td>1</td>\n",
       "      <td>0</td>\n",
       "    </tr>\n",
       "  </tbody>\n",
       "</table>\n",
       "</div>"
      ],
      "text/plain": [
       "  InvoiceDate WeekendFlag  TotalOrders     Sales  State_Australia  \\\n",
       "0  2023-09-12           0    -0.558142  6.011267                0   \n",
       "1  2023-09-12           0    -0.558142  6.011267                0   \n",
       "2  2023-09-12           0    -0.558142  6.011267                0   \n",
       "3  2023-09-12           0    -0.558142  6.011267                0   \n",
       "4  2023-09-12           0    -0.558142  6.011267                0   \n",
       "\n",
       "   State_England  State_NSW  State_NT  State_QLD  State_SA  State_TAS  \\\n",
       "0              0          0         0          0         0          0   \n",
       "1              0          1         0          0         0          0   \n",
       "2              0          0         0          0         0          0   \n",
       "3              0          0         0          1         0          0   \n",
       "4              0          0         0          0         0          0   \n",
       "\n",
       "   State_VIC  State_WA  \n",
       "0          0         1  \n",
       "1          0         0  \n",
       "2          0         0  \n",
       "3          0         0  \n",
       "4          1         0  "
      ]
     },
     "execution_count": 572,
     "metadata": {},
     "output_type": "execute_result"
    }
   ],
   "source": [
    "df_by_day.head()"
   ]
  },
  {
   "cell_type": "code",
   "execution_count": 792,
   "metadata": {},
   "outputs": [
    {
     "name": "stdout",
     "output_type": "stream",
     "text": [
      "Predicted Target Variable: [6.7617754]\n"
     ]
    }
   ],
   "source": [
    "# Create a dictionary with feature values\n",
    "feature_values = {\n",
    "    'WeekendFlag': 0,\n",
    "    'TotalOrders':-0.558142,\n",
    "    'State_Australia': 0,\n",
    "    'State_England\t': 0,\n",
    "    'State_NSW': 0,\n",
    "    'State_NT': 0,\n",
    "    'State_QLD': 0,\n",
    "    'State_SA': 0,\n",
    "    'State_TAS': 0,\n",
    "    'State_VIC': 0,\n",
    "    'State_WA': 1  \n",
    "}\n",
    "\n",
    "# Convert the dictionary to a DataFrame\n",
    "input_data = pd.DataFrame([feature_values])\n",
    "\n",
    "# Predict the target variable for the given feature values\n",
    "predicted_target = model.predict(input_data)\n",
    "\n",
    "print(\"Predicted Target Variable:\", predicted_target)\n"
   ]
  },
  {
   "cell_type": "code",
   "execution_count": 793,
   "metadata": {},
   "outputs": [
    {
     "data": {
      "text/plain": [
       "array([864.17509024])"
      ]
     },
     "execution_count": 793,
     "metadata": {},
     "output_type": "execute_result"
    }
   ],
   "source": [
    "predicted_sales_original = np.exp(predicted_target)\n",
    "predicted_sales_original"
   ]
  },
  {
   "cell_type": "markdown",
   "metadata": {},
   "source": [
    "# Connclusion"
   ]
  },
  {
   "cell_type": "markdown",
   "metadata": {},
   "source": [
    "For instance, the confidence interval for 'TotalOrders' is given by (0.680, 0.705). This means we can be 95% confident that the true population parameter lies within this interval."
   ]
  },
  {
   "cell_type": "markdown",
   "metadata": {},
   "source": [
    "The model explains a significant portion of the variance in Sales, with 'TotalOrders' being a particularly influential predictor.\n",
    "Some State variables appear to have a statistically significant impact on Sales, while others may not.\n",
    "The normality assumption of residuals may need further investigation."
   ]
  }
 ],
 "metadata": {
  "kernelspec": {
   "display_name": "Python 3",
   "language": "python",
   "name": "python3"
  },
  "language_info": {
   "codemirror_mode": {
    "name": "ipython",
    "version": 3
   },
   "file_extension": ".py",
   "mimetype": "text/x-python",
   "name": "python",
   "nbconvert_exporter": "python",
   "pygments_lexer": "ipython3",
   "version": "3.8.5"
  }
 },
 "nbformat": 4,
 "nbformat_minor": 4
}
