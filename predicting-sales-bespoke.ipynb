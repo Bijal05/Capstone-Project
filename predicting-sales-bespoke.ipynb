{
 "cells": [
  {
   "cell_type": "markdown",
   "metadata": {
    "_cell_guid": "b1076dfc-b9ad-4769-8c92-a6c4dae69d19",
    "_uuid": "8f2839f25d086af736a60e9eeb907d3b93b6e0e5"
   },
   "source": [
    "# Predicting Sales E-Commerce\n",
    "\n",
    "- Accurate sales forecasts enable retailers to more precisely plan for the future of an e-commerce business. Sales forecasting is an important part of meeting customer expectations and provides insight into how the market will react to any given product.\n",
    "\n",
    "- We live in the world of e-commerce. We see tons of different stores here and there through the web. Internet made it possible to trade with anyone and everywhere. We can buy goods without leaving our house, we can compare prices in different stores within seconds, we can find what we really want and do not accept just the first more or less suitable offer. And I believe it would be really interesting to look at this world through the data it produces. That's why I decided to play around with e-commerce numbers and try to understand it better.\n",
    "\n",
    "- The data used in this analysis is taken from Bespoke Aquariums online store dataset \"Data |bespoke_data Actual transactions of Sydney retailer \".\n",
    "\n",
    "- This is a transnational data set which contains all the transactions occurring between 01/05/2020 and 09/12/2023 for a Sydney-based and registered bespoke online retail.The company mainly sells Aquariums products.\n",
    "\n",
    "- As always, we start our analysis by setting up our environment and by importing necessary libraries.\n",
    "\n",
    "- We import standard numpy and pandas to be able to perform analysis with Python, also we need data visualization libraries matplotlib and seaborn to output interesting visual findings.\n",
    "\n",
    "\n",
    "Predicting sales in e-commerce is a critical aspect of managing an online retail business. Accurate sales predictions can help you make informed decisions about inventory management, marketing strategies, and overall business growth. Here are some key methods and considerations for predicting sales in e-commerce:\n",
    "\n",
    "1. Historical Data Analysis:\n",
    "   - Start by analyzing your historical sales data. Look at trends, seasonality, and any patterns that may emerge. This data can provide valuable insights into past performance.\n",
    "\n",
    "2. Time Series Forecasting:\n",
    "   - Time series forecasting methods, such as ARIMA (AutoRegressive Integrated Moving Average) or Prophet, can be used to predict future sales based on past sales data. These models take into account seasonality and trends.\n",
    "\n",
    "3. Machine Learning Models:\n",
    "   - Machine learning models like regression, decision trees, random forests, and neural networks can be trained on historical data to make predictions. Feature engineering, which involves selecting and transforming relevant input features, is crucial for these models.\n",
    "\n",
    "4. Customer Segmentation:\n",
    "   - Segment your customer base to identify different groups with varying buying behaviors. This can help you tailor marketing efforts and predict sales more accurately for each segment.\n",
    "\n",
    "5. External Factors:\n",
    "   - Consider external factors that can influence sales, such as holidays, economic conditions, and industry trends. Incorporating these factors into your models can improve their accuracy.\n",
    "\n",
    "6. Inventory Management:\n",
    "   - Accurate sales predictions are essential for inventory management. Overstocking or understocking can lead to lost sales or excess costs. Make sure your predictions align with your inventory levels.\n",
    "\n",
    "7. Marketing Campaign Analysis:\n",
    "   - Analyze the impact of marketing campaigns on sales. Attribution modeling can help you understand which marketing efforts are driving the most sales, allowing you to optimize your marketing strategy.\n",
    "\n",
    "8. A/B Testing:\n",
    "   - Conduct A/B tests to experiment with different strategies and determine which ones have the most significant impact on sales. This can help refine your predictions over time.\n",
    "\n",
    "9. Customer Feedback and Reviews:\n",
    "   - Pay attention to customer feedback and product reviews. Negative feedback can lead to decreased sales, while positive feedback can boost sales. Monitor sentiment and address customer concerns promptly.\n",
    "\n",
    "10. Forecasting Tools:\n",
    "    - Consider using specialized forecasting software or e-commerce analytics platforms that offer pre-built models and dashboards tailored for sales predictions.\n",
    "\n",
    "11. Continuous Monitoring and Iteration:\n",
    "    - Sales prediction models should be regularly monitored and updated as new data becomes available. E-commerce is dynamic, and market conditions can change rapidly.\n",
    "\n",
    "12. Use of AI and Predictive Analytics:\n",
    "    - Advanced artificial intelligence and predictive analytics techniques, such as deep learning and reinforcement learning, can provide more accurate and automated sales predictions, especially for large datasets.\n",
    "\n",
    "- Remember that sales predictions are not always 100% accurate, but with consistent refinement and the use of various data sources and models, you can improve their accuracy over time. Additionally, be prepared to adapt your strategies based on the insights gained from your predictions to maximize your e-commerce success.\n",
    "\n",
    "\n",
    "\n"
   ]
  },
  {
   "cell_type": "markdown",
   "metadata": {},
   "source": [
    "# Import libraries and Data"
   ]
  },
  {
   "cell_type": "code",
   "execution_count": 96,
   "metadata": {
    "execution": {
     "iopub.execute_input": "2023-09-21T11:02:10.552841Z",
     "iopub.status.busy": "2023-09-21T11:02:10.552222Z",
     "iopub.status.idle": "2023-09-21T11:02:11.592739Z",
     "shell.execute_reply": "2023-09-21T11:02:11.591512Z",
     "shell.execute_reply.started": "2023-09-21T11:02:10.552794Z"
    }
   },
   "outputs": [],
   "source": [
    "import pandas as pd\n",
    "import numpy as np\n",
    "import matplotlib.pyplot as plt\n",
    "import seaborn as sns\n",
    "\n",
    "import warnings\n",
    "warnings.filterwarnings('ignore')\n",
    "\n",
    "plt.style.use('fivethirtyeight')\n",
    "%matplotlib inline"
   ]
  },
  {
   "cell_type": "code",
   "execution_count": 97,
   "metadata": {
    "execution": {
     "iopub.execute_input": "2023-09-21T11:02:11.597754Z",
     "iopub.status.busy": "2023-09-21T11:02:11.597053Z",
     "iopub.status.idle": "2023-09-21T11:02:12.667493Z",
     "shell.execute_reply": "2023-09-21T11:02:12.666075Z",
     "shell.execute_reply.started": "2023-09-21T11:02:11.597722Z"
    }
   },
   "outputs": [],
   "source": [
    "df = pd.read_csv('data/bespoke_data.csv', encoding=\"latin\", dtype={'CustomerID': str})\n"
   ]
  },
  {
   "cell_type": "code",
   "execution_count": 98,
   "metadata": {},
   "outputs": [],
   "source": [
    "df=df.drop(['Postcode','City'],axis=1)"
   ]
  },
  {
   "cell_type": "code",
   "execution_count": 99,
   "metadata": {
    "execution": {
     "iopub.execute_input": "2023-09-21T11:02:12.670344Z",
     "iopub.status.busy": "2023-09-21T11:02:12.669865Z",
     "iopub.status.idle": "2023-09-21T11:02:12.691386Z",
     "shell.execute_reply": "2023-09-21T11:02:12.690217Z",
     "shell.execute_reply.started": "2023-09-21T11:02:12.670291Z"
    }
   },
   "outputs": [
    {
     "data": {
      "text/html": [
       "<div>\n",
       "<style scoped>\n",
       "    .dataframe tbody tr th:only-of-type {\n",
       "        vertical-align: middle;\n",
       "    }\n",
       "\n",
       "    .dataframe tbody tr th {\n",
       "        vertical-align: top;\n",
       "    }\n",
       "\n",
       "    .dataframe thead th {\n",
       "        text-align: right;\n",
       "    }\n",
       "</style>\n",
       "<table border=\"1\" class=\"dataframe\">\n",
       "  <thead>\n",
       "    <tr style=\"text-align: right;\">\n",
       "      <th></th>\n",
       "      <th>InvoiceNo</th>\n",
       "      <th>StockCode</th>\n",
       "      <th>Description</th>\n",
       "      <th>Quantity</th>\n",
       "      <th>InvoiceDate</th>\n",
       "      <th>UnitPrice</th>\n",
       "      <th>CustomerID</th>\n",
       "      <th>State</th>\n",
       "    </tr>\n",
       "  </thead>\n",
       "  <tbody>\n",
       "    <tr>\n",
       "      <th>0</th>\n",
       "      <td>95599</td>\n",
       "      <td>5735</td>\n",
       "      <td>Red Sea Aquarium Net Cover 60cm x 60cm</td>\n",
       "      <td>1</td>\n",
       "      <td>9/12/2023 22:58</td>\n",
       "      <td>85.0</td>\n",
       "      <td>0</td>\n",
       "      <td>WA</td>\n",
       "    </tr>\n",
       "    <tr>\n",
       "      <th>1</th>\n",
       "      <td>95598</td>\n",
       "      <td>6255</td>\n",
       "      <td>Flipper Cleaner Standard Float</td>\n",
       "      <td>1</td>\n",
       "      <td>9/12/2023 21:00</td>\n",
       "      <td>78.0</td>\n",
       "      <td>0</td>\n",
       "      <td>NSW</td>\n",
       "    </tr>\n",
       "    <tr>\n",
       "      <th>2</th>\n",
       "      <td>95597</td>\n",
       "      <td>38824</td>\n",
       "      <td>Fluval P50 Preset Submersible Heater 50W 155cm...</td>\n",
       "      <td>2</td>\n",
       "      <td>9/12/2023 20:42</td>\n",
       "      <td>40.0</td>\n",
       "      <td>0</td>\n",
       "      <td>ACT</td>\n",
       "    </tr>\n",
       "    <tr>\n",
       "      <th>3</th>\n",
       "      <td>95595</td>\n",
       "      <td>22427</td>\n",
       "      <td>Aqua One Lifestyle 127 LED Light Unit (52044-L)</td>\n",
       "      <td>1</td>\n",
       "      <td>9/12/2023 15:05</td>\n",
       "      <td>119.0</td>\n",
       "      <td>0</td>\n",
       "      <td>QLD</td>\n",
       "    </tr>\n",
       "    <tr>\n",
       "      <th>4</th>\n",
       "      <td>95594</td>\n",
       "      <td>38928</td>\n",
       "      <td>Fluval Circulation Pump for FLEX 34L</td>\n",
       "      <td>1</td>\n",
       "      <td>9/12/2023 10:24</td>\n",
       "      <td>45.0</td>\n",
       "      <td>0</td>\n",
       "      <td>VIC</td>\n",
       "    </tr>\n",
       "  </tbody>\n",
       "</table>\n",
       "</div>"
      ],
      "text/plain": [
       "   InvoiceNo  StockCode                                        Description  \\\n",
       "0      95599       5735             Red Sea Aquarium Net Cover 60cm x 60cm   \n",
       "1      95598       6255                     Flipper Cleaner Standard Float   \n",
       "2      95597      38824  Fluval P50 Preset Submersible Heater 50W 155cm...   \n",
       "3      95595      22427    Aqua One Lifestyle 127 LED Light Unit (52044-L)   \n",
       "4      95594      38928               Fluval Circulation Pump for FLEX 34L   \n",
       "\n",
       "   Quantity      InvoiceDate  UnitPrice CustomerID State  \n",
       "0         1  9/12/2023 22:58       85.0          0    WA  \n",
       "1         1  9/12/2023 21:00       78.0          0   NSW  \n",
       "2         2  9/12/2023 20:42       40.0          0   ACT  \n",
       "3         1  9/12/2023 15:05      119.0          0   QLD  \n",
       "4         1  9/12/2023 10:24       45.0          0   VIC  "
      ]
     },
     "execution_count": 99,
     "metadata": {},
     "output_type": "execute_result"
    }
   ],
   "source": [
    "df.head()"
   ]
  },
  {
   "cell_type": "markdown",
   "metadata": {},
   "source": [
    "- Just by looking at the first 5 rows of our table, we can understand the structure and datatypes present in our dataset.\n",
    "- We can notice that we will have to deal with time series data, integers and floats, and categorical, and text data."
   ]
  },
  {
   "cell_type": "markdown",
   "metadata": {},
   "source": [
    "# Exploratory Data Analysis(EDA)\n",
    "- Every data science project starts with EDA as we have to understand what do we have to deal with.\n",
    "- I divide EDA into 2 types: visual and numerical. Let's start with numerical as the simple pandas method .describe() gives us a lot of useful information."
   ]
  },
  {
   "cell_type": "markdown",
   "metadata": {},
   "source": [
    "## Quick statistical overview"
   ]
  },
  {
   "cell_type": "code",
   "execution_count": 100,
   "metadata": {
    "execution": {
     "iopub.execute_input": "2023-09-21T11:02:12.69544Z",
     "iopub.status.busy": "2023-09-21T11:02:12.694316Z",
     "iopub.status.idle": "2023-09-21T11:02:12.750478Z",
     "shell.execute_reply": "2023-09-21T11:02:12.749313Z",
     "shell.execute_reply.started": "2023-09-21T11:02:12.695385Z"
    }
   },
   "outputs": [
    {
     "data": {
      "text/html": [
       "<div>\n",
       "<style scoped>\n",
       "    .dataframe tbody tr th:only-of-type {\n",
       "        vertical-align: middle;\n",
       "    }\n",
       "\n",
       "    .dataframe tbody tr th {\n",
       "        vertical-align: top;\n",
       "    }\n",
       "\n",
       "    .dataframe thead th {\n",
       "        text-align: right;\n",
       "    }\n",
       "</style>\n",
       "<table border=\"1\" class=\"dataframe\">\n",
       "  <thead>\n",
       "    <tr style=\"text-align: right;\">\n",
       "      <th></th>\n",
       "      <th>InvoiceNo</th>\n",
       "      <th>StockCode</th>\n",
       "      <th>Quantity</th>\n",
       "      <th>UnitPrice</th>\n",
       "    </tr>\n",
       "  </thead>\n",
       "  <tbody>\n",
       "    <tr>\n",
       "      <th>count</th>\n",
       "      <td>13372.000000</td>\n",
       "      <td>13372.000000</td>\n",
       "      <td>13372.000000</td>\n",
       "      <td>13372.000000</td>\n",
       "    </tr>\n",
       "    <tr>\n",
       "      <th>mean</th>\n",
       "      <td>57578.927909</td>\n",
       "      <td>18938.588543</td>\n",
       "      <td>1.407493</td>\n",
       "      <td>101.616322</td>\n",
       "    </tr>\n",
       "    <tr>\n",
       "      <th>std</th>\n",
       "      <td>29080.752531</td>\n",
       "      <td>18273.583980</td>\n",
       "      <td>1.727285</td>\n",
       "      <td>217.971654</td>\n",
       "    </tr>\n",
       "    <tr>\n",
       "      <th>min</th>\n",
       "      <td>9667.000000</td>\n",
       "      <td>3449.000000</td>\n",
       "      <td>1.000000</td>\n",
       "      <td>0.180000</td>\n",
       "    </tr>\n",
       "    <tr>\n",
       "      <th>25%</th>\n",
       "      <td>30525.000000</td>\n",
       "      <td>8324.000000</td>\n",
       "      <td>1.000000</td>\n",
       "      <td>17.000000</td>\n",
       "    </tr>\n",
       "    <tr>\n",
       "      <th>50%</th>\n",
       "      <td>61916.500000</td>\n",
       "      <td>11346.000000</td>\n",
       "      <td>1.000000</td>\n",
       "      <td>38.000000</td>\n",
       "    </tr>\n",
       "    <tr>\n",
       "      <th>75%</th>\n",
       "      <td>87137.000000</td>\n",
       "      <td>20511.000000</td>\n",
       "      <td>1.000000</td>\n",
       "      <td>91.690000</td>\n",
       "    </tr>\n",
       "    <tr>\n",
       "      <th>max</th>\n",
       "      <td>95599.000000</td>\n",
       "      <td>95148.000000</td>\n",
       "      <td>150.000000</td>\n",
       "      <td>7799.980000</td>\n",
       "    </tr>\n",
       "  </tbody>\n",
       "</table>\n",
       "</div>"
      ],
      "text/plain": [
       "          InvoiceNo     StockCode      Quantity     UnitPrice\n",
       "count  13372.000000  13372.000000  13372.000000  13372.000000\n",
       "mean   57578.927909  18938.588543      1.407493    101.616322\n",
       "std    29080.752531  18273.583980      1.727285    217.971654\n",
       "min     9667.000000   3449.000000      1.000000      0.180000\n",
       "25%    30525.000000   8324.000000      1.000000     17.000000\n",
       "50%    61916.500000  11346.000000      1.000000     38.000000\n",
       "75%    87137.000000  20511.000000      1.000000     91.690000\n",
       "max    95599.000000  95148.000000    150.000000   7799.980000"
      ]
     },
     "execution_count": 100,
     "metadata": {},
     "output_type": "execute_result"
    }
   ],
   "source": [
    "df.describe()"
   ]
  },
  {
   "cell_type": "markdown",
   "metadata": {},
   "source": [
    "- Just a quick look at data with the .describe() method gives us a lot of space to think.\n",
    "- We can see that not all records have CustomerID data.\n",
    "- We can also see that the majority of transactions are for quantities from 1 item, majority of items have prices up to 90 AUD.\n",
    "- We have a few outliers which we will have to deal with later."
   ]
  },
  {
   "cell_type": "markdown",
   "metadata": {},
   "source": [
    "## Dealing with types\n",
    "- .read_csv() method performs basic type check, but it doesn't do that perfectly.\n",
    "- That's why it is much better to deal with data types in our dataframe before any modifications to prevent additional difficulties.\n",
    "- Every pandas dataframe has an attribute .dtypes which will help us understand what we currently have and what data has to be casted to correct types."
   ]
  },
  {
   "cell_type": "code",
   "execution_count": 101,
   "metadata": {
    "execution": {
     "iopub.execute_input": "2023-09-21T11:02:12.752814Z",
     "iopub.status.busy": "2023-09-21T11:02:12.752097Z",
     "iopub.status.idle": "2023-09-21T11:02:12.762893Z",
     "shell.execute_reply": "2023-09-21T11:02:12.761286Z",
     "shell.execute_reply.started": "2023-09-21T11:02:12.752772Z"
    }
   },
   "outputs": [
    {
     "data": {
      "text/plain": [
       "InvoiceNo        int64\n",
       "StockCode        int64\n",
       "Description     object\n",
       "Quantity         int64\n",
       "InvoiceDate     object\n",
       "UnitPrice      float64\n",
       "CustomerID      object\n",
       "State           object\n",
       "dtype: object"
      ]
     },
     "execution_count": 101,
     "metadata": {},
     "output_type": "execute_result"
    }
   ],
   "source": [
    "df.dtypes"
   ]
  },
  {
   "cell_type": "markdown",
   "metadata": {},
   "source": [
    "- If we have DateTime data it's better to cast it to DateTime type.\n",
    "- We saw just the first 5 rows, while pandas during import scanned all the data and found that the type here is numerical."
   ]
  },
  {
   "cell_type": "code",
   "execution_count": 102,
   "metadata": {
    "execution": {
     "iopub.execute_input": "2023-09-21T11:02:12.765049Z",
     "iopub.status.busy": "2023-09-21T11:02:12.764502Z",
     "iopub.status.idle": "2023-09-21T11:02:13.160044Z",
     "shell.execute_reply": "2023-09-21T11:02:13.158997Z",
     "shell.execute_reply.started": "2023-09-21T11:02:12.765006Z"
    }
   },
   "outputs": [],
   "source": [
    "df['InvoiceDate'] = pd.to_datetime(df['InvoiceDate'])\n",
    "df = df.set_index('InvoiceDate')"
   ]
  },
  {
   "cell_type": "code",
   "execution_count": 103,
   "metadata": {
    "execution": {
     "iopub.execute_input": "2023-09-21T11:02:13.162404Z",
     "iopub.status.busy": "2023-09-21T11:02:13.161676Z",
     "iopub.status.idle": "2023-09-21T11:02:13.178563Z",
     "shell.execute_reply": "2023-09-21T11:02:13.177386Z",
     "shell.execute_reply.started": "2023-09-21T11:02:13.16236Z"
    }
   },
   "outputs": [
    {
     "data": {
      "text/html": [
       "<div>\n",
       "<style scoped>\n",
       "    .dataframe tbody tr th:only-of-type {\n",
       "        vertical-align: middle;\n",
       "    }\n",
       "\n",
       "    .dataframe tbody tr th {\n",
       "        vertical-align: top;\n",
       "    }\n",
       "\n",
       "    .dataframe thead th {\n",
       "        text-align: right;\n",
       "    }\n",
       "</style>\n",
       "<table border=\"1\" class=\"dataframe\">\n",
       "  <thead>\n",
       "    <tr style=\"text-align: right;\">\n",
       "      <th></th>\n",
       "      <th>InvoiceNo</th>\n",
       "      <th>StockCode</th>\n",
       "      <th>Description</th>\n",
       "      <th>Quantity</th>\n",
       "      <th>UnitPrice</th>\n",
       "      <th>CustomerID</th>\n",
       "      <th>State</th>\n",
       "    </tr>\n",
       "    <tr>\n",
       "      <th>InvoiceDate</th>\n",
       "      <th></th>\n",
       "      <th></th>\n",
       "      <th></th>\n",
       "      <th></th>\n",
       "      <th></th>\n",
       "      <th></th>\n",
       "      <th></th>\n",
       "    </tr>\n",
       "  </thead>\n",
       "  <tbody>\n",
       "    <tr>\n",
       "      <th>2023-09-12 22:58:00</th>\n",
       "      <td>95599</td>\n",
       "      <td>5735</td>\n",
       "      <td>Red Sea Aquarium Net Cover 60cm x 60cm</td>\n",
       "      <td>1</td>\n",
       "      <td>85.0</td>\n",
       "      <td>0</td>\n",
       "      <td>WA</td>\n",
       "    </tr>\n",
       "    <tr>\n",
       "      <th>2023-09-12 21:00:00</th>\n",
       "      <td>95598</td>\n",
       "      <td>6255</td>\n",
       "      <td>Flipper Cleaner Standard Float</td>\n",
       "      <td>1</td>\n",
       "      <td>78.0</td>\n",
       "      <td>0</td>\n",
       "      <td>NSW</td>\n",
       "    </tr>\n",
       "    <tr>\n",
       "      <th>2023-09-12 20:42:00</th>\n",
       "      <td>95597</td>\n",
       "      <td>38824</td>\n",
       "      <td>Fluval P50 Preset Submersible Heater 50W 155cm...</td>\n",
       "      <td>2</td>\n",
       "      <td>40.0</td>\n",
       "      <td>0</td>\n",
       "      <td>ACT</td>\n",
       "    </tr>\n",
       "    <tr>\n",
       "      <th>2023-09-12 15:05:00</th>\n",
       "      <td>95595</td>\n",
       "      <td>22427</td>\n",
       "      <td>Aqua One Lifestyle 127 LED Light Unit (52044-L)</td>\n",
       "      <td>1</td>\n",
       "      <td>119.0</td>\n",
       "      <td>0</td>\n",
       "      <td>QLD</td>\n",
       "    </tr>\n",
       "    <tr>\n",
       "      <th>2023-09-12 10:24:00</th>\n",
       "      <td>95594</td>\n",
       "      <td>38928</td>\n",
       "      <td>Fluval Circulation Pump for FLEX 34L</td>\n",
       "      <td>1</td>\n",
       "      <td>45.0</td>\n",
       "      <td>0</td>\n",
       "      <td>VIC</td>\n",
       "    </tr>\n",
       "  </tbody>\n",
       "</table>\n",
       "</div>"
      ],
      "text/plain": [
       "                     InvoiceNo  StockCode  \\\n",
       "InvoiceDate                                 \n",
       "2023-09-12 22:58:00      95599       5735   \n",
       "2023-09-12 21:00:00      95598       6255   \n",
       "2023-09-12 20:42:00      95597      38824   \n",
       "2023-09-12 15:05:00      95595      22427   \n",
       "2023-09-12 10:24:00      95594      38928   \n",
       "\n",
       "                                                           Description  \\\n",
       "InvoiceDate                                                              \n",
       "2023-09-12 22:58:00             Red Sea Aquarium Net Cover 60cm x 60cm   \n",
       "2023-09-12 21:00:00                     Flipper Cleaner Standard Float   \n",
       "2023-09-12 20:42:00  Fluval P50 Preset Submersible Heater 50W 155cm...   \n",
       "2023-09-12 15:05:00    Aqua One Lifestyle 127 LED Light Unit (52044-L)   \n",
       "2023-09-12 10:24:00               Fluval Circulation Pump for FLEX 34L   \n",
       "\n",
       "                     Quantity  UnitPrice CustomerID State  \n",
       "InvoiceDate                                                \n",
       "2023-09-12 22:58:00         1       85.0          0    WA  \n",
       "2023-09-12 21:00:00         1       78.0          0   NSW  \n",
       "2023-09-12 20:42:00         2       40.0          0   ACT  \n",
       "2023-09-12 15:05:00         1      119.0          0   QLD  \n",
       "2023-09-12 10:24:00         1       45.0          0   VIC  "
      ]
     },
     "execution_count": 103,
     "metadata": {},
     "output_type": "execute_result"
    }
   ],
   "source": [
    "df.head()"
   ]
  },
  {
   "cell_type": "markdown",
   "metadata": {},
   "source": [
    "## Dealing with null values\n",
    "- Next and very important step is dealing with missing values.\n",
    "\n",
    "- Normally if you encounter null values in the dataset you have to understand nature of those null values and possible impact they could have on the model.\n",
    "\n",
    "- There are few strategies that we can use to fix our issue with null values:\n",
    "\n",
    "    - delete rows with null values\n",
    "    - delete the feature with null values\n",
    "    - impute data with mean or median values or use another imputing strategy (method .fillna())"
   ]
  },
  {
   "cell_type": "code",
   "execution_count": 104,
   "metadata": {
    "execution": {
     "iopub.execute_input": "2023-09-21T11:02:13.180427Z",
     "iopub.status.busy": "2023-09-21T11:02:13.180069Z",
     "iopub.status.idle": "2023-09-21T11:02:13.459337Z",
     "shell.execute_reply": "2023-09-21T11:02:13.458028Z",
     "shell.execute_reply.started": "2023-09-21T11:02:13.180397Z"
    }
   },
   "outputs": [
    {
     "data": {
      "text/plain": [
       "InvoiceNo      0\n",
       "StockCode      0\n",
       "Description    0\n",
       "Quantity       0\n",
       "UnitPrice      0\n",
       "CustomerID     0\n",
       "State          7\n",
       "dtype: int64"
      ]
     },
     "execution_count": 104,
     "metadata": {},
     "output_type": "execute_result"
    }
   ],
   "source": [
    "df.isnull().sum()"
   ]
  },
  {
   "cell_type": "markdown",
   "metadata": {},
   "source": [
    "- CustomerID has too many 0's and this feature cannot predict a lot so we can just drop it.\n",
    "- It could be reasonable to create another feature \"Amount of orders per customer\".\n",
    "- State has 7 null values so i don't want to drop it because i do not want to loose important feature value."
   ]
  },
  {
   "cell_type": "code",
   "execution_count": 105,
   "metadata": {},
   "outputs": [],
   "source": [
    "df['State'].fillna('NSW', inplace=True)"
   ]
  },
  {
   "cell_type": "code",
   "execution_count": 106,
   "metadata": {
    "execution": {
     "iopub.execute_input": "2023-09-21T11:02:13.461829Z",
     "iopub.status.busy": "2023-09-21T11:02:13.46111Z",
     "iopub.status.idle": "2023-09-21T11:02:13.491253Z",
     "shell.execute_reply": "2023-09-21T11:02:13.490033Z",
     "shell.execute_reply.started": "2023-09-21T11:02:13.461787Z"
    }
   },
   "outputs": [],
   "source": [
    "df = df.drop(columns=['CustomerID'])"
   ]
  },
  {
   "cell_type": "markdown",
   "metadata": {},
   "source": [
    "### Checking out columns separately\n",
    "- It makes sense to go feature by feature and check what pitfalls we have in our data and also to understand our numbers better.\n",
    "\n",
    "- Let's continue checking the Description column. Here we can see items that were bought most often."
   ]
  },
  {
   "cell_type": "code",
   "execution_count": 107,
   "metadata": {
    "execution": {
     "iopub.execute_input": "2023-09-21T11:02:13.885941Z",
     "iopub.status.busy": "2023-09-21T11:02:13.885524Z",
     "iopub.status.idle": "2023-09-21T11:02:13.999972Z",
     "shell.execute_reply": "2023-09-21T11:02:13.998853Z",
     "shell.execute_reply.started": "2023-09-21T11:02:13.885902Z"
    }
   },
   "outputs": [
    {
     "data": {
      "text/plain": [
       "Quantum Reef Essential Mixed Macro Probiotic Salt 20kg Box             89\n",
       "SeaTorch Titanium Algae Scrapper                                       79\n",
       "DD-Solutions ClariSea Replacement XL 40m Filter Floss for SK3000       68\n",
       "DD-Solutions ClariSea Replacement XL (40m) Filter Floss for SK5000A    64\n",
       "Aqua One Carbon Cartridge 510 2C                                       62\n",
       "Name: Description, dtype: int64"
      ]
     },
     "execution_count": 107,
     "metadata": {},
     "output_type": "execute_result"
    }
   ],
   "source": [
    "df['Description'].value_counts().head()"
   ]
  },
  {
   "cell_type": "markdown",
   "metadata": {},
   "source": [
    "- Here we can see our best-selling products, items that appear in orders the most often."
   ]
  },
  {
   "cell_type": "markdown",
   "metadata": {},
   "source": [
    "# To make it visually more appealing let's create a bar chart for 15 top items"
   ]
  },
  {
   "cell_type": "code",
   "execution_count": 108,
   "metadata": {
    "execution": {
     "iopub.execute_input": "2023-09-21T11:02:14.002233Z",
     "iopub.status.busy": "2023-09-21T11:02:14.001841Z",
     "iopub.status.idle": "2023-09-21T11:02:14.851092Z",
     "shell.execute_reply": "2023-09-21T11:02:14.84966Z",
     "shell.execute_reply.started": "2023-09-21T11:02:14.002198Z"
    }
   },
   "outputs": [
    {
     "data": {
      "image/png": "[encoded data removed]",
      "text/plain": [
       "<Figure size 1296x432 with 1 Axes>"
      ]
     },
     "metadata": {
      "needs_background": "light"
     },
     "output_type": "display_data"
    }
   ],
   "source": [
    "# Which items were bought more often?\n",
    "item_counts = df['Description'].value_counts().sort_values(ascending=False).iloc[0:15]\n",
    "plt.figure(figsize=(18,6))\n",
    "sns.barplot(x=item_counts.index, y=item_counts.values, palette=sns.cubehelix_palette(15))\n",
    "plt.ylabel(\"Counts\")\n",
    "plt.title(\"Which items were bought more often?\");\n",
    "plt.xticks(rotation=90);"
   ]
  },
  {
   "cell_type": "code",
   "execution_count": 109,
   "metadata": {
    "execution": {
     "iopub.execute_input": "2023-09-21T11:02:14.853385Z",
     "iopub.status.busy": "2023-09-21T11:02:14.852457Z",
     "iopub.status.idle": "2023-09-21T11:02:14.98241Z",
     "shell.execute_reply": "2023-09-21T11:02:14.981219Z",
     "shell.execute_reply.started": "2023-09-21T11:02:14.853332Z"
    }
   },
   "outputs": [
    {
     "data": {
      "text/plain": [
       "FORMULA TWO PELLETS SMALL - 100g                                          1\n",
       "PhytoPlan 30g                                                             1\n",
       "Blagdon 5W UVC Quartz Sleeve Set for Inpond 20003000 1051408              1\n",
       "MAG-FLOAT MINI - FLOATING MAGNET CLEANER FOR GLASS &amp; ACRYLIC (3MM)    1\n",
       "Aqua One Hose Tap In/Out 12mm                                             1\n",
       "Name: Description, dtype: int64"
      ]
     },
     "execution_count": 109,
     "metadata": {},
     "output_type": "execute_result"
    }
   ],
   "source": [
    "df['Description'].value_counts().tail()"
   ]
  },
  {
   "cell_type": "markdown",
   "metadata": {},
   "source": [
    "- Here we can understand that what products are selling fast so stock management in the store can be improved."
   ]
  },
  {
   "cell_type": "code",
   "execution_count": 110,
   "metadata": {
    "execution": {
     "iopub.execute_input": "2023-09-21T11:02:15.332683Z",
     "iopub.status.busy": "2023-09-21T11:02:15.331394Z",
     "iopub.status.idle": "2023-09-21T11:02:16.219369Z",
     "shell.execute_reply": "2023-09-21T11:02:16.218039Z",
     "shell.execute_reply.started": "2023-09-21T11:02:15.332618Z"
    }
   },
   "outputs": [
    {
     "data": {
      "image/png": "[encoded data removed]",
      "text/plain": [
       "<Figure size 1296x432 with 1 Axes>"
      ]
     },
     "metadata": {
      "needs_background": "light"
     },
     "output_type": "display_data"
    }
   ],
   "source": [
    "# Not full upper case items\n",
    "lcase_counts = df[~df['Description'].str.isupper()]['Description'].value_counts().sort_values(ascending=False).iloc[0:15]\n",
    "plt.figure(figsize=(18,6))\n",
    "sns.barplot(x=lcase_counts.index, y=lcase_counts.values, palette=sns.color_palette(\"hls\", 15))\n",
    "plt.ylabel(\"Counts\")\n",
    "plt.title(\"Not full upper case items\");\n",
    "plt.xticks(rotation=90);"
   ]
  },
  {
   "cell_type": "markdown",
   "metadata": {},
   "source": [
    "- Checking out stoke codes looks like they are deeply correlated with descriptions - which makes perfect sense."
   ]
  },
  {
   "cell_type": "code",
   "execution_count": 111,
   "metadata": {
    "execution": {
     "iopub.execute_input": "2023-09-21T11:02:16.221927Z",
     "iopub.status.busy": "2023-09-21T11:02:16.221474Z",
     "iopub.status.idle": "2023-09-21T11:02:16.331771Z",
     "shell.execute_reply": "2023-09-21T11:02:16.330682Z",
     "shell.execute_reply.started": "2023-09-21T11:02:16.221885Z"
    }
   },
   "outputs": [
    {
     "data": {
      "text/plain": [
       "4983     89\n",
       "12659    79\n",
       "5252     71\n",
       "5250     68\n",
       "9098     62\n",
       "Name: StockCode, dtype: int64"
      ]
     },
     "execution_count": 111,
     "metadata": {},
     "output_type": "execute_result"
    }
   ],
   "source": [
    "df['StockCode'].value_counts().head()"
   ]
  },
  {
   "cell_type": "code",
   "execution_count": 112,
   "metadata": {
    "execution": {
     "iopub.execute_input": "2023-09-21T11:02:16.334267Z",
     "iopub.status.busy": "2023-09-21T11:02:16.333787Z",
     "iopub.status.idle": "2023-09-21T11:02:16.920282Z",
     "shell.execute_reply": "2023-09-21T11:02:16.919024Z",
     "shell.execute_reply.started": "2023-09-21T11:02:16.334214Z"
    }
   },
   "outputs": [
    {
     "data": {
      "image/png": "[encoded data removed]",
      "text/plain": [
       "<Figure size 1296x432 with 1 Axes>"
      ]
     },
     "metadata": {
      "needs_background": "light"
     },
     "output_type": "display_data"
    }
   ],
   "source": [
    "# Which stock codes were used the most?\n",
    "stock_counts = df['StockCode'].value_counts().sort_values(ascending=False).iloc[0:15]\n",
    "plt.figure(figsize=(18,6))\n",
    "sns.barplot(x=stock_counts.index, y=stock_counts.values, palette=sns.color_palette(\"GnBu_d\"))\n",
    "plt.ylabel(\"Counts\")\n",
    "plt.title(\"Which stock codes were used the most?\");\n",
    "plt.xticks(rotation=90);"
   ]
  },
  {
   "cell_type": "markdown",
   "metadata": {},
   "source": [
    "# Checking out also InvoiceNo feature"
   ]
  },
  {
   "cell_type": "code",
   "execution_count": 113,
   "metadata": {
    "execution": {
     "iopub.execute_input": "2023-09-21T11:02:16.922003Z",
     "iopub.status.busy": "2023-09-21T11:02:16.921609Z",
     "iopub.status.idle": "2023-09-21T11:02:17.020888Z",
     "shell.execute_reply": "2023-09-21T11:02:17.019695Z",
     "shell.execute_reply.started": "2023-09-21T11:02:16.921973Z"
    }
   },
   "outputs": [
    {
     "data": {
      "text/plain": [
       "77575    1\n",
       "31201    1\n",
       "88912    1\n",
       "42494    1\n",
       "69634    1\n",
       "Name: InvoiceNo, dtype: int64"
      ]
     },
     "execution_count": 113,
     "metadata": {},
     "output_type": "execute_result"
    }
   ],
   "source": [
    "df['InvoiceNo'].value_counts().tail()"
   ]
  },
  {
   "cell_type": "code",
   "execution_count": 114,
   "metadata": {
    "execution": {
     "iopub.execute_input": "2023-09-21T11:02:17.022823Z",
     "iopub.status.busy": "2023-09-21T11:02:17.022374Z",
     "iopub.status.idle": "2023-09-21T11:02:17.593755Z",
     "shell.execute_reply": "2023-09-21T11:02:17.592559Z",
     "shell.execute_reply.started": "2023-09-21T11:02:17.022783Z"
    }
   },
   "outputs": [
    {
     "data": {
      "image/png": "[encoded data removed]",
      "text/plain": [
       "<Figure size 1296x432 with 1 Axes>"
      ]
     },
     "metadata": {
      "needs_background": "light"
     },
     "output_type": "display_data"
    }
   ],
   "source": [
    "#  Which invoices had the most items?\n",
    "inv_counts = df['InvoiceNo'].value_counts().sort_values(ascending=False).iloc[0:15]\n",
    "plt.figure(figsize=(18,6))\n",
    "sns.barplot(x=inv_counts.index, y=inv_counts.values, palette=sns.color_palette(\"BuGn_d\"))\n",
    "plt.ylabel(\"Counts\")\n",
    "plt.title(\"Which invoices had the most items?\");\n",
    "plt.xticks(rotation=90);"
   ]
  },
  {
   "cell_type": "code",
   "execution_count": 115,
   "metadata": {
    "execution": {
     "iopub.execute_input": "2023-09-21T11:02:18.360264Z",
     "iopub.status.busy": "2023-09-21T11:02:18.359792Z",
     "iopub.status.idle": "2023-09-21T11:02:18.379255Z",
     "shell.execute_reply": "2023-09-21T11:02:18.378118Z",
     "shell.execute_reply.started": "2023-09-21T11:02:18.360222Z"
    }
   },
   "outputs": [
    {
     "data": {
      "text/html": [
       "<div>\n",
       "<style scoped>\n",
       "    .dataframe tbody tr th:only-of-type {\n",
       "        vertical-align: middle;\n",
       "    }\n",
       "\n",
       "    .dataframe tbody tr th {\n",
       "        vertical-align: top;\n",
       "    }\n",
       "\n",
       "    .dataframe thead th {\n",
       "        text-align: right;\n",
       "    }\n",
       "</style>\n",
       "<table border=\"1\" class=\"dataframe\">\n",
       "  <thead>\n",
       "    <tr style=\"text-align: right;\">\n",
       "      <th></th>\n",
       "      <th>InvoiceNo</th>\n",
       "      <th>StockCode</th>\n",
       "      <th>Description</th>\n",
       "      <th>Quantity</th>\n",
       "      <th>UnitPrice</th>\n",
       "      <th>State</th>\n",
       "    </tr>\n",
       "    <tr>\n",
       "      <th>InvoiceDate</th>\n",
       "      <th></th>\n",
       "      <th></th>\n",
       "      <th></th>\n",
       "      <th></th>\n",
       "      <th></th>\n",
       "      <th></th>\n",
       "    </tr>\n",
       "  </thead>\n",
       "  <tbody>\n",
       "  </tbody>\n",
       "</table>\n",
       "</div>"
      ],
      "text/plain": [
       "Empty DataFrame\n",
       "Columns: [InvoiceNo, StockCode, Description, Quantity, UnitPrice, State]\n",
       "Index: []"
      ]
     },
     "execution_count": 115,
     "metadata": {},
     "output_type": "execute_result"
    }
   ],
   "source": [
    "# df[df['Quantity'] < 0]\n",
    "df[df['Quantity'] < 0].head()"
   ]
  },
  {
   "cell_type": "markdown",
   "metadata": {},
   "source": [
    "- Here we can see that there is no negative value in Quantity."
   ]
  },
  {
   "cell_type": "code",
   "execution_count": 116,
   "metadata": {
    "execution": {
     "iopub.execute_input": "2023-09-21T11:02:18.381929Z",
     "iopub.status.busy": "2023-09-21T11:02:18.381161Z",
     "iopub.status.idle": "2023-09-21T11:02:18.490424Z",
     "shell.execute_reply": "2023-09-21T11:02:18.489153Z",
     "shell.execute_reply.started": "2023-09-21T11:02:18.381894Z"
    }
   },
   "outputs": [
    {
     "data": {
      "text/html": [
       "<div>\n",
       "<style scoped>\n",
       "    .dataframe tbody tr th:only-of-type {\n",
       "        vertical-align: middle;\n",
       "    }\n",
       "\n",
       "    .dataframe tbody tr th {\n",
       "        vertical-align: top;\n",
       "    }\n",
       "\n",
       "    .dataframe thead th {\n",
       "        text-align: right;\n",
       "    }\n",
       "</style>\n",
       "<table border=\"1\" class=\"dataframe\">\n",
       "  <thead>\n",
       "    <tr style=\"text-align: right;\">\n",
       "      <th></th>\n",
       "      <th>InvoiceNo</th>\n",
       "      <th>StockCode</th>\n",
       "      <th>Quantity</th>\n",
       "      <th>UnitPrice</th>\n",
       "    </tr>\n",
       "  </thead>\n",
       "  <tbody>\n",
       "    <tr>\n",
       "      <th>count</th>\n",
       "      <td>13372.000000</td>\n",
       "      <td>13372.000000</td>\n",
       "      <td>13372.000000</td>\n",
       "      <td>13372.000000</td>\n",
       "    </tr>\n",
       "    <tr>\n",
       "      <th>mean</th>\n",
       "      <td>57578.927909</td>\n",
       "      <td>18938.588543</td>\n",
       "      <td>1.407493</td>\n",
       "      <td>101.616322</td>\n",
       "    </tr>\n",
       "    <tr>\n",
       "      <th>std</th>\n",
       "      <td>29080.752531</td>\n",
       "      <td>18273.583980</td>\n",
       "      <td>1.727285</td>\n",
       "      <td>217.971654</td>\n",
       "    </tr>\n",
       "    <tr>\n",
       "      <th>min</th>\n",
       "      <td>9667.000000</td>\n",
       "      <td>3449.000000</td>\n",
       "      <td>1.000000</td>\n",
       "      <td>0.180000</td>\n",
       "    </tr>\n",
       "    <tr>\n",
       "      <th>25%</th>\n",
       "      <td>30525.000000</td>\n",
       "      <td>8324.000000</td>\n",
       "      <td>1.000000</td>\n",
       "      <td>17.000000</td>\n",
       "    </tr>\n",
       "    <tr>\n",
       "      <th>50%</th>\n",
       "      <td>61916.500000</td>\n",
       "      <td>11346.000000</td>\n",
       "      <td>1.000000</td>\n",
       "      <td>38.000000</td>\n",
       "    </tr>\n",
       "    <tr>\n",
       "      <th>75%</th>\n",
       "      <td>87137.000000</td>\n",
       "      <td>20511.000000</td>\n",
       "      <td>1.000000</td>\n",
       "      <td>91.690000</td>\n",
       "    </tr>\n",
       "    <tr>\n",
       "      <th>max</th>\n",
       "      <td>95599.000000</td>\n",
       "      <td>95148.000000</td>\n",
       "      <td>150.000000</td>\n",
       "      <td>7799.980000</td>\n",
       "    </tr>\n",
       "  </tbody>\n",
       "</table>\n",
       "</div>"
      ],
      "text/plain": [
       "          InvoiceNo     StockCode      Quantity     UnitPrice\n",
       "count  13372.000000  13372.000000  13372.000000  13372.000000\n",
       "mean   57578.927909  18938.588543      1.407493    101.616322\n",
       "std    29080.752531  18273.583980      1.727285    217.971654\n",
       "min     9667.000000   3449.000000      1.000000      0.180000\n",
       "25%    30525.000000   8324.000000      1.000000     17.000000\n",
       "50%    61916.500000  11346.000000      1.000000     38.000000\n",
       "75%    87137.000000  20511.000000      1.000000     91.690000\n",
       "max    95599.000000  95148.000000    150.000000   7799.980000"
      ]
     },
     "execution_count": 116,
     "metadata": {},
     "output_type": "execute_result"
    }
   ],
   "source": [
    "df = df[df['Quantity'] > 0]\n",
    "df.describe()"
   ]
  },
  {
   "cell_type": "markdown",
   "metadata": {},
   "source": [
    "- As we have finished cleaning our data and removed all suspicious records we can start creating some new features for our model.\n",
    "- Let's start with the most obvious one - Sales.\n",
    "- We have quantities, we have prices - we can calculate the revenue."
   ]
  },
  {
   "cell_type": "code",
   "execution_count": 117,
   "metadata": {},
   "outputs": [
    {
     "data": {
      "image/png": "[encoded data removed]",
      "text/plain": [
       "<Figure size 720x720 with 20 Axes>"
      ]
     },
     "metadata": {
      "needs_background": "light"
     },
     "output_type": "display_data"
    }
   ],
   "source": [
    "## Explore relationships between key features and the target variable\n",
    "sns.pairplot(df)\n",
    "plt.suptitle(\"Pairplot of Key Features\", y=1.02, size=20)\n",
    "plt.show()"
   ]
  },
  {
   "cell_type": "code",
   "execution_count": 118,
   "metadata": {},
   "outputs": [
    {
     "data": {
      "image/png": "[encoded data removed]",
      "text/plain": [
       "<Figure size 720x576 with 2 Axes>"
      ]
     },
     "metadata": {
      "needs_background": "light"
     },
     "output_type": "display_data"
    }
   ],
   "source": [
    "## Correlation heatmap to visualize the correlation between features\n",
    "plt.figure(figsize=(10, 8))\n",
    "sns.heatmap(df.corr(), annot=True, cmap='coolwarm', fmt=\".2f\", linewidths=0.5)\n",
    "plt.title(\"Correlation Heatmap\")\n",
    "plt.show()"
   ]
  },
  {
   "cell_type": "markdown",
   "metadata": {},
   "source": [
    "# Visual EDA"
   ]
  },
  {
   "cell_type": "code",
   "execution_count": 119,
   "metadata": {
    "execution": {
     "iopub.execute_input": "2023-09-21T11:02:18.646912Z",
     "iopub.status.busy": "2023-09-21T11:02:18.646521Z",
     "iopub.status.idle": "2023-09-21T11:02:19.536662Z",
     "shell.execute_reply": "2023-09-21T11:02:19.535432Z",
     "shell.execute_reply.started": "2023-09-21T11:02:18.646879Z"
    }
   },
   "outputs": [
    {
     "data": {
      "text/plain": [
       "(array([0]), [Text(0, 0, 'NSW')])"
      ]
     },
     "execution_count": 119,
     "metadata": {},
     "output_type": "execute_result"
    },
    {
     "data": {
      "image/png": "[encoded data removed]",
      "text/plain": [
       "<Figure size 216x432 with 1 Axes>"
      ]
     },
     "metadata": {
      "needs_background": "light"
     },
     "output_type": "display_data"
    }
   ],
   "source": [
    "plt.figure(figsize=(3,6))\n",
    "sns.countplot(x=df[df['State'] == 'NSW']['State'])\n",
    "plt.xticks(rotation=90)"
   ]
  },
  {
   "cell_type": "code",
   "execution_count": 120,
   "metadata": {
    "execution": {
     "iopub.execute_input": "2023-09-21T11:02:19.538654Z",
     "iopub.status.busy": "2023-09-21T11:02:19.538181Z",
     "iopub.status.idle": "2023-09-21T11:02:20.348192Z",
     "shell.execute_reply": "2023-09-21T11:02:20.347047Z",
     "shell.execute_reply.started": "2023-09-21T11:02:19.538596Z"
    }
   },
   "outputs": [
    {
     "data": {
      "text/plain": [
       "(array([0, 1, 2, 3, 4, 5, 6, 7, 8]),\n",
       " [Text(0, 0, 'WA'),\n",
       "  Text(1, 0, 'ACT'),\n",
       "  Text(2, 0, 'QLD'),\n",
       "  Text(3, 0, 'VIC'),\n",
       "  Text(4, 0, 'NT'),\n",
       "  Text(5, 0, 'SA'),\n",
       "  Text(6, 0, 'TAS'),\n",
       "  Text(7, 0, 'England'),\n",
       "  Text(8, 0, 'Australia')])"
      ]
     },
     "execution_count": 120,
     "metadata": {},
     "output_type": "execute_result"
    },
    {
     "data": {
      "image/png": "[encoded data removed]",
      "text/plain": [
       "<Figure size 1296x432 with 1 Axes>"
      ]
     },
     "metadata": {
      "needs_background": "light"
     },
     "output_type": "display_data"
    }
   ],
   "source": [
    "plt.figure(figsize=(18,6))\n",
    "sns.countplot(x=df[df['State'] != 'NSW']['State'])\n",
    "plt.xticks(rotation=90)"
   ]
  },
  {
   "cell_type": "code",
   "execution_count": 121,
   "metadata": {
    "execution": {
     "iopub.execute_input": "2023-09-21T11:02:20.350498Z",
     "iopub.status.busy": "2023-09-21T11:02:20.350079Z",
     "iopub.status.idle": "2023-09-21T11:02:20.609059Z",
     "shell.execute_reply": "2023-09-21T11:02:20.608119Z",
     "shell.execute_reply.started": "2023-09-21T11:02:20.350462Z"
    }
   },
   "outputs": [
    {
     "name": "stdout",
     "output_type": "stream",
     "text": [
      "55.62%\n"
     ]
    }
   ],
   "source": [
    "nsw_count = df[df['State'] == 'NSW']['State'].count()\n",
    "all_count = df['State'].count()\n",
    "nsw_perc = nsw_count/all_count\n",
    "print(str('{0:.2f}%').format(nsw_perc*100))"
   ]
  },
  {
   "cell_type": "markdown",
   "metadata": {},
   "source": [
    "- From the above plots and calculations, we can see that the vast majority of sales were made in the NSW and 45% went outside of NSW.\n",
    "- We can say our dataset is skewed to the NSW side."
   ]
  },
  {
   "cell_type": "markdown",
   "metadata": {},
   "source": [
    "# Detecting outliers\n",
    "- There are a few different methods to detect outliers:\n",
    "\n",
    "    - box plots,\n",
    "    - using IQR,\n",
    "    - scatter plot also works in some cases (and this is one of those)."
   ]
  },
  {
   "cell_type": "markdown",
   "metadata": {},
   "source": [
    "### Detecting outliers using a scatter plot is pretty intuitive. You plot your data and remove data points that visually are definitely out of range. Like in the chart below:"
   ]
  },
  {
   "cell_type": "code",
   "execution_count": 122,
   "metadata": {
    "execution": {
     "iopub.execute_input": "2023-09-21T11:02:20.611616Z",
     "iopub.status.busy": "2023-09-21T11:02:20.610491Z",
     "iopub.status.idle": "2023-09-21T11:02:23.029166Z",
     "shell.execute_reply": "2023-09-21T11:02:23.028292Z",
     "shell.execute_reply.started": "2023-09-21T11:02:20.611577Z"
    }
   },
   "outputs": [
    {
     "data": {
      "text/plain": [
       "<matplotlib.collections.PathCollection at 0x1ee5c75cc70>"
      ]
     },
     "execution_count": 122,
     "metadata": {},
     "output_type": "execute_result"
    },
    {
     "data": {
      "image/png": "[encoded data removed]",
      "text/plain": [
       "<Figure size 1296x432 with 1 Axes>"
      ]
     },
     "metadata": {
      "needs_background": "light"
     },
     "output_type": "display_data"
    }
   ],
   "source": [
    "plt.figure(figsize=(18,6))\n",
    "plt.scatter(x=df.index, y=df['UnitPrice'])"
   ]
  },
  {
   "cell_type": "markdown",
   "metadata": {},
   "source": [
    "## Remove obvious outliers:"
   ]
  },
  {
   "cell_type": "code",
   "execution_count": 123,
   "metadata": {
    "execution": {
     "iopub.execute_input": "2023-09-21T11:02:23.03146Z",
     "iopub.status.busy": "2023-09-21T11:02:23.030517Z",
     "iopub.status.idle": "2023-09-21T11:02:25.735781Z",
     "shell.execute_reply": "2023-09-21T11:02:25.734521Z",
     "shell.execute_reply.started": "2023-09-21T11:02:23.031414Z"
    }
   },
   "outputs": [
    {
     "data": {
      "text/plain": [
       "(array([18262., 18444., 18628., 18809., 18993., 19174., 19358., 19539.,\n",
       "        19723.]),\n",
       " [Text(0, 0, ''),\n",
       "  Text(0, 0, ''),\n",
       "  Text(0, 0, ''),\n",
       "  Text(0, 0, ''),\n",
       "  Text(0, 0, ''),\n",
       "  Text(0, 0, ''),\n",
       "  Text(0, 0, ''),\n",
       "  Text(0, 0, ''),\n",
       "  Text(0, 0, '')])"
      ]
     },
     "execution_count": 123,
     "metadata": {},
     "output_type": "execute_result"
    },
    {
     "data": {
      "image/png": "[encoded data removed]",
      "text/plain": [
       "<Figure size 1296x432 with 1 Axes>"
      ]
     },
     "metadata": {
      "needs_background": "light"
     },
     "output_type": "display_data"
    }
   ],
   "source": [
    "df = df[df['UnitPrice'] < 20000]\n",
    "plt.figure(figsize=(18,6))\n",
    "plt.scatter(x=df.index, y=df['UnitPrice'])\n",
    "plt.xticks(rotation=90)"
   ]
  },
  {
   "cell_type": "markdown",
   "metadata": {},
   "source": [
    "- After removing obvious outliers we still see some values that are out of normal distribution."
   ]
  },
  {
   "cell_type": "markdown",
   "metadata": {},
   "source": [
    "### To understand better the distribution of our data let's check out different percentiles of our numeric features:"
   ]
  },
  {
   "cell_type": "code",
   "execution_count": 124,
   "metadata": {
    "execution": {
     "iopub.execute_input": "2023-09-21T11:02:25.737492Z",
     "iopub.status.busy": "2023-09-21T11:02:25.737163Z",
     "iopub.status.idle": "2023-09-21T11:02:31.567256Z",
     "shell.execute_reply": "2023-09-21T11:02:31.565489Z",
     "shell.execute_reply.started": "2023-09-21T11:02:25.737461Z"
    }
   },
   "outputs": [
    {
     "data": {
      "text/html": [
       "<div>\n",
       "<style scoped>\n",
       "    .dataframe tbody tr th:only-of-type {\n",
       "        vertical-align: middle;\n",
       "    }\n",
       "\n",
       "    .dataframe tbody tr th {\n",
       "        vertical-align: top;\n",
       "    }\n",
       "\n",
       "    .dataframe thead th {\n",
       "        text-align: right;\n",
       "    }\n",
       "</style>\n",
       "<table border=\"1\" class=\"dataframe\">\n",
       "  <thead>\n",
       "    <tr style=\"text-align: right;\">\n",
       "      <th></th>\n",
       "      <th>InvoiceNo</th>\n",
       "      <th>StockCode</th>\n",
       "      <th>Quantity</th>\n",
       "      <th>UnitPrice</th>\n",
       "    </tr>\n",
       "  </thead>\n",
       "  <tbody>\n",
       "    <tr>\n",
       "      <th>0.050</th>\n",
       "      <td>11807.000</td>\n",
       "      <td>4524.0</td>\n",
       "      <td>1.0</td>\n",
       "      <td>4.0000</td>\n",
       "    </tr>\n",
       "    <tr>\n",
       "      <th>0.950</th>\n",
       "      <td>94234.750</td>\n",
       "      <td>63301.9</td>\n",
       "      <td>3.0</td>\n",
       "      <td>439.9800</td>\n",
       "    </tr>\n",
       "    <tr>\n",
       "      <th>0.980</th>\n",
       "      <td>94600.580</td>\n",
       "      <td>78971.0</td>\n",
       "      <td>5.0</td>\n",
       "      <td>689.0000</td>\n",
       "    </tr>\n",
       "    <tr>\n",
       "      <th>0.990</th>\n",
       "      <td>95413.580</td>\n",
       "      <td>85900.0</td>\n",
       "      <td>6.0</td>\n",
       "      <td>1001.6703</td>\n",
       "    </tr>\n",
       "    <tr>\n",
       "      <th>0.999</th>\n",
       "      <td>95585.629</td>\n",
       "      <td>92898.0</td>\n",
       "      <td>12.0</td>\n",
       "      <td>2318.8190</td>\n",
       "    </tr>\n",
       "  </tbody>\n",
       "</table>\n",
       "</div>"
      ],
      "text/plain": [
       "       InvoiceNo  StockCode  Quantity  UnitPrice\n",
       "0.050  11807.000     4524.0       1.0     4.0000\n",
       "0.950  94234.750    63301.9       3.0   439.9800\n",
       "0.980  94600.580    78971.0       5.0   689.0000\n",
       "0.990  95413.580    85900.0       6.0  1001.6703\n",
       "0.999  95585.629    92898.0      12.0  2318.8190"
      ]
     },
     "execution_count": 124,
     "metadata": {},
     "output_type": "execute_result"
    }
   ],
   "source": [
    "df.quantile([0.05, 0.95, 0.98, 0.99, 0.999])"
   ]
  },
  {
   "cell_type": "markdown",
   "metadata": {},
   "source": [
    "- We can see that if we remove the top 4% of our data points we will get rid of absolute outliers and will have a more balanced dataset."
   ]
  },
  {
   "cell_type": "code",
   "execution_count": 125,
   "metadata": {
    "execution": {
     "iopub.status.busy": "2023-09-21T11:02:31.56876Z",
     "iopub.status.idle": "2023-09-21T11:02:31.569184Z",
     "shell.execute_reply": "2023-09-21T11:02:31.569004Z",
     "shell.execute_reply.started": "2023-09-21T11:02:31.568983Z"
    }
   },
   "outputs": [
    {
     "data": {
      "text/plain": [
       "(array([18262., 18444., 18628., 18809., 18993., 19174., 19358., 19539.,\n",
       "        19723.]),\n",
       " [Text(0, 0, ''),\n",
       "  Text(0, 0, ''),\n",
       "  Text(0, 0, ''),\n",
       "  Text(0, 0, ''),\n",
       "  Text(0, 0, ''),\n",
       "  Text(0, 0, ''),\n",
       "  Text(0, 0, ''),\n",
       "  Text(0, 0, ''),\n",
       "  Text(0, 0, '')])"
      ]
     },
     "execution_count": 125,
     "metadata": {},
     "output_type": "execute_result"
    },
    {
     "data": {
      "image/png": "[encoded data removed]",
      "text/plain": [
       "<Figure size 432x288 with 1 Axes>"
      ]
     },
     "metadata": {
      "needs_background": "light"
     },
     "output_type": "display_data"
    }
   ],
   "source": [
    "df_quantile = df[df['UnitPrice'] < 2500]\n",
    "plt.scatter(x=df_quantile.index, y=df_quantile['UnitPrice'])\n",
    "plt.xticks(rotation=90)"
   ]
  },
  {
   "cell_type": "code",
   "execution_count": 126,
   "metadata": {
    "execution": {
     "iopub.status.busy": "2023-09-21T11:02:31.570266Z",
     "iopub.status.idle": "2023-09-21T11:02:31.570718Z",
     "shell.execute_reply": "2023-09-21T11:02:31.570508Z",
     "shell.execute_reply.started": "2023-09-21T11:02:31.570489Z"
    }
   },
   "outputs": [
    {
     "data": {
      "text/html": [
       "<div>\n",
       "<style scoped>\n",
       "    .dataframe tbody tr th:only-of-type {\n",
       "        vertical-align: middle;\n",
       "    }\n",
       "\n",
       "    .dataframe tbody tr th {\n",
       "        vertical-align: top;\n",
       "    }\n",
       "\n",
       "    .dataframe thead th {\n",
       "        text-align: right;\n",
       "    }\n",
       "</style>\n",
       "<table border=\"1\" class=\"dataframe\">\n",
       "  <thead>\n",
       "    <tr style=\"text-align: right;\">\n",
       "      <th></th>\n",
       "      <th>InvoiceNo</th>\n",
       "      <th>StockCode</th>\n",
       "      <th>Quantity</th>\n",
       "      <th>UnitPrice</th>\n",
       "    </tr>\n",
       "  </thead>\n",
       "  <tbody>\n",
       "    <tr>\n",
       "      <th>count</th>\n",
       "      <td>13363.000000</td>\n",
       "      <td>13363.000000</td>\n",
       "      <td>13363.000000</td>\n",
       "      <td>13363.000000</td>\n",
       "    </tr>\n",
       "    <tr>\n",
       "      <th>mean</th>\n",
       "      <td>57581.043703</td>\n",
       "      <td>18937.134551</td>\n",
       "      <td>1.407768</td>\n",
       "      <td>98.995022</td>\n",
       "    </tr>\n",
       "    <tr>\n",
       "      <th>std</th>\n",
       "      <td>29086.350106</td>\n",
       "      <td>18279.591393</td>\n",
       "      <td>1.727834</td>\n",
       "      <td>189.514067</td>\n",
       "    </tr>\n",
       "    <tr>\n",
       "      <th>min</th>\n",
       "      <td>9667.000000</td>\n",
       "      <td>3449.000000</td>\n",
       "      <td>1.000000</td>\n",
       "      <td>0.180000</td>\n",
       "    </tr>\n",
       "    <tr>\n",
       "      <th>25%</th>\n",
       "      <td>30522.000000</td>\n",
       "      <td>8324.000000</td>\n",
       "      <td>1.000000</td>\n",
       "      <td>17.000000</td>\n",
       "    </tr>\n",
       "    <tr>\n",
       "      <th>50%</th>\n",
       "      <td>61920.000000</td>\n",
       "      <td>11343.000000</td>\n",
       "      <td>1.000000</td>\n",
       "      <td>38.000000</td>\n",
       "    </tr>\n",
       "    <tr>\n",
       "      <th>75%</th>\n",
       "      <td>87137.000000</td>\n",
       "      <td>20507.000000</td>\n",
       "      <td>1.000000</td>\n",
       "      <td>90.040000</td>\n",
       "    </tr>\n",
       "    <tr>\n",
       "      <th>max</th>\n",
       "      <td>95599.000000</td>\n",
       "      <td>95148.000000</td>\n",
       "      <td>150.000000</td>\n",
       "      <td>2499.000000</td>\n",
       "    </tr>\n",
       "  </tbody>\n",
       "</table>\n",
       "</div>"
      ],
      "text/plain": [
       "          InvoiceNo     StockCode      Quantity     UnitPrice\n",
       "count  13363.000000  13363.000000  13363.000000  13363.000000\n",
       "mean   57581.043703  18937.134551      1.407768     98.995022\n",
       "std    29086.350106  18279.591393      1.727834    189.514067\n",
       "min     9667.000000   3449.000000      1.000000      0.180000\n",
       "25%    30522.000000   8324.000000      1.000000     17.000000\n",
       "50%    61920.000000  11343.000000      1.000000     38.000000\n",
       "75%    87137.000000  20507.000000      1.000000     90.040000\n",
       "max    95599.000000  95148.000000    150.000000   2499.000000"
      ]
     },
     "execution_count": 126,
     "metadata": {},
     "output_type": "execute_result"
    }
   ],
   "source": [
    "df_quantile.describe()"
   ]
  },
  {
   "cell_type": "markdown",
   "metadata": {},
   "source": [
    "- Looks like our data is almost ready for modelling.\n",
    "- We performed a clean up, we removed outliers that were disturbing the balance of our dataset, we removed invalid records.\n",
    "- Now our data looks much better! and it doesn't lose it's value."
   ]
  },
  {
   "cell_type": "markdown",
   "metadata": {},
   "source": [
    "# Visually checking distribution of numeric features"
   ]
  },
  {
   "cell_type": "code",
   "execution_count": 127,
   "metadata": {
    "execution": {
     "iopub.status.busy": "2023-09-21T11:02:31.572297Z",
     "iopub.status.idle": "2023-09-21T11:02:31.572867Z",
     "shell.execute_reply": "2023-09-21T11:02:31.572601Z",
     "shell.execute_reply.started": "2023-09-21T11:02:31.572575Z"
    }
   },
   "outputs": [
    {
     "data": {
      "text/plain": [
       "<AxesSubplot:ylabel='Density'>"
      ]
     },
     "execution_count": 127,
     "metadata": {},
     "output_type": "execute_result"
    },
    {
     "data": {
      "image/png": "[encoded data removed]",
      "text/plain": [
       "<Figure size 864x288 with 1 Axes>"
      ]
     },
     "metadata": {
      "needs_background": "light"
     },
     "output_type": "display_data"
    }
   ],
   "source": [
    "plt.figure(figsize=(12,4))\n",
    "sns.distplot(df_quantile[df_quantile['UnitPrice'] < 100]['UnitPrice'].values, kde=True, bins=10)"
   ]
  },
  {
   "cell_type": "code",
   "execution_count": 128,
   "metadata": {
    "execution": {
     "iopub.status.busy": "2023-09-21T11:02:31.574246Z",
     "iopub.status.idle": "2023-09-21T11:02:31.574812Z",
     "shell.execute_reply": "2023-09-21T11:02:31.574535Z",
     "shell.execute_reply.started": "2023-09-21T11:02:31.57451Z"
    }
   },
   "outputs": [
    {
     "data": {
      "text/plain": [
       "<AxesSubplot:ylabel='Density'>"
      ]
     },
     "execution_count": 128,
     "metadata": {},
     "output_type": "execute_result"
    },
    {
     "data": {
      "image/png": "[encoded data removed]",
      "text/plain": [
       "<Figure size 864x288 with 1 Axes>"
      ]
     },
     "metadata": {
      "needs_background": "light"
     },
     "output_type": "display_data"
    }
   ],
   "source": [
    "plt.figure(figsize=(12,4))\n",
    "sns.distplot(df_quantile[df_quantile['UnitPrice'] < 50]['UnitPrice'].values, kde=True, bins=10, color='green')"
   ]
  },
  {
   "cell_type": "markdown",
   "metadata": {},
   "source": [
    "- From these histograms, we can see that the vast majority of items sold in this store have a low price range - 0 to 35 pounds."
   ]
  },
  {
   "cell_type": "code",
   "execution_count": 129,
   "metadata": {
    "execution": {
     "iopub.status.busy": "2023-09-21T11:02:31.576904Z",
     "iopub.status.idle": "2023-09-21T11:02:31.577317Z",
     "shell.execute_reply": "2023-09-21T11:02:31.577142Z",
     "shell.execute_reply.started": "2023-09-21T11:02:31.577123Z"
    }
   },
   "outputs": [
    {
     "data": {
      "text/plain": [
       "<AxesSubplot:xlabel='Quantity', ylabel='Density'>"
      ]
     },
     "execution_count": 129,
     "metadata": {},
     "output_type": "execute_result"
    },
    {
     "data": {
      "image/png": "[encoded data removed]",
      "text/plain": [
       "<Figure size 864x288 with 1 Axes>"
      ]
     },
     "metadata": {
      "needs_background": "light"
     },
     "output_type": "display_data"
    }
   ],
   "source": [
    "plt.figure(figsize=(12,4))\n",
    "sns.distplot(df_quantile[df_quantile['Quantity'] <= 10]['Quantity'], kde=True, bins=10, color='red')"
   ]
  },
  {
   "cell_type": "code",
   "execution_count": 130,
   "metadata": {
    "execution": {
     "iopub.status.busy": "2023-09-21T11:02:31.579583Z",
     "iopub.status.idle": "2023-09-21T11:02:31.580168Z",
     "shell.execute_reply": "2023-09-21T11:02:31.579888Z",
     "shell.execute_reply.started": "2023-09-21T11:02:31.579863Z"
    }
   },
   "outputs": [
    {
     "data": {
      "text/plain": [
       "<AxesSubplot:xlabel='Quantity', ylabel='Density'>"
      ]
     },
     "execution_count": 130,
     "metadata": {},
     "output_type": "execute_result"
    },
    {
     "data": {
      "image/png": "[encoded data removed]",
      "text/plain": [
       "<Figure size 864x288 with 1 Axes>"
      ]
     },
     "metadata": {
      "needs_background": "light"
     },
     "output_type": "display_data"
    }
   ],
   "source": [
    "plt.figure(figsize=(12,4))\n",
    "sns.distplot(df_quantile[df_quantile['Quantity'] <= 2]['Quantity'], kde=True, bins=10, color='orange')"
   ]
  },
  {
   "cell_type": "markdown",
   "metadata": {},
   "source": [
    "- From these histograms we can see that people bought normally 1 0r 2 items together."
   ]
  },
  {
   "cell_type": "code",
   "execution_count": 131,
   "metadata": {
    "execution": {
     "iopub.status.busy": "2023-09-21T11:02:31.583259Z",
     "iopub.status.idle": "2023-09-21T11:02:31.584115Z",
     "shell.execute_reply": "2023-09-21T11:02:31.583853Z",
     "shell.execute_reply.started": "2023-09-21T11:02:31.583815Z"
    }
   },
   "outputs": [
    {
     "data": {
      "text/plain": [
       "<AxesSubplot:xlabel='UnitPrice', ylabel='Density'>"
      ]
     },
     "execution_count": 131,
     "metadata": {},
     "output_type": "execute_result"
    },
    {
     "data": {
      "image/png": "[encoded data removed]",
      "text/plain": [
       "<Figure size 864x288 with 1 Axes>"
      ]
     },
     "metadata": {
      "needs_background": "light"
     },
     "output_type": "display_data"
    }
   ],
   "source": [
    "plt.figure(figsize=(12,4))\n",
    "sns.distplot(df_quantile[df_quantile['UnitPrice'] < 1500]['UnitPrice'], kde=True, bins=10, color='purple')"
   ]
  },
  {
   "cell_type": "code",
   "execution_count": 132,
   "metadata": {
    "execution": {
     "iopub.status.busy": "2023-09-21T11:02:31.585616Z",
     "iopub.status.idle": "2023-09-21T11:02:31.586469Z",
     "shell.execute_reply": "2023-09-21T11:02:31.58621Z",
     "shell.execute_reply.started": "2023-09-21T11:02:31.586181Z"
    }
   },
   "outputs": [
    {
     "data": {
      "text/plain": [
       "<AxesSubplot:xlabel='UnitPrice', ylabel='Density'>"
      ]
     },
     "execution_count": 132,
     "metadata": {},
     "output_type": "execute_result"
    },
    {
     "data": {
      "image/png": "[encoded data removed]",
      "text/plain": [
       "<Figure size 864x288 with 1 Axes>"
      ]
     },
     "metadata": {
      "needs_background": "light"
     },
     "output_type": "display_data"
    }
   ],
   "source": [
    "plt.figure(figsize=(12,4))\n",
    "sns.distplot(df_quantile[df_quantile['UnitPrice'] < 300]['UnitPrice'], kde=True, bins=10, color='grey')"
   ]
  },
  {
   "cell_type": "markdown",
   "metadata": {},
   "source": [
    "- From these histograms, we can understand that majority of sales per order were in the range 1-150 AUD each."
   ]
  },
  {
   "cell_type": "markdown",
   "metadata": {},
   "source": [
    "# Analysing sales over time"
   ]
  },
  {
   "cell_type": "code",
   "execution_count": 133,
   "metadata": {
    "execution": {
     "iopub.status.busy": "2023-09-21T11:02:31.58798Z",
     "iopub.status.idle": "2023-09-21T11:02:31.588798Z",
     "shell.execute_reply": "2023-09-21T11:02:31.588524Z",
     "shell.execute_reply.started": "2023-09-21T11:02:31.588497Z"
    }
   },
   "outputs": [
    {
     "data": {
      "text/html": [
       "<div>\n",
       "<style scoped>\n",
       "    .dataframe tbody tr th:only-of-type {\n",
       "        vertical-align: middle;\n",
       "    }\n",
       "\n",
       "    .dataframe tbody tr th {\n",
       "        vertical-align: top;\n",
       "    }\n",
       "\n",
       "    .dataframe thead th {\n",
       "        text-align: right;\n",
       "    }\n",
       "</style>\n",
       "<table border=\"1\" class=\"dataframe\">\n",
       "  <thead>\n",
       "    <tr style=\"text-align: right;\">\n",
       "      <th></th>\n",
       "      <th>UnitPrice</th>\n",
       "    </tr>\n",
       "    <tr>\n",
       "      <th>InvoiceDate</th>\n",
       "      <th></th>\n",
       "    </tr>\n",
       "  </thead>\n",
       "  <tbody>\n",
       "    <tr>\n",
       "      <th>2023-09-12 22:58:00</th>\n",
       "      <td>85.0</td>\n",
       "    </tr>\n",
       "    <tr>\n",
       "      <th>2023-09-12 21:00:00</th>\n",
       "      <td>78.0</td>\n",
       "    </tr>\n",
       "    <tr>\n",
       "      <th>2023-09-12 20:42:00</th>\n",
       "      <td>40.0</td>\n",
       "    </tr>\n",
       "    <tr>\n",
       "      <th>2023-09-12 15:05:00</th>\n",
       "      <td>119.0</td>\n",
       "    </tr>\n",
       "    <tr>\n",
       "      <th>2023-09-12 10:24:00</th>\n",
       "      <td>45.0</td>\n",
       "    </tr>\n",
       "  </tbody>\n",
       "</table>\n",
       "</div>"
      ],
      "text/plain": [
       "                     UnitPrice\n",
       "InvoiceDate                   \n",
       "2023-09-12 22:58:00       85.0\n",
       "2023-09-12 21:00:00       78.0\n",
       "2023-09-12 20:42:00       40.0\n",
       "2023-09-12 15:05:00      119.0\n",
       "2023-09-12 10:24:00       45.0"
      ]
     },
     "execution_count": 133,
     "metadata": {},
     "output_type": "execute_result"
    }
   ],
   "source": [
    "df_ts = df[['UnitPrice']]\n",
    "df_ts.head()"
   ]
  },
  {
   "cell_type": "markdown",
   "metadata": {},
   "source": [
    "- As we can see every invoice has its own timestamp (definitely based on the time the order was made).\n",
    "- We can resample time data by, for example, weeks, and try to see if there are any patterns in our sales."
   ]
  },
  {
   "cell_type": "code",
   "execution_count": 134,
   "metadata": {
    "execution": {
     "iopub.status.busy": "2023-09-21T11:02:31.590284Z",
     "iopub.status.idle": "2023-09-21T11:02:31.591095Z",
     "shell.execute_reply": "2023-09-21T11:02:31.59084Z",
     "shell.execute_reply.started": "2023-09-21T11:02:31.590804Z"
    }
   },
   "outputs": [
    {
     "data": {
      "text/plain": [
       "<AxesSubplot:xlabel='InvoiceDate'>"
      ]
     },
     "execution_count": 134,
     "metadata": {},
     "output_type": "execute_result"
    },
    {
     "data": {
      "text/plain": [
       "<Figure size 1296x432 with 0 Axes>"
      ]
     },
     "metadata": {},
     "output_type": "display_data"
    },
    {
     "data": {
      "image/png": "[encoded data removed]",
      "text/plain": [
       "<Figure size 432x288 with 1 Axes>"
      ]
     },
     "metadata": {
      "needs_background": "light"
     },
     "output_type": "display_data"
    }
   ],
   "source": [
    "plt.figure(figsize=(18,6))\n",
    "df_resample = df_ts.resample('W').sum()\n",
    "df_resample.plot()"
   ]
  },
  {
   "cell_type": "markdown",
   "metadata": {},
   "source": [
    "- That week with 0 sales in January looks suspicious, let's check it closer."
   ]
  },
  {
   "cell_type": "code",
   "execution_count": 135,
   "metadata": {
    "execution": {
     "iopub.status.busy": "2023-09-21T11:02:31.592548Z",
     "iopub.status.idle": "2023-09-21T11:02:31.593586Z",
     "shell.execute_reply": "2023-09-21T11:02:31.593306Z",
     "shell.execute_reply.started": "2023-09-21T11:02:31.593277Z"
    },
    "scrolled": false
   },
   "outputs": [
    {
     "data": {
      "text/html": [
       "<div>\n",
       "<style scoped>\n",
       "    .dataframe tbody tr th:only-of-type {\n",
       "        vertical-align: middle;\n",
       "    }\n",
       "\n",
       "    .dataframe tbody tr th {\n",
       "        vertical-align: top;\n",
       "    }\n",
       "\n",
       "    .dataframe thead th {\n",
       "        text-align: right;\n",
       "    }\n",
       "</style>\n",
       "<table border=\"1\" class=\"dataframe\">\n",
       "  <thead>\n",
       "    <tr style=\"text-align: right;\">\n",
       "      <th></th>\n",
       "      <th>UnitPrice</th>\n",
       "    </tr>\n",
       "    <tr>\n",
       "      <th>InvoiceDate</th>\n",
       "      <th></th>\n",
       "    </tr>\n",
       "  </thead>\n",
       "  <tbody>\n",
       "    <tr>\n",
       "      <th>2020-03-01</th>\n",
       "      <td>0.00</td>\n",
       "    </tr>\n",
       "    <tr>\n",
       "      <th>2020-03-08</th>\n",
       "      <td>2371.53</td>\n",
       "    </tr>\n",
       "    <tr>\n",
       "      <th>2020-03-15</th>\n",
       "      <td>374.91</td>\n",
       "    </tr>\n",
       "    <tr>\n",
       "      <th>2020-03-22</th>\n",
       "      <td>268.93</td>\n",
       "    </tr>\n",
       "    <tr>\n",
       "      <th>2020-03-29</th>\n",
       "      <td>466.75</td>\n",
       "    </tr>\n",
       "    <tr>\n",
       "      <th>...</th>\n",
       "      <td>...</td>\n",
       "    </tr>\n",
       "    <tr>\n",
       "      <th>2023-11-19</th>\n",
       "      <td>4470.49</td>\n",
       "    </tr>\n",
       "    <tr>\n",
       "      <th>2023-11-26</th>\n",
       "      <td>51495.51</td>\n",
       "    </tr>\n",
       "    <tr>\n",
       "      <th>2023-12-03</th>\n",
       "      <td>12071.00</td>\n",
       "    </tr>\n",
       "    <tr>\n",
       "      <th>2023-12-10</th>\n",
       "      <td>14094.48</td>\n",
       "    </tr>\n",
       "    <tr>\n",
       "      <th>2023-12-17</th>\n",
       "      <td>627.25</td>\n",
       "    </tr>\n",
       "  </tbody>\n",
       "</table>\n",
       "<p>199 rows × 1 columns</p>\n",
       "</div>"
      ],
      "text/plain": [
       "             UnitPrice\n",
       "InvoiceDate           \n",
       "2020-03-01        0.00\n",
       "2020-03-08     2371.53\n",
       "2020-03-15      374.91\n",
       "2020-03-22      268.93\n",
       "2020-03-29      466.75\n",
       "...                ...\n",
       "2023-11-19     4470.49\n",
       "2023-11-26    51495.51\n",
       "2023-12-03    12071.00\n",
       "2023-12-10    14094.48\n",
       "2023-12-17      627.25\n",
       "\n",
       "[199 rows x 1 columns]"
      ]
     },
     "execution_count": 135,
     "metadata": {},
     "output_type": "execute_result"
    }
   ],
   "source": [
    "df_resample['03-2020':'12-2023']"
   ]
  },
  {
   "cell_type": "markdown",
   "metadata": {},
   "source": [
    "- Now it makes sense - possibly, during the march 2020 they recently open the online store and that's why they didn't make any sales."
   ]
  },
  {
   "cell_type": "markdown",
   "metadata": {},
   "source": [
    "# Preparing data for modeling and feature creation\n",
    "- Now comes the most fun part of the project - building a model.\n",
    "- To do this we will need to create a few more additional features to make our model more sophisticated."
   ]
  },
  {
   "cell_type": "code",
   "execution_count": 136,
   "metadata": {
    "execution": {
     "iopub.status.busy": "2023-09-21T11:02:31.595194Z",
     "iopub.status.idle": "2023-09-21T11:02:31.596063Z",
     "shell.execute_reply": "2023-09-21T11:02:31.595786Z",
     "shell.execute_reply.started": "2023-09-21T11:02:31.595759Z"
    }
   },
   "outputs": [
    {
     "data": {
      "text/html": [
       "<div>\n",
       "<style scoped>\n",
       "    .dataframe tbody tr th:only-of-type {\n",
       "        vertical-align: middle;\n",
       "    }\n",
       "\n",
       "    .dataframe tbody tr th {\n",
       "        vertical-align: top;\n",
       "    }\n",
       "\n",
       "    .dataframe thead th {\n",
       "        text-align: right;\n",
       "    }\n",
       "</style>\n",
       "<table border=\"1\" class=\"dataframe\">\n",
       "  <thead>\n",
       "    <tr style=\"text-align: right;\">\n",
       "      <th></th>\n",
       "      <th>InvoiceNo</th>\n",
       "      <th>StockCode</th>\n",
       "      <th>Quantity</th>\n",
       "      <th>UnitPrice</th>\n",
       "    </tr>\n",
       "  </thead>\n",
       "  <tbody>\n",
       "    <tr>\n",
       "      <th>count</th>\n",
       "      <td>13238.000000</td>\n",
       "      <td>13238.000000</td>\n",
       "      <td>13238.000000</td>\n",
       "      <td>13238.000000</td>\n",
       "    </tr>\n",
       "    <tr>\n",
       "      <th>mean</th>\n",
       "      <td>57589.176688</td>\n",
       "      <td>18916.979831</td>\n",
       "      <td>1.411014</td>\n",
       "      <td>86.686707</td>\n",
       "    </tr>\n",
       "    <tr>\n",
       "      <th>std</th>\n",
       "      <td>29096.428831</td>\n",
       "      <td>18271.272187</td>\n",
       "      <td>1.735442</td>\n",
       "      <td>137.781847</td>\n",
       "    </tr>\n",
       "    <tr>\n",
       "      <th>min</th>\n",
       "      <td>9667.000000</td>\n",
       "      <td>3449.000000</td>\n",
       "      <td>1.000000</td>\n",
       "      <td>0.180000</td>\n",
       "    </tr>\n",
       "    <tr>\n",
       "      <th>25%</th>\n",
       "      <td>30507.000000</td>\n",
       "      <td>8318.000000</td>\n",
       "      <td>1.000000</td>\n",
       "      <td>17.000000</td>\n",
       "    </tr>\n",
       "    <tr>\n",
       "      <th>50%</th>\n",
       "      <td>61920.000000</td>\n",
       "      <td>11305.000000</td>\n",
       "      <td>1.000000</td>\n",
       "      <td>37.000000</td>\n",
       "    </tr>\n",
       "    <tr>\n",
       "      <th>75%</th>\n",
       "      <td>87127.750000</td>\n",
       "      <td>19883.250000</td>\n",
       "      <td>1.000000</td>\n",
       "      <td>89.000000</td>\n",
       "    </tr>\n",
       "    <tr>\n",
       "      <th>max</th>\n",
       "      <td>95599.000000</td>\n",
       "      <td>95148.000000</td>\n",
       "      <td>150.000000</td>\n",
       "      <td>999.910000</td>\n",
       "    </tr>\n",
       "  </tbody>\n",
       "</table>\n",
       "</div>"
      ],
      "text/plain": [
       "          InvoiceNo     StockCode      Quantity     UnitPrice\n",
       "count  13238.000000  13238.000000  13238.000000  13238.000000\n",
       "mean   57589.176688  18916.979831      1.411014     86.686707\n",
       "std    29096.428831  18271.272187      1.735442    137.781847\n",
       "min     9667.000000   3449.000000      1.000000      0.180000\n",
       "25%    30507.000000   8318.000000      1.000000     17.000000\n",
       "50%    61920.000000  11305.000000      1.000000     37.000000\n",
       "75%    87127.750000  19883.250000      1.000000     89.000000\n",
       "max    95599.000000  95148.000000    150.000000    999.910000"
      ]
     },
     "execution_count": 136,
     "metadata": {},
     "output_type": "execute_result"
    }
   ],
   "source": [
    "df_clean = df[df['UnitPrice'] < 1000]\n",
    "df_clean.describe()"
   ]
  },
  {
   "cell_type": "code",
   "execution_count": 137,
   "metadata": {
    "execution": {
     "iopub.status.busy": "2023-09-21T11:02:31.597771Z",
     "iopub.status.idle": "2023-09-21T11:02:31.598313Z",
     "shell.execute_reply": "2023-09-21T11:02:31.598064Z",
     "shell.execute_reply.started": "2023-09-21T11:02:31.598038Z"
    }
   },
   "outputs": [
    {
     "data": {
      "text/plain": [
       "DatetimeIndex(['2023-09-12 22:58:00', '2023-09-12 21:00:00',\n",
       "               '2023-09-12 20:42:00', '2023-09-12 15:05:00',\n",
       "               '2023-09-12 10:24:00', '2023-08-12 23:32:00',\n",
       "               '2023-08-12 23:32:00', '2023-08-12 23:32:00',\n",
       "               '2023-08-12 21:34:00', '2023-08-12 21:13:00',\n",
       "               ...\n",
       "               '2020-03-24 17:31:00', '2020-03-24 17:31:00',\n",
       "               '2020-03-24 14:34:00', '2020-03-24 14:34:00',\n",
       "               '2020-03-22 21:24:00', '2020-03-22 21:24:00',\n",
       "               '2020-03-22 21:24:00', '2020-03-20 12:52:00',\n",
       "               '2020-03-20 12:52:00', '2020-03-20 12:52:00'],\n",
       "              dtype='datetime64[ns]', name='InvoiceDate', length=13238, freq=None)"
      ]
     },
     "execution_count": 137,
     "metadata": {},
     "output_type": "execute_result"
    }
   ],
   "source": [
    "df_clean.index"
   ]
  },
  {
   "cell_type": "markdown",
   "metadata": {},
   "source": [
    "# Quantity per invoice feature\n",
    "- A feature that could influence the sales output could be \"Quantity per invoice\". Let's find the data for this feature."
   ]
  },
  {
   "cell_type": "code",
   "execution_count": 138,
   "metadata": {
    "execution": {
     "iopub.status.busy": "2023-09-21T11:02:31.600055Z",
     "iopub.status.idle": "2023-09-21T11:02:31.600889Z",
     "shell.execute_reply": "2023-09-21T11:02:31.600598Z",
     "shell.execute_reply.started": "2023-09-21T11:02:31.600569Z"
    }
   },
   "outputs": [],
   "source": [
    "df_join = df_clean.groupby('InvoiceNo')[['Quantity']].sum()"
   ]
  },
  {
   "cell_type": "code",
   "execution_count": 139,
   "metadata": {
    "execution": {
     "iopub.status.busy": "2023-09-21T11:02:31.602295Z",
     "iopub.status.idle": "2023-09-21T11:02:31.603157Z",
     "shell.execute_reply": "2023-09-21T11:02:31.602889Z",
     "shell.execute_reply.started": "2023-09-21T11:02:31.602862Z"
    }
   },
   "outputs": [
    {
     "data": {
      "text/html": [
       "<div>\n",
       "<style scoped>\n",
       "    .dataframe tbody tr th:only-of-type {\n",
       "        vertical-align: middle;\n",
       "    }\n",
       "\n",
       "    .dataframe tbody tr th {\n",
       "        vertical-align: top;\n",
       "    }\n",
       "\n",
       "    .dataframe thead th {\n",
       "        text-align: right;\n",
       "    }\n",
       "</style>\n",
       "<table border=\"1\" class=\"dataframe\">\n",
       "  <thead>\n",
       "    <tr style=\"text-align: right;\">\n",
       "      <th></th>\n",
       "      <th>InvoiceNo</th>\n",
       "      <th>Quantity</th>\n",
       "    </tr>\n",
       "  </thead>\n",
       "  <tbody>\n",
       "    <tr>\n",
       "      <th>0</th>\n",
       "      <td>9667</td>\n",
       "      <td>3</td>\n",
       "    </tr>\n",
       "    <tr>\n",
       "      <th>1</th>\n",
       "      <td>9681</td>\n",
       "      <td>3</td>\n",
       "    </tr>\n",
       "    <tr>\n",
       "      <th>2</th>\n",
       "      <td>9685</td>\n",
       "      <td>2</td>\n",
       "    </tr>\n",
       "    <tr>\n",
       "      <th>3</th>\n",
       "      <td>9686</td>\n",
       "      <td>5</td>\n",
       "    </tr>\n",
       "    <tr>\n",
       "      <th>4</th>\n",
       "      <td>9696</td>\n",
       "      <td>4</td>\n",
       "    </tr>\n",
       "  </tbody>\n",
       "</table>\n",
       "</div>"
      ],
      "text/plain": [
       "   InvoiceNo  Quantity\n",
       "0       9667         3\n",
       "1       9681         3\n",
       "2       9685         2\n",
       "3       9686         5\n",
       "4       9696         4"
      ]
     },
     "execution_count": 139,
     "metadata": {},
     "output_type": "execute_result"
    }
   ],
   "source": [
    "df_join = df_join.reset_index()\n",
    "df_join.head()"
   ]
  },
  {
   "cell_type": "code",
   "execution_count": 140,
   "metadata": {
    "execution": {
     "iopub.status.busy": "2023-09-21T11:02:31.604996Z",
     "iopub.status.idle": "2023-09-21T11:02:31.605511Z",
     "shell.execute_reply": "2023-09-21T11:02:31.605275Z",
     "shell.execute_reply.started": "2023-09-21T11:02:31.605249Z"
    }
   },
   "outputs": [
    {
     "data": {
      "text/html": [
       "<div>\n",
       "<style scoped>\n",
       "    .dataframe tbody tr th:only-of-type {\n",
       "        vertical-align: middle;\n",
       "    }\n",
       "\n",
       "    .dataframe tbody tr th {\n",
       "        vertical-align: top;\n",
       "    }\n",
       "\n",
       "    .dataframe thead th {\n",
       "        text-align: right;\n",
       "    }\n",
       "</style>\n",
       "<table border=\"1\" class=\"dataframe\">\n",
       "  <thead>\n",
       "    <tr style=\"text-align: right;\">\n",
       "      <th></th>\n",
       "      <th>InvoiceNo</th>\n",
       "      <th>StockCode</th>\n",
       "      <th>Description</th>\n",
       "      <th>Quantity</th>\n",
       "      <th>UnitPrice</th>\n",
       "      <th>State</th>\n",
       "      <th>InvoiceDate</th>\n",
       "      <th>QuantityInv</th>\n",
       "    </tr>\n",
       "  </thead>\n",
       "  <tbody>\n",
       "    <tr>\n",
       "      <th>13223</th>\n",
       "      <td>9696</td>\n",
       "      <td>5167</td>\n",
       "      <td>Grey DIN UPVC Pipe Per Metre - 25mm</td>\n",
       "      <td>1</td>\n",
       "      <td>6.90</td>\n",
       "      <td>NSW</td>\n",
       "      <td>2020-03-29 12:20:00</td>\n",
       "      <td>4</td>\n",
       "    </tr>\n",
       "    <tr>\n",
       "      <th>13224</th>\n",
       "      <td>9696</td>\n",
       "      <td>6012</td>\n",
       "      <td>Grey DIN 45 Degree Elbow - (Duplicate Imported...</td>\n",
       "      <td>1</td>\n",
       "      <td>6.00</td>\n",
       "      <td>NSW</td>\n",
       "      <td>2020-03-29 12:20:00</td>\n",
       "      <td>4</td>\n",
       "    </tr>\n",
       "    <tr>\n",
       "      <th>13225</th>\n",
       "      <td>9686</td>\n",
       "      <td>8338</td>\n",
       "      <td>AF Vege Clip</td>\n",
       "      <td>1</td>\n",
       "      <td>37.99</td>\n",
       "      <td>NSW</td>\n",
       "      <td>2020-03-24 17:31:00</td>\n",
       "      <td>5</td>\n",
       "    </tr>\n",
       "    <tr>\n",
       "      <th>13226</th>\n",
       "      <td>9686</td>\n",
       "      <td>4686</td>\n",
       "      <td>Calcium 850g</td>\n",
       "      <td>1</td>\n",
       "      <td>20.98</td>\n",
       "      <td>NSW</td>\n",
       "      <td>2020-03-24 17:31:00</td>\n",
       "      <td>5</td>\n",
       "    </tr>\n",
       "    <tr>\n",
       "      <th>13227</th>\n",
       "      <td>9686</td>\n",
       "      <td>4683</td>\n",
       "      <td>Kh Buffer 1200g</td>\n",
       "      <td>1</td>\n",
       "      <td>25.98</td>\n",
       "      <td>NSW</td>\n",
       "      <td>2020-03-24 17:31:00</td>\n",
       "      <td>5</td>\n",
       "    </tr>\n",
       "    <tr>\n",
       "      <th>13228</th>\n",
       "      <td>9686</td>\n",
       "      <td>4689</td>\n",
       "      <td>Magnesium 750g</td>\n",
       "      <td>1</td>\n",
       "      <td>20.98</td>\n",
       "      <td>NSW</td>\n",
       "      <td>2020-03-24 17:31:00</td>\n",
       "      <td>5</td>\n",
       "    </tr>\n",
       "    <tr>\n",
       "      <th>13229</th>\n",
       "      <td>9686</td>\n",
       "      <td>4678</td>\n",
       "      <td>Reef Mineral Salt 800g</td>\n",
       "      <td>1</td>\n",
       "      <td>25.98</td>\n",
       "      <td>NSW</td>\n",
       "      <td>2020-03-24 17:31:00</td>\n",
       "      <td>5</td>\n",
       "    </tr>\n",
       "    <tr>\n",
       "      <th>13230</th>\n",
       "      <td>9685</td>\n",
       "      <td>8831</td>\n",
       "      <td>Hikari MARINE A 110G</td>\n",
       "      <td>1</td>\n",
       "      <td>15.99</td>\n",
       "      <td>NSW</td>\n",
       "      <td>2020-03-24 14:34:00</td>\n",
       "      <td>2</td>\n",
       "    </tr>\n",
       "    <tr>\n",
       "      <th>13231</th>\n",
       "      <td>9685</td>\n",
       "      <td>3548</td>\n",
       "      <td>Quantum 1000ml Reef Essential Bio-Enhance</td>\n",
       "      <td>1</td>\n",
       "      <td>39.99</td>\n",
       "      <td>NSW</td>\n",
       "      <td>2020-03-24 14:34:00</td>\n",
       "      <td>2</td>\n",
       "    </tr>\n",
       "    <tr>\n",
       "      <th>13232</th>\n",
       "      <td>9681</td>\n",
       "      <td>3499</td>\n",
       "      <td>Quantum Reef Essential 1000ml Aragonite B - Ca...</td>\n",
       "      <td>1</td>\n",
       "      <td>39.99</td>\n",
       "      <td>NSW</td>\n",
       "      <td>2020-03-22 21:24:00</td>\n",
       "      <td>3</td>\n",
       "    </tr>\n",
       "    <tr>\n",
       "      <th>13233</th>\n",
       "      <td>9681</td>\n",
       "      <td>3537</td>\n",
       "      <td>Reef Essential High Range HR Nitrate Remover 1...</td>\n",
       "      <td>1</td>\n",
       "      <td>39.99</td>\n",
       "      <td>NSW</td>\n",
       "      <td>2020-03-22 21:24:00</td>\n",
       "      <td>3</td>\n",
       "    </tr>\n",
       "    <tr>\n",
       "      <th>13234</th>\n",
       "      <td>9681</td>\n",
       "      <td>3543</td>\n",
       "      <td>Quantum 500ml Reef Essential Bio-Enhance</td>\n",
       "      <td>1</td>\n",
       "      <td>24.99</td>\n",
       "      <td>NSW</td>\n",
       "      <td>2020-03-22 21:24:00</td>\n",
       "      <td>3</td>\n",
       "    </tr>\n",
       "    <tr>\n",
       "      <th>13235</th>\n",
       "      <td>9667</td>\n",
       "      <td>5227</td>\n",
       "      <td>Reef Anabolics Reef Booster 500ml - Coral Growth</td>\n",
       "      <td>1</td>\n",
       "      <td>39.99</td>\n",
       "      <td>QLD</td>\n",
       "      <td>2020-03-20 12:52:00</td>\n",
       "      <td>3</td>\n",
       "    </tr>\n",
       "    <tr>\n",
       "      <th>13236</th>\n",
       "      <td>9667</td>\n",
       "      <td>5223</td>\n",
       "      <td>Reef Anabolics Nutrition Pack 50ml</td>\n",
       "      <td>1</td>\n",
       "      <td>89.98</td>\n",
       "      <td>QLD</td>\n",
       "      <td>2020-03-20 12:52:00</td>\n",
       "      <td>3</td>\n",
       "    </tr>\n",
       "    <tr>\n",
       "      <th>13237</th>\n",
       "      <td>9667</td>\n",
       "      <td>9483</td>\n",
       "      <td>Reef Revolution 60g Polyp Feast - Coral Food</td>\n",
       "      <td>1</td>\n",
       "      <td>33.99</td>\n",
       "      <td>QLD</td>\n",
       "      <td>2020-03-20 12:52:00</td>\n",
       "      <td>3</td>\n",
       "    </tr>\n",
       "  </tbody>\n",
       "</table>\n",
       "</div>"
      ],
      "text/plain": [
       "       InvoiceNo  StockCode  \\\n",
       "13223       9696       5167   \n",
       "13224       9696       6012   \n",
       "13225       9686       8338   \n",
       "13226       9686       4686   \n",
       "13227       9686       4683   \n",
       "13228       9686       4689   \n",
       "13229       9686       4678   \n",
       "13230       9685       8831   \n",
       "13231       9685       3548   \n",
       "13232       9681       3499   \n",
       "13233       9681       3537   \n",
       "13234       9681       3543   \n",
       "13235       9667       5227   \n",
       "13236       9667       5223   \n",
       "13237       9667       9483   \n",
       "\n",
       "                                             Description  Quantity  UnitPrice  \\\n",
       "13223                Grey DIN UPVC Pipe Per Metre - 25mm         1       6.90   \n",
       "13224  Grey DIN 45 Degree Elbow - (Duplicate Imported...         1       6.00   \n",
       "13225                                       AF Vege Clip         1      37.99   \n",
       "13226                                       Calcium 850g         1      20.98   \n",
       "13227                                    Kh Buffer 1200g         1      25.98   \n",
       "13228                                     Magnesium 750g         1      20.98   \n",
       "13229                             Reef Mineral Salt 800g         1      25.98   \n",
       "13230                               Hikari MARINE A 110G         1      15.99   \n",
       "13231          Quantum 1000ml Reef Essential Bio-Enhance         1      39.99   \n",
       "13232  Quantum Reef Essential 1000ml Aragonite B - Ca...         1      39.99   \n",
       "13233  Reef Essential High Range HR Nitrate Remover 1...         1      39.99   \n",
       "13234           Quantum 500ml Reef Essential Bio-Enhance         1      24.99   \n",
       "13235   Reef Anabolics Reef Booster 500ml - Coral Growth         1      39.99   \n",
       "13236                 Reef Anabolics Nutrition Pack 50ml         1      89.98   \n",
       "13237       Reef Revolution 60g Polyp Feast - Coral Food         1      33.99   \n",
       "\n",
       "      State         InvoiceDate  QuantityInv  \n",
       "13223   NSW 2020-03-29 12:20:00            4  \n",
       "13224   NSW 2020-03-29 12:20:00            4  \n",
       "13225   NSW 2020-03-24 17:31:00            5  \n",
       "13226   NSW 2020-03-24 17:31:00            5  \n",
       "13227   NSW 2020-03-24 17:31:00            5  \n",
       "13228   NSW 2020-03-24 17:31:00            5  \n",
       "13229   NSW 2020-03-24 17:31:00            5  \n",
       "13230   NSW 2020-03-24 14:34:00            2  \n",
       "13231   NSW 2020-03-24 14:34:00            2  \n",
       "13232   NSW 2020-03-22 21:24:00            3  \n",
       "13233   NSW 2020-03-22 21:24:00            3  \n",
       "13234   NSW 2020-03-22 21:24:00            3  \n",
       "13235   QLD 2020-03-20 12:52:00            3  \n",
       "13236   QLD 2020-03-20 12:52:00            3  \n",
       "13237   QLD 2020-03-20 12:52:00            3  "
      ]
     },
     "execution_count": 140,
     "metadata": {},
     "output_type": "execute_result"
    }
   ],
   "source": [
    "df_clean['InvoiceDate'] = df_clean.index\n",
    "df_clean = df_clean.merge(df_join, how='left', on='InvoiceNo')\n",
    "df_clean = df_clean.rename(columns={'Quantity_x' : 'Quantity', 'Quantity_y' : 'QuantityInv'})\n",
    "df_clean.tail(15)"
   ]
  },
  {
   "cell_type": "code",
   "execution_count": 141,
   "metadata": {
    "execution": {
     "iopub.status.busy": "2023-09-21T11:02:31.606891Z",
     "iopub.status.idle": "2023-09-21T11:02:31.607844Z",
     "shell.execute_reply": "2023-09-21T11:02:31.60757Z",
     "shell.execute_reply.started": "2023-09-21T11:02:31.607543Z"
    }
   },
   "outputs": [
    {
     "data": {
      "text/html": [
       "<div>\n",
       "<style scoped>\n",
       "    .dataframe tbody tr th:only-of-type {\n",
       "        vertical-align: middle;\n",
       "    }\n",
       "\n",
       "    .dataframe tbody tr th {\n",
       "        vertical-align: top;\n",
       "    }\n",
       "\n",
       "    .dataframe thead th {\n",
       "        text-align: right;\n",
       "    }\n",
       "</style>\n",
       "<table border=\"1\" class=\"dataframe\">\n",
       "  <thead>\n",
       "    <tr style=\"text-align: right;\">\n",
       "      <th></th>\n",
       "      <th>InvoiceNo</th>\n",
       "      <th>StockCode</th>\n",
       "      <th>Quantity</th>\n",
       "      <th>UnitPrice</th>\n",
       "      <th>QuantityInv</th>\n",
       "    </tr>\n",
       "  </thead>\n",
       "  <tbody>\n",
       "    <tr>\n",
       "      <th>count</th>\n",
       "      <td>13238.000000</td>\n",
       "      <td>13238.000000</td>\n",
       "      <td>13238.000000</td>\n",
       "      <td>13238.000000</td>\n",
       "      <td>13238.000000</td>\n",
       "    </tr>\n",
       "    <tr>\n",
       "      <th>mean</th>\n",
       "      <td>57589.176688</td>\n",
       "      <td>18916.979831</td>\n",
       "      <td>1.411014</td>\n",
       "      <td>86.686707</td>\n",
       "      <td>5.480208</td>\n",
       "    </tr>\n",
       "    <tr>\n",
       "      <th>std</th>\n",
       "      <td>29096.428831</td>\n",
       "      <td>18271.272187</td>\n",
       "      <td>1.735442</td>\n",
       "      <td>137.781847</td>\n",
       "      <td>8.269440</td>\n",
       "    </tr>\n",
       "    <tr>\n",
       "      <th>min</th>\n",
       "      <td>9667.000000</td>\n",
       "      <td>3449.000000</td>\n",
       "      <td>1.000000</td>\n",
       "      <td>0.180000</td>\n",
       "      <td>1.000000</td>\n",
       "    </tr>\n",
       "    <tr>\n",
       "      <th>25%</th>\n",
       "      <td>30507.000000</td>\n",
       "      <td>8318.000000</td>\n",
       "      <td>1.000000</td>\n",
       "      <td>17.000000</td>\n",
       "      <td>2.000000</td>\n",
       "    </tr>\n",
       "    <tr>\n",
       "      <th>50%</th>\n",
       "      <td>61920.000000</td>\n",
       "      <td>11305.000000</td>\n",
       "      <td>1.000000</td>\n",
       "      <td>37.000000</td>\n",
       "      <td>3.000000</td>\n",
       "    </tr>\n",
       "    <tr>\n",
       "      <th>75%</th>\n",
       "      <td>87127.750000</td>\n",
       "      <td>19883.250000</td>\n",
       "      <td>1.000000</td>\n",
       "      <td>89.000000</td>\n",
       "      <td>6.000000</td>\n",
       "    </tr>\n",
       "    <tr>\n",
       "      <th>max</th>\n",
       "      <td>95599.000000</td>\n",
       "      <td>95148.000000</td>\n",
       "      <td>150.000000</td>\n",
       "      <td>999.910000</td>\n",
       "      <td>150.000000</td>\n",
       "    </tr>\n",
       "  </tbody>\n",
       "</table>\n",
       "</div>"
      ],
      "text/plain": [
       "          InvoiceNo     StockCode      Quantity     UnitPrice   QuantityInv\n",
       "count  13238.000000  13238.000000  13238.000000  13238.000000  13238.000000\n",
       "mean   57589.176688  18916.979831      1.411014     86.686707      5.480208\n",
       "std    29096.428831  18271.272187      1.735442    137.781847      8.269440\n",
       "min     9667.000000   3449.000000      1.000000      0.180000      1.000000\n",
       "25%    30507.000000   8318.000000      1.000000     17.000000      2.000000\n",
       "50%    61920.000000  11305.000000      1.000000     37.000000      3.000000\n",
       "75%    87127.750000  19883.250000      1.000000     89.000000      6.000000\n",
       "max    95599.000000  95148.000000    150.000000    999.910000    150.000000"
      ]
     },
     "execution_count": 141,
     "metadata": {},
     "output_type": "execute_result"
    }
   ],
   "source": [
    "df_clean.describe()"
   ]
  },
  {
   "cell_type": "code",
   "execution_count": 142,
   "metadata": {
    "execution": {
     "iopub.status.busy": "2023-09-21T11:02:31.609195Z",
     "iopub.status.idle": "2023-09-21T11:02:31.609741Z",
     "shell.execute_reply": "2023-09-21T11:02:31.609477Z",
     "shell.execute_reply.started": "2023-09-21T11:02:31.609452Z"
    }
   },
   "outputs": [],
   "source": [
    "df_clean['InvoiceDate'] = pd.to_datetime(df_clean['InvoiceDate'])"
   ]
  },
  {
   "cell_type": "code",
   "execution_count": 143,
   "metadata": {
    "execution": {
     "iopub.status.busy": "2023-09-21T11:02:31.611279Z",
     "iopub.status.idle": "2023-09-21T11:02:31.611813Z",
     "shell.execute_reply": "2023-09-21T11:02:31.611553Z",
     "shell.execute_reply.started": "2023-09-21T11:02:31.611527Z"
    }
   },
   "outputs": [
    {
     "data": {
      "text/plain": [
       "InvoiceNo               int64\n",
       "StockCode               int64\n",
       "Description            object\n",
       "Quantity                int64\n",
       "UnitPrice             float64\n",
       "State                  object\n",
       "InvoiceDate    datetime64[ns]\n",
       "QuantityInv             int64\n",
       "dtype: object"
      ]
     },
     "execution_count": 143,
     "metadata": {},
     "output_type": "execute_result"
    }
   ],
   "source": [
    "df_clean.dtypes"
   ]
  },
  {
   "cell_type": "markdown",
   "metadata": {},
   "source": [
    "# Bucketing Quantity and UnitPrice features\n",
    "- Based on the EDA done previously we can group these features into 6 buckets for Quantity and 5 for UnitePrice using the pandas.cut() method."
   ]
  },
  {
   "cell_type": "code",
   "execution_count": 144,
   "metadata": {
    "execution": {
     "iopub.status.busy": "2023-09-21T11:02:31.613105Z",
     "iopub.status.idle": "2023-09-21T11:02:31.613668Z",
     "shell.execute_reply": "2023-09-21T11:02:31.61339Z",
     "shell.execute_reply.started": "2023-09-21T11:02:31.613363Z"
    }
   },
   "outputs": [
    {
     "data": {
      "text/html": [
       "<div>\n",
       "<style scoped>\n",
       "    .dataframe tbody tr th:only-of-type {\n",
       "        vertical-align: middle;\n",
       "    }\n",
       "\n",
       "    .dataframe tbody tr th {\n",
       "        vertical-align: top;\n",
       "    }\n",
       "\n",
       "    .dataframe thead th {\n",
       "        text-align: right;\n",
       "    }\n",
       "</style>\n",
       "<table border=\"1\" class=\"dataframe\">\n",
       "  <thead>\n",
       "    <tr style=\"text-align: right;\">\n",
       "      <th></th>\n",
       "      <th>InvoiceNo</th>\n",
       "      <th>StockCode</th>\n",
       "      <th>Description</th>\n",
       "      <th>Quantity</th>\n",
       "      <th>UnitPrice</th>\n",
       "      <th>State</th>\n",
       "      <th>InvoiceDate</th>\n",
       "      <th>QuantityInv</th>\n",
       "      <th>QuantityRange</th>\n",
       "      <th>PriceRange</th>\n",
       "    </tr>\n",
       "  </thead>\n",
       "  <tbody>\n",
       "    <tr>\n",
       "      <th>0</th>\n",
       "      <td>95599</td>\n",
       "      <td>5735</td>\n",
       "      <td>Red Sea Aquarium Net Cover 60cm x 60cm</td>\n",
       "      <td>1</td>\n",
       "      <td>85.0</td>\n",
       "      <td>WA</td>\n",
       "      <td>2023-09-12 22:58:00</td>\n",
       "      <td>1</td>\n",
       "      <td>(0, 1]</td>\n",
       "      <td>(0, 100]</td>\n",
       "    </tr>\n",
       "    <tr>\n",
       "      <th>1</th>\n",
       "      <td>95598</td>\n",
       "      <td>6255</td>\n",
       "      <td>Flipper Cleaner Standard Float</td>\n",
       "      <td>1</td>\n",
       "      <td>78.0</td>\n",
       "      <td>NSW</td>\n",
       "      <td>2023-09-12 21:00:00</td>\n",
       "      <td>1</td>\n",
       "      <td>(0, 1]</td>\n",
       "      <td>(0, 100]</td>\n",
       "    </tr>\n",
       "    <tr>\n",
       "      <th>2</th>\n",
       "      <td>95597</td>\n",
       "      <td>38824</td>\n",
       "      <td>Fluval P50 Preset Submersible Heater 50W 155cm...</td>\n",
       "      <td>2</td>\n",
       "      <td>40.0</td>\n",
       "      <td>ACT</td>\n",
       "      <td>2023-09-12 20:42:00</td>\n",
       "      <td>2</td>\n",
       "      <td>(1, 3]</td>\n",
       "      <td>(0, 100]</td>\n",
       "    </tr>\n",
       "    <tr>\n",
       "      <th>3</th>\n",
       "      <td>95595</td>\n",
       "      <td>22427</td>\n",
       "      <td>Aqua One Lifestyle 127 LED Light Unit (52044-L)</td>\n",
       "      <td>1</td>\n",
       "      <td>119.0</td>\n",
       "      <td>QLD</td>\n",
       "      <td>2023-09-12 15:05:00</td>\n",
       "      <td>1</td>\n",
       "      <td>(0, 1]</td>\n",
       "      <td>(100, 200]</td>\n",
       "    </tr>\n",
       "    <tr>\n",
       "      <th>4</th>\n",
       "      <td>95594</td>\n",
       "      <td>38928</td>\n",
       "      <td>Fluval Circulation Pump for FLEX 34L</td>\n",
       "      <td>1</td>\n",
       "      <td>45.0</td>\n",
       "      <td>VIC</td>\n",
       "      <td>2023-09-12 10:24:00</td>\n",
       "      <td>1</td>\n",
       "      <td>(0, 1]</td>\n",
       "      <td>(0, 100]</td>\n",
       "    </tr>\n",
       "  </tbody>\n",
       "</table>\n",
       "</div>"
      ],
      "text/plain": [
       "   InvoiceNo  StockCode                                        Description  \\\n",
       "0      95599       5735             Red Sea Aquarium Net Cover 60cm x 60cm   \n",
       "1      95598       6255                     Flipper Cleaner Standard Float   \n",
       "2      95597      38824  Fluval P50 Preset Submersible Heater 50W 155cm...   \n",
       "3      95595      22427    Aqua One Lifestyle 127 LED Light Unit (52044-L)   \n",
       "4      95594      38928               Fluval Circulation Pump for FLEX 34L   \n",
       "\n",
       "   Quantity  UnitPrice State         InvoiceDate  QuantityInv QuantityRange  \\\n",
       "0         1       85.0    WA 2023-09-12 22:58:00            1        (0, 1]   \n",
       "1         1       78.0   NSW 2023-09-12 21:00:00            1        (0, 1]   \n",
       "2         2       40.0   ACT 2023-09-12 20:42:00            2        (1, 3]   \n",
       "3         1      119.0   QLD 2023-09-12 15:05:00            1        (0, 1]   \n",
       "4         1       45.0   VIC 2023-09-12 10:24:00            1        (0, 1]   \n",
       "\n",
       "   PriceRange  \n",
       "0    (0, 100]  \n",
       "1    (0, 100]  \n",
       "2    (0, 100]  \n",
       "3  (100, 200]  \n",
       "4    (0, 100]  "
      ]
     },
     "execution_count": 144,
     "metadata": {},
     "output_type": "execute_result"
    }
   ],
   "source": [
    "bins_q = pd.IntervalIndex.from_tuples([(0, 1), (1, 3), (3, 5), (5, 7), (7, 9), (9, 100)])\n",
    "df_clean['QuantityRange'] = pd.cut(df_clean['Quantity'], bins=bins_q)\n",
    "bins_p = pd.IntervalIndex.from_tuples([(0, 100), (100, 200), (200, 300), (300, 500), (500, 1000)])\n",
    "df_clean['PriceRange'] = pd.cut(df_clean['UnitPrice'], bins=bins_p)\n",
    "df_clean.head()"
   ]
  },
  {
   "cell_type": "markdown",
   "metadata": {},
   "source": [
    "# Extracting and bucketing dates\n",
    "- We have noticed that depending on the sales of new year sell differently:\n",
    "\n",
    "    - pick of sales is in the Q4\n",
    "    - then it drastically drops in Q1 of the next year\n",
    "    - and continues to grow till its new pick in Q4 again.\n",
    "\n",
    "\n",
    "- From this observation, we can create another feature that could improve our model."
   ]
  },
  {
   "cell_type": "code",
   "execution_count": 145,
   "metadata": {
    "execution": {
     "iopub.status.busy": "2023-09-21T11:02:31.615765Z",
     "iopub.status.idle": "2023-09-21T11:02:31.616295Z",
     "shell.execute_reply": "2023-09-21T11:02:31.616049Z",
     "shell.execute_reply.started": "2023-09-21T11:02:31.616024Z"
    }
   },
   "outputs": [
    {
     "data": {
      "text/html": [
       "<div>\n",
       "<style scoped>\n",
       "    .dataframe tbody tr th:only-of-type {\n",
       "        vertical-align: middle;\n",
       "    }\n",
       "\n",
       "    .dataframe tbody tr th {\n",
       "        vertical-align: top;\n",
       "    }\n",
       "\n",
       "    .dataframe thead th {\n",
       "        text-align: right;\n",
       "    }\n",
       "</style>\n",
       "<table border=\"1\" class=\"dataframe\">\n",
       "  <thead>\n",
       "    <tr style=\"text-align: right;\">\n",
       "      <th></th>\n",
       "      <th>InvoiceNo</th>\n",
       "      <th>StockCode</th>\n",
       "      <th>Description</th>\n",
       "      <th>Quantity</th>\n",
       "      <th>UnitPrice</th>\n",
       "      <th>State</th>\n",
       "      <th>InvoiceDate</th>\n",
       "      <th>QuantityInv</th>\n",
       "      <th>QuantityRange</th>\n",
       "      <th>PriceRange</th>\n",
       "      <th>Month</th>\n",
       "    </tr>\n",
       "  </thead>\n",
       "  <tbody>\n",
       "    <tr>\n",
       "      <th>0</th>\n",
       "      <td>95599</td>\n",
       "      <td>5735</td>\n",
       "      <td>Red Sea Aquarium Net Cover 60cm x 60cm</td>\n",
       "      <td>1</td>\n",
       "      <td>85.0</td>\n",
       "      <td>WA</td>\n",
       "      <td>2023-09-12 22:58:00</td>\n",
       "      <td>1</td>\n",
       "      <td>(0, 1]</td>\n",
       "      <td>(0, 100]</td>\n",
       "      <td>9</td>\n",
       "    </tr>\n",
       "    <tr>\n",
       "      <th>1</th>\n",
       "      <td>95598</td>\n",
       "      <td>6255</td>\n",
       "      <td>Flipper Cleaner Standard Float</td>\n",
       "      <td>1</td>\n",
       "      <td>78.0</td>\n",
       "      <td>NSW</td>\n",
       "      <td>2023-09-12 21:00:00</td>\n",
       "      <td>1</td>\n",
       "      <td>(0, 1]</td>\n",
       "      <td>(0, 100]</td>\n",
       "      <td>9</td>\n",
       "    </tr>\n",
       "    <tr>\n",
       "      <th>2</th>\n",
       "      <td>95597</td>\n",
       "      <td>38824</td>\n",
       "      <td>Fluval P50 Preset Submersible Heater 50W 155cm...</td>\n",
       "      <td>2</td>\n",
       "      <td>40.0</td>\n",
       "      <td>ACT</td>\n",
       "      <td>2023-09-12 20:42:00</td>\n",
       "      <td>2</td>\n",
       "      <td>(1, 3]</td>\n",
       "      <td>(0, 100]</td>\n",
       "      <td>9</td>\n",
       "    </tr>\n",
       "    <tr>\n",
       "      <th>3</th>\n",
       "      <td>95595</td>\n",
       "      <td>22427</td>\n",
       "      <td>Aqua One Lifestyle 127 LED Light Unit (52044-L)</td>\n",
       "      <td>1</td>\n",
       "      <td>119.0</td>\n",
       "      <td>QLD</td>\n",
       "      <td>2023-09-12 15:05:00</td>\n",
       "      <td>1</td>\n",
       "      <td>(0, 1]</td>\n",
       "      <td>(100, 200]</td>\n",
       "      <td>9</td>\n",
       "    </tr>\n",
       "    <tr>\n",
       "      <th>4</th>\n",
       "      <td>95594</td>\n",
       "      <td>38928</td>\n",
       "      <td>Fluval Circulation Pump for FLEX 34L</td>\n",
       "      <td>1</td>\n",
       "      <td>45.0</td>\n",
       "      <td>VIC</td>\n",
       "      <td>2023-09-12 10:24:00</td>\n",
       "      <td>1</td>\n",
       "      <td>(0, 1]</td>\n",
       "      <td>(0, 100]</td>\n",
       "      <td>9</td>\n",
       "    </tr>\n",
       "  </tbody>\n",
       "</table>\n",
       "</div>"
      ],
      "text/plain": [
       "   InvoiceNo  StockCode                                        Description  \\\n",
       "0      95599       5735             Red Sea Aquarium Net Cover 60cm x 60cm   \n",
       "1      95598       6255                     Flipper Cleaner Standard Float   \n",
       "2      95597      38824  Fluval P50 Preset Submersible Heater 50W 155cm...   \n",
       "3      95595      22427    Aqua One Lifestyle 127 LED Light Unit (52044-L)   \n",
       "4      95594      38928               Fluval Circulation Pump for FLEX 34L   \n",
       "\n",
       "   Quantity  UnitPrice State         InvoiceDate  QuantityInv QuantityRange  \\\n",
       "0         1       85.0    WA 2023-09-12 22:58:00            1        (0, 1]   \n",
       "1         1       78.0   NSW 2023-09-12 21:00:00            1        (0, 1]   \n",
       "2         2       40.0   ACT 2023-09-12 20:42:00            2        (1, 3]   \n",
       "3         1      119.0   QLD 2023-09-12 15:05:00            1        (0, 1]   \n",
       "4         1       45.0   VIC 2023-09-12 10:24:00            1        (0, 1]   \n",
       "\n",
       "   PriceRange  Month  \n",
       "0    (0, 100]      9  \n",
       "1    (0, 100]      9  \n",
       "2    (0, 100]      9  \n",
       "3  (100, 200]      9  \n",
       "4    (0, 100]      9  "
      ]
     },
     "execution_count": 145,
     "metadata": {},
     "output_type": "execute_result"
    }
   ],
   "source": [
    "df_clean['Month'] = df_clean['InvoiceDate'].dt.month\n",
    "df_clean.head()"
   ]
  },
  {
   "cell_type": "code",
   "execution_count": 146,
   "metadata": {
    "execution": {
     "iopub.status.busy": "2023-09-21T11:02:31.617623Z",
     "iopub.status.idle": "2023-09-21T11:02:31.618204Z",
     "shell.execute_reply": "2023-09-21T11:02:31.61793Z",
     "shell.execute_reply.started": "2023-09-21T11:02:31.617896Z"
    }
   },
   "outputs": [
    {
     "data": {
      "text/html": [
       "<div>\n",
       "<style scoped>\n",
       "    .dataframe tbody tr th:only-of-type {\n",
       "        vertical-align: middle;\n",
       "    }\n",
       "\n",
       "    .dataframe tbody tr th {\n",
       "        vertical-align: top;\n",
       "    }\n",
       "\n",
       "    .dataframe thead th {\n",
       "        text-align: right;\n",
       "    }\n",
       "</style>\n",
       "<table border=\"1\" class=\"dataframe\">\n",
       "  <thead>\n",
       "    <tr style=\"text-align: right;\">\n",
       "      <th></th>\n",
       "      <th>InvoiceNo</th>\n",
       "      <th>StockCode</th>\n",
       "      <th>Description</th>\n",
       "      <th>Quantity</th>\n",
       "      <th>UnitPrice</th>\n",
       "      <th>State</th>\n",
       "      <th>InvoiceDate</th>\n",
       "      <th>QuantityInv</th>\n",
       "      <th>QuantityRange</th>\n",
       "      <th>PriceRange</th>\n",
       "      <th>Month</th>\n",
       "      <th>DateRange</th>\n",
       "    </tr>\n",
       "  </thead>\n",
       "  <tbody>\n",
       "    <tr>\n",
       "      <th>13233</th>\n",
       "      <td>9681</td>\n",
       "      <td>3537</td>\n",
       "      <td>Reef Essential High Range HR Nitrate Remover 1...</td>\n",
       "      <td>1</td>\n",
       "      <td>39.99</td>\n",
       "      <td>NSW</td>\n",
       "      <td>2020-03-22 21:24:00</td>\n",
       "      <td>3</td>\n",
       "      <td>(0, 1]</td>\n",
       "      <td>(0, 100]</td>\n",
       "      <td>3</td>\n",
       "      <td>(0, 3]</td>\n",
       "    </tr>\n",
       "    <tr>\n",
       "      <th>13234</th>\n",
       "      <td>9681</td>\n",
       "      <td>3543</td>\n",
       "      <td>Quantum 500ml Reef Essential Bio-Enhance</td>\n",
       "      <td>1</td>\n",
       "      <td>24.99</td>\n",
       "      <td>NSW</td>\n",
       "      <td>2020-03-22 21:24:00</td>\n",
       "      <td>3</td>\n",
       "      <td>(0, 1]</td>\n",
       "      <td>(0, 100]</td>\n",
       "      <td>3</td>\n",
       "      <td>(0, 3]</td>\n",
       "    </tr>\n",
       "    <tr>\n",
       "      <th>13235</th>\n",
       "      <td>9667</td>\n",
       "      <td>5227</td>\n",
       "      <td>Reef Anabolics Reef Booster 500ml - Coral Growth</td>\n",
       "      <td>1</td>\n",
       "      <td>39.99</td>\n",
       "      <td>QLD</td>\n",
       "      <td>2020-03-20 12:52:00</td>\n",
       "      <td>3</td>\n",
       "      <td>(0, 1]</td>\n",
       "      <td>(0, 100]</td>\n",
       "      <td>3</td>\n",
       "      <td>(0, 3]</td>\n",
       "    </tr>\n",
       "    <tr>\n",
       "      <th>13236</th>\n",
       "      <td>9667</td>\n",
       "      <td>5223</td>\n",
       "      <td>Reef Anabolics Nutrition Pack 50ml</td>\n",
       "      <td>1</td>\n",
       "      <td>89.98</td>\n",
       "      <td>QLD</td>\n",
       "      <td>2020-03-20 12:52:00</td>\n",
       "      <td>3</td>\n",
       "      <td>(0, 1]</td>\n",
       "      <td>(0, 100]</td>\n",
       "      <td>3</td>\n",
       "      <td>(0, 3]</td>\n",
       "    </tr>\n",
       "    <tr>\n",
       "      <th>13237</th>\n",
       "      <td>9667</td>\n",
       "      <td>9483</td>\n",
       "      <td>Reef Revolution 60g Polyp Feast - Coral Food</td>\n",
       "      <td>1</td>\n",
       "      <td>33.99</td>\n",
       "      <td>QLD</td>\n",
       "      <td>2020-03-20 12:52:00</td>\n",
       "      <td>3</td>\n",
       "      <td>(0, 1]</td>\n",
       "      <td>(0, 100]</td>\n",
       "      <td>3</td>\n",
       "      <td>(0, 3]</td>\n",
       "    </tr>\n",
       "  </tbody>\n",
       "</table>\n",
       "</div>"
      ],
      "text/plain": [
       "       InvoiceNo  StockCode  \\\n",
       "13233       9681       3537   \n",
       "13234       9681       3543   \n",
       "13235       9667       5227   \n",
       "13236       9667       5223   \n",
       "13237       9667       9483   \n",
       "\n",
       "                                             Description  Quantity  UnitPrice  \\\n",
       "13233  Reef Essential High Range HR Nitrate Remover 1...         1      39.99   \n",
       "13234           Quantum 500ml Reef Essential Bio-Enhance         1      24.99   \n",
       "13235   Reef Anabolics Reef Booster 500ml - Coral Growth         1      39.99   \n",
       "13236                 Reef Anabolics Nutrition Pack 50ml         1      89.98   \n",
       "13237       Reef Revolution 60g Polyp Feast - Coral Food         1      33.99   \n",
       "\n",
       "      State         InvoiceDate  QuantityInv QuantityRange PriceRange  Month  \\\n",
       "13233   NSW 2020-03-22 21:24:00            3        (0, 1]   (0, 100]      3   \n",
       "13234   NSW 2020-03-22 21:24:00            3        (0, 1]   (0, 100]      3   \n",
       "13235   QLD 2020-03-20 12:52:00            3        (0, 1]   (0, 100]      3   \n",
       "13236   QLD 2020-03-20 12:52:00            3        (0, 1]   (0, 100]      3   \n",
       "13237   QLD 2020-03-20 12:52:00            3        (0, 1]   (0, 100]      3   \n",
       "\n",
       "      DateRange  \n",
       "13233    (0, 3]  \n",
       "13234    (0, 3]  \n",
       "13235    (0, 3]  \n",
       "13236    (0, 3]  \n",
       "13237    (0, 3]  "
      ]
     },
     "execution_count": 146,
     "metadata": {},
     "output_type": "execute_result"
    }
   ],
   "source": [
    "bins_d = pd.IntervalIndex.from_tuples([(0,3),(3,6),(6,9),(9,12)])\n",
    "df_clean['DateRange'] = pd.cut(df_clean['Month'], bins=bins_d, labels=['q1','q2','q3','q4'])\n",
    "df_clean.tail()"
   ]
  },
  {
   "cell_type": "markdown",
   "metadata": {},
   "source": [
    "# Building a model"
   ]
  },
  {
   "cell_type": "markdown",
   "metadata": {},
   "source": [
    "## Splitting data into NSW and non-NSW\n",
    "- We have to analyze these 2 datasets separately to have more standardized data for a model because there can be some patterns that work for other countries and do not for the NSW or vice versa.\n",
    "- Also a hypothesis to test - does the model built for the NSW performs well on data for other countries?"
   ]
  },
  {
   "cell_type": "code",
   "execution_count": 147,
   "metadata": {
    "execution": {
     "iopub.status.busy": "2023-09-21T11:02:31.619386Z",
     "iopub.status.idle": "2023-09-21T11:02:31.619926Z",
     "shell.execute_reply": "2023-09-21T11:02:31.619675Z",
     "shell.execute_reply.started": "2023-09-21T11:02:31.619649Z"
    }
   },
   "outputs": [],
   "source": [
    "df_nsw = df_clean[df_clean['State'] == 'NSW']\n",
    "df_otherstate = df_clean[df_clean['State'] != 'NSW']"
   ]
  },
  {
   "cell_type": "code",
   "execution_count": 148,
   "metadata": {
    "execution": {
     "iopub.status.busy": "2023-09-21T11:02:31.621716Z",
     "iopub.status.idle": "2023-09-21T11:02:31.62398Z",
     "shell.execute_reply": "2023-09-21T11:02:31.623702Z",
     "shell.execute_reply.started": "2023-09-21T11:02:31.623673Z"
    }
   },
   "outputs": [
    {
     "data": {
      "text/html": [
       "<div>\n",
       "<style scoped>\n",
       "    .dataframe tbody tr th:only-of-type {\n",
       "        vertical-align: middle;\n",
       "    }\n",
       "\n",
       "    .dataframe tbody tr th {\n",
       "        vertical-align: top;\n",
       "    }\n",
       "\n",
       "    .dataframe thead th {\n",
       "        text-align: right;\n",
       "    }\n",
       "</style>\n",
       "<table border=\"1\" class=\"dataframe\">\n",
       "  <thead>\n",
       "    <tr style=\"text-align: right;\">\n",
       "      <th></th>\n",
       "      <th>InvoiceNo</th>\n",
       "      <th>StockCode</th>\n",
       "      <th>Description</th>\n",
       "      <th>Quantity</th>\n",
       "      <th>UnitPrice</th>\n",
       "      <th>State</th>\n",
       "      <th>InvoiceDate</th>\n",
       "      <th>QuantityInv</th>\n",
       "      <th>QuantityRange</th>\n",
       "      <th>PriceRange</th>\n",
       "      <th>Month</th>\n",
       "      <th>DateRange</th>\n",
       "    </tr>\n",
       "  </thead>\n",
       "  <tbody>\n",
       "    <tr>\n",
       "      <th>1</th>\n",
       "      <td>95598</td>\n",
       "      <td>6255</td>\n",
       "      <td>Flipper Cleaner Standard Float</td>\n",
       "      <td>1</td>\n",
       "      <td>78.00</td>\n",
       "      <td>NSW</td>\n",
       "      <td>2023-09-12 21:00:00</td>\n",
       "      <td>1</td>\n",
       "      <td>(0, 1]</td>\n",
       "      <td>(0, 100]</td>\n",
       "      <td>9</td>\n",
       "      <td>(6, 9]</td>\n",
       "    </tr>\n",
       "    <tr>\n",
       "      <th>8</th>\n",
       "      <td>95592</td>\n",
       "      <td>59909</td>\n",
       "      <td>Aqua One Focus LP LED Reflector 8.5W - White</td>\n",
       "      <td>2</td>\n",
       "      <td>64.88</td>\n",
       "      <td>NSW</td>\n",
       "      <td>2023-08-12 21:34:00</td>\n",
       "      <td>2</td>\n",
       "      <td>(1, 3]</td>\n",
       "      <td>(0, 100]</td>\n",
       "      <td>8</td>\n",
       "      <td>(6, 9]</td>\n",
       "    </tr>\n",
       "    <tr>\n",
       "      <th>10</th>\n",
       "      <td>95589</td>\n",
       "      <td>9098</td>\n",
       "      <td>Aqua One Carbon Cartridge 510 2C</td>\n",
       "      <td>8</td>\n",
       "      <td>6.99</td>\n",
       "      <td>NSW</td>\n",
       "      <td>2023-08-12 20:26:00</td>\n",
       "      <td>8</td>\n",
       "      <td>(7, 9]</td>\n",
       "      <td>(0, 100]</td>\n",
       "      <td>8</td>\n",
       "      <td>(6, 9]</td>\n",
       "    </tr>\n",
       "    <tr>\n",
       "      <th>12</th>\n",
       "      <td>95587</td>\n",
       "      <td>44505</td>\n",
       "      <td>Sera Pond Colour Sticks, 170g</td>\n",
       "      <td>1</td>\n",
       "      <td>18.00</td>\n",
       "      <td>NSW</td>\n",
       "      <td>2023-08-12 17:23:00</td>\n",
       "      <td>1</td>\n",
       "      <td>(0, 1]</td>\n",
       "      <td>(0, 100]</td>\n",
       "      <td>8</td>\n",
       "      <td>(6, 9]</td>\n",
       "    </tr>\n",
       "    <tr>\n",
       "      <th>14</th>\n",
       "      <td>95585</td>\n",
       "      <td>91686</td>\n",
       "      <td>Red Sea ReefMat - ReefMat 250</td>\n",
       "      <td>1</td>\n",
       "      <td>570.00</td>\n",
       "      <td>NSW</td>\n",
       "      <td>2023-08-12 11:38:00</td>\n",
       "      <td>1</td>\n",
       "      <td>(0, 1]</td>\n",
       "      <td>(500, 1000]</td>\n",
       "      <td>8</td>\n",
       "      <td>(6, 9]</td>\n",
       "    </tr>\n",
       "  </tbody>\n",
       "</table>\n",
       "</div>"
      ],
      "text/plain": [
       "    InvoiceNo  StockCode                                   Description  \\\n",
       "1       95598       6255                Flipper Cleaner Standard Float   \n",
       "8       95592      59909  Aqua One Focus LP LED Reflector 8.5W - White   \n",
       "10      95589       9098              Aqua One Carbon Cartridge 510 2C   \n",
       "12      95587      44505                 Sera Pond Colour Sticks, 170g   \n",
       "14      95585      91686                 Red Sea ReefMat - ReefMat 250   \n",
       "\n",
       "    Quantity  UnitPrice State         InvoiceDate  QuantityInv QuantityRange  \\\n",
       "1          1      78.00   NSW 2023-09-12 21:00:00            1        (0, 1]   \n",
       "8          2      64.88   NSW 2023-08-12 21:34:00            2        (1, 3]   \n",
       "10         8       6.99   NSW 2023-08-12 20:26:00            8        (7, 9]   \n",
       "12         1      18.00   NSW 2023-08-12 17:23:00            1        (0, 1]   \n",
       "14         1     570.00   NSW 2023-08-12 11:38:00            1        (0, 1]   \n",
       "\n",
       "     PriceRange  Month DateRange  \n",
       "1      (0, 100]      9    (6, 9]  \n",
       "8      (0, 100]      8    (6, 9]  \n",
       "10     (0, 100]      8    (6, 9]  \n",
       "12     (0, 100]      8    (6, 9]  \n",
       "14  (500, 1000]      8    (6, 9]  "
      ]
     },
     "execution_count": 148,
     "metadata": {},
     "output_type": "execute_result"
    }
   ],
   "source": [
    "df_nsw.head()"
   ]
  },
  {
   "cell_type": "markdown",
   "metadata": {},
   "source": [
    "## Extracting features and creating dummy variables"
   ]
  },
  {
   "cell_type": "code",
   "execution_count": 149,
   "metadata": {
    "execution": {
     "iopub.status.busy": "2023-09-21T11:02:31.625286Z",
     "iopub.status.idle": "2023-09-21T11:02:31.625821Z",
     "shell.execute_reply": "2023-09-21T11:02:31.625556Z",
     "shell.execute_reply.started": "2023-09-21T11:02:31.625532Z"
    }
   },
   "outputs": [],
   "source": [
    "df_nsw_model = df_nsw[['UnitPrice', 'QuantityInv', 'QuantityRange', 'PriceRange', 'DateRange']]"
   ]
  },
  {
   "cell_type": "code",
   "execution_count": 150,
   "metadata": {
    "execution": {
     "iopub.status.busy": "2023-09-21T11:02:31.627542Z",
     "iopub.status.idle": "2023-09-21T11:02:31.628087Z",
     "shell.execute_reply": "2023-09-21T11:02:31.627836Z",
     "shell.execute_reply.started": "2023-09-21T11:02:31.627812Z"
    }
   },
   "outputs": [
    {
     "data": {
      "text/html": [
       "<div>\n",
       "<style scoped>\n",
       "    .dataframe tbody tr th:only-of-type {\n",
       "        vertical-align: middle;\n",
       "    }\n",
       "\n",
       "    .dataframe tbody tr th {\n",
       "        vertical-align: top;\n",
       "    }\n",
       "\n",
       "    .dataframe thead th {\n",
       "        text-align: right;\n",
       "    }\n",
       "</style>\n",
       "<table border=\"1\" class=\"dataframe\">\n",
       "  <thead>\n",
       "    <tr style=\"text-align: right;\">\n",
       "      <th></th>\n",
       "      <th>UnitPrice</th>\n",
       "      <th>QuantityInv</th>\n",
       "      <th>QuantityRange</th>\n",
       "      <th>PriceRange</th>\n",
       "      <th>DateRange</th>\n",
       "    </tr>\n",
       "  </thead>\n",
       "  <tbody>\n",
       "    <tr>\n",
       "      <th>1</th>\n",
       "      <td>78.00</td>\n",
       "      <td>1</td>\n",
       "      <td>(0, 1]</td>\n",
       "      <td>(0, 100]</td>\n",
       "      <td>(6, 9]</td>\n",
       "    </tr>\n",
       "    <tr>\n",
       "      <th>8</th>\n",
       "      <td>64.88</td>\n",
       "      <td>2</td>\n",
       "      <td>(1, 3]</td>\n",
       "      <td>(0, 100]</td>\n",
       "      <td>(6, 9]</td>\n",
       "    </tr>\n",
       "    <tr>\n",
       "      <th>10</th>\n",
       "      <td>6.99</td>\n",
       "      <td>8</td>\n",
       "      <td>(7, 9]</td>\n",
       "      <td>(0, 100]</td>\n",
       "      <td>(6, 9]</td>\n",
       "    </tr>\n",
       "    <tr>\n",
       "      <th>12</th>\n",
       "      <td>18.00</td>\n",
       "      <td>1</td>\n",
       "      <td>(0, 1]</td>\n",
       "      <td>(0, 100]</td>\n",
       "      <td>(6, 9]</td>\n",
       "    </tr>\n",
       "    <tr>\n",
       "      <th>14</th>\n",
       "      <td>570.00</td>\n",
       "      <td>1</td>\n",
       "      <td>(0, 1]</td>\n",
       "      <td>(500, 1000]</td>\n",
       "      <td>(6, 9]</td>\n",
       "    </tr>\n",
       "  </tbody>\n",
       "</table>\n",
       "</div>"
      ],
      "text/plain": [
       "    UnitPrice  QuantityInv QuantityRange   PriceRange DateRange\n",
       "1       78.00            1        (0, 1]     (0, 100]    (6, 9]\n",
       "8       64.88            2        (1, 3]     (0, 100]    (6, 9]\n",
       "10       6.99            8        (7, 9]     (0, 100]    (6, 9]\n",
       "12      18.00            1        (0, 1]     (0, 100]    (6, 9]\n",
       "14     570.00            1        (0, 1]  (500, 1000]    (6, 9]"
      ]
     },
     "execution_count": 150,
     "metadata": {},
     "output_type": "execute_result"
    }
   ],
   "source": [
    "df_nsw_model.head()"
   ]
  },
  {
   "cell_type": "code",
   "execution_count": 151,
   "metadata": {
    "execution": {
     "iopub.status.busy": "2023-09-21T11:02:31.629699Z",
     "iopub.status.idle": "2023-09-21T11:02:31.630231Z",
     "shell.execute_reply": "2023-09-21T11:02:31.629984Z",
     "shell.execute_reply.started": "2023-09-21T11:02:31.629958Z"
    }
   },
   "outputs": [
    {
     "data": {
      "text/html": [
       "<div>\n",
       "<style scoped>\n",
       "    .dataframe tbody tr th:only-of-type {\n",
       "        vertical-align: middle;\n",
       "    }\n",
       "\n",
       "    .dataframe tbody tr th {\n",
       "        vertical-align: top;\n",
       "    }\n",
       "\n",
       "    .dataframe thead th {\n",
       "        text-align: right;\n",
       "    }\n",
       "</style>\n",
       "<table border=\"1\" class=\"dataframe\">\n",
       "  <thead>\n",
       "    <tr style=\"text-align: right;\">\n",
       "      <th></th>\n",
       "      <th>UnitPrice</th>\n",
       "      <th>QuantityInv</th>\n",
       "      <th>qr_(0, 1]</th>\n",
       "      <th>qr_(1, 3]</th>\n",
       "      <th>qr_(3, 5]</th>\n",
       "      <th>qr_(5, 7]</th>\n",
       "      <th>qr_(7, 9]</th>\n",
       "      <th>qr_(9, 100]</th>\n",
       "      <th>pr_(0, 100]</th>\n",
       "      <th>pr_(100, 200]</th>\n",
       "      <th>pr_(200, 300]</th>\n",
       "      <th>pr_(300, 500]</th>\n",
       "      <th>pr_(500, 1000]</th>\n",
       "      <th>dr_(0, 3]</th>\n",
       "      <th>dr_(3, 6]</th>\n",
       "      <th>dr_(6, 9]</th>\n",
       "      <th>dr_(9, 12]</th>\n",
       "    </tr>\n",
       "  </thead>\n",
       "  <tbody>\n",
       "    <tr>\n",
       "      <th>1</th>\n",
       "      <td>78.00</td>\n",
       "      <td>1</td>\n",
       "      <td>1</td>\n",
       "      <td>0</td>\n",
       "      <td>0</td>\n",
       "      <td>0</td>\n",
       "      <td>0</td>\n",
       "      <td>0</td>\n",
       "      <td>1</td>\n",
       "      <td>0</td>\n",
       "      <td>0</td>\n",
       "      <td>0</td>\n",
       "      <td>0</td>\n",
       "      <td>0</td>\n",
       "      <td>0</td>\n",
       "      <td>1</td>\n",
       "      <td>0</td>\n",
       "    </tr>\n",
       "    <tr>\n",
       "      <th>8</th>\n",
       "      <td>64.88</td>\n",
       "      <td>2</td>\n",
       "      <td>0</td>\n",
       "      <td>1</td>\n",
       "      <td>0</td>\n",
       "      <td>0</td>\n",
       "      <td>0</td>\n",
       "      <td>0</td>\n",
       "      <td>1</td>\n",
       "      <td>0</td>\n",
       "      <td>0</td>\n",
       "      <td>0</td>\n",
       "      <td>0</td>\n",
       "      <td>0</td>\n",
       "      <td>0</td>\n",
       "      <td>1</td>\n",
       "      <td>0</td>\n",
       "    </tr>\n",
       "    <tr>\n",
       "      <th>10</th>\n",
       "      <td>6.99</td>\n",
       "      <td>8</td>\n",
       "      <td>0</td>\n",
       "      <td>0</td>\n",
       "      <td>0</td>\n",
       "      <td>0</td>\n",
       "      <td>1</td>\n",
       "      <td>0</td>\n",
       "      <td>1</td>\n",
       "      <td>0</td>\n",
       "      <td>0</td>\n",
       "      <td>0</td>\n",
       "      <td>0</td>\n",
       "      <td>0</td>\n",
       "      <td>0</td>\n",
       "      <td>1</td>\n",
       "      <td>0</td>\n",
       "    </tr>\n",
       "    <tr>\n",
       "      <th>12</th>\n",
       "      <td>18.00</td>\n",
       "      <td>1</td>\n",
       "      <td>1</td>\n",
       "      <td>0</td>\n",
       "      <td>0</td>\n",
       "      <td>0</td>\n",
       "      <td>0</td>\n",
       "      <td>0</td>\n",
       "      <td>1</td>\n",
       "      <td>0</td>\n",
       "      <td>0</td>\n",
       "      <td>0</td>\n",
       "      <td>0</td>\n",
       "      <td>0</td>\n",
       "      <td>0</td>\n",
       "      <td>1</td>\n",
       "      <td>0</td>\n",
       "    </tr>\n",
       "    <tr>\n",
       "      <th>14</th>\n",
       "      <td>570.00</td>\n",
       "      <td>1</td>\n",
       "      <td>1</td>\n",
       "      <td>0</td>\n",
       "      <td>0</td>\n",
       "      <td>0</td>\n",
       "      <td>0</td>\n",
       "      <td>0</td>\n",
       "      <td>0</td>\n",
       "      <td>0</td>\n",
       "      <td>0</td>\n",
       "      <td>0</td>\n",
       "      <td>1</td>\n",
       "      <td>0</td>\n",
       "      <td>0</td>\n",
       "      <td>1</td>\n",
       "      <td>0</td>\n",
       "    </tr>\n",
       "  </tbody>\n",
       "</table>\n",
       "</div>"
      ],
      "text/plain": [
       "    UnitPrice  QuantityInv  qr_(0, 1]  qr_(1, 3]  qr_(3, 5]  qr_(5, 7]  \\\n",
       "1       78.00            1          1          0          0          0   \n",
       "8       64.88            2          0          1          0          0   \n",
       "10       6.99            8          0          0          0          0   \n",
       "12      18.00            1          1          0          0          0   \n",
       "14     570.00            1          1          0          0          0   \n",
       "\n",
       "    qr_(7, 9]  qr_(9, 100]  pr_(0, 100]  pr_(100, 200]  pr_(200, 300]  \\\n",
       "1           0            0            1              0              0   \n",
       "8           0            0            1              0              0   \n",
       "10          1            0            1              0              0   \n",
       "12          0            0            1              0              0   \n",
       "14          0            0            0              0              0   \n",
       "\n",
       "    pr_(300, 500]  pr_(500, 1000]  dr_(0, 3]  dr_(3, 6]  dr_(6, 9]  dr_(9, 12]  \n",
       "1               0               0          0          0          1           0  \n",
       "8               0               0          0          0          1           0  \n",
       "10              0               0          0          0          1           0  \n",
       "12              0               0          0          0          1           0  \n",
       "14              0               1          0          0          1           0  "
      ]
     },
     "execution_count": 151,
     "metadata": {},
     "output_type": "execute_result"
    }
   ],
   "source": [
    "df_data = df_nsw_model.copy()\n",
    "df_data = pd.get_dummies(df_data, columns=['QuantityRange'], prefix='qr')\n",
    "df_data = pd.get_dummies(df_data, columns=['PriceRange'], prefix='pr')\n",
    "df_data = pd.get_dummies(df_data, columns=['DateRange'], prefix='dr')\n",
    "df_data.head()"
   ]
  },
  {
   "cell_type": "markdown",
   "metadata": {},
   "source": [
    "# Scaling\n",
    "- As the majority of our features are in the 0-1 range it would make sense to scale the \"QuantityInv\" feature too.\n",
    "- In general, scaling features is normally a good idea."
   ]
  },
  {
   "cell_type": "code",
   "execution_count": 152,
   "metadata": {
    "execution": {
     "iopub.status.busy": "2023-09-21T11:02:31.631676Z",
     "iopub.status.idle": "2023-09-21T11:02:31.632185Z",
     "shell.execute_reply": "2023-09-21T11:02:31.631952Z",
     "shell.execute_reply.started": "2023-09-21T11:02:31.631927Z"
    }
   },
   "outputs": [],
   "source": [
    "from sklearn.preprocessing import scale\n",
    "\n",
    "df_data['QuantityInv'] = scale(df_data['QuantityInv'])"
   ]
  },
  {
   "cell_type": "code",
   "execution_count": 153,
   "metadata": {},
   "outputs": [
    {
     "data": {
      "text/html": [
       "<div>\n",
       "<style scoped>\n",
       "    .dataframe tbody tr th:only-of-type {\n",
       "        vertical-align: middle;\n",
       "    }\n",
       "\n",
       "    .dataframe tbody tr th {\n",
       "        vertical-align: top;\n",
       "    }\n",
       "\n",
       "    .dataframe thead th {\n",
       "        text-align: right;\n",
       "    }\n",
       "</style>\n",
       "<table border=\"1\" class=\"dataframe\">\n",
       "  <thead>\n",
       "    <tr style=\"text-align: right;\">\n",
       "      <th></th>\n",
       "      <th>UnitPrice</th>\n",
       "      <th>QuantityInv</th>\n",
       "      <th>qr_(0, 1]</th>\n",
       "      <th>qr_(1, 3]</th>\n",
       "      <th>qr_(3, 5]</th>\n",
       "      <th>qr_(5, 7]</th>\n",
       "      <th>qr_(7, 9]</th>\n",
       "      <th>qr_(9, 100]</th>\n",
       "      <th>pr_(0, 100]</th>\n",
       "      <th>pr_(100, 200]</th>\n",
       "      <th>pr_(200, 300]</th>\n",
       "      <th>pr_(300, 500]</th>\n",
       "      <th>pr_(500, 1000]</th>\n",
       "      <th>dr_(0, 3]</th>\n",
       "      <th>dr_(3, 6]</th>\n",
       "      <th>dr_(6, 9]</th>\n",
       "      <th>dr_(9, 12]</th>\n",
       "    </tr>\n",
       "  </thead>\n",
       "  <tbody>\n",
       "    <tr>\n",
       "      <th>1</th>\n",
       "      <td>78.00</td>\n",
       "      <td>-0.480393</td>\n",
       "      <td>1</td>\n",
       "      <td>0</td>\n",
       "      <td>0</td>\n",
       "      <td>0</td>\n",
       "      <td>0</td>\n",
       "      <td>0</td>\n",
       "      <td>1</td>\n",
       "      <td>0</td>\n",
       "      <td>0</td>\n",
       "      <td>0</td>\n",
       "      <td>0</td>\n",
       "      <td>0</td>\n",
       "      <td>0</td>\n",
       "      <td>1</td>\n",
       "      <td>0</td>\n",
       "    </tr>\n",
       "    <tr>\n",
       "      <th>8</th>\n",
       "      <td>64.88</td>\n",
       "      <td>-0.374394</td>\n",
       "      <td>0</td>\n",
       "      <td>1</td>\n",
       "      <td>0</td>\n",
       "      <td>0</td>\n",
       "      <td>0</td>\n",
       "      <td>0</td>\n",
       "      <td>1</td>\n",
       "      <td>0</td>\n",
       "      <td>0</td>\n",
       "      <td>0</td>\n",
       "      <td>0</td>\n",
       "      <td>0</td>\n",
       "      <td>0</td>\n",
       "      <td>1</td>\n",
       "      <td>0</td>\n",
       "    </tr>\n",
       "    <tr>\n",
       "      <th>10</th>\n",
       "      <td>6.99</td>\n",
       "      <td>0.261600</td>\n",
       "      <td>0</td>\n",
       "      <td>0</td>\n",
       "      <td>0</td>\n",
       "      <td>0</td>\n",
       "      <td>1</td>\n",
       "      <td>0</td>\n",
       "      <td>1</td>\n",
       "      <td>0</td>\n",
       "      <td>0</td>\n",
       "      <td>0</td>\n",
       "      <td>0</td>\n",
       "      <td>0</td>\n",
       "      <td>0</td>\n",
       "      <td>1</td>\n",
       "      <td>0</td>\n",
       "    </tr>\n",
       "    <tr>\n",
       "      <th>12</th>\n",
       "      <td>18.00</td>\n",
       "      <td>-0.480393</td>\n",
       "      <td>1</td>\n",
       "      <td>0</td>\n",
       "      <td>0</td>\n",
       "      <td>0</td>\n",
       "      <td>0</td>\n",
       "      <td>0</td>\n",
       "      <td>1</td>\n",
       "      <td>0</td>\n",
       "      <td>0</td>\n",
       "      <td>0</td>\n",
       "      <td>0</td>\n",
       "      <td>0</td>\n",
       "      <td>0</td>\n",
       "      <td>1</td>\n",
       "      <td>0</td>\n",
       "    </tr>\n",
       "    <tr>\n",
       "      <th>14</th>\n",
       "      <td>570.00</td>\n",
       "      <td>-0.480393</td>\n",
       "      <td>1</td>\n",
       "      <td>0</td>\n",
       "      <td>0</td>\n",
       "      <td>0</td>\n",
       "      <td>0</td>\n",
       "      <td>0</td>\n",
       "      <td>0</td>\n",
       "      <td>0</td>\n",
       "      <td>0</td>\n",
       "      <td>0</td>\n",
       "      <td>1</td>\n",
       "      <td>0</td>\n",
       "      <td>0</td>\n",
       "      <td>1</td>\n",
       "      <td>0</td>\n",
       "    </tr>\n",
       "  </tbody>\n",
       "</table>\n",
       "</div>"
      ],
      "text/plain": [
       "    UnitPrice  QuantityInv  qr_(0, 1]  qr_(1, 3]  qr_(3, 5]  qr_(5, 7]  \\\n",
       "1       78.00    -0.480393          1          0          0          0   \n",
       "8       64.88    -0.374394          0          1          0          0   \n",
       "10       6.99     0.261600          0          0          0          0   \n",
       "12      18.00    -0.480393          1          0          0          0   \n",
       "14     570.00    -0.480393          1          0          0          0   \n",
       "\n",
       "    qr_(7, 9]  qr_(9, 100]  pr_(0, 100]  pr_(100, 200]  pr_(200, 300]  \\\n",
       "1           0            0            1              0              0   \n",
       "8           0            0            1              0              0   \n",
       "10          1            0            1              0              0   \n",
       "12          0            0            1              0              0   \n",
       "14          0            0            0              0              0   \n",
       "\n",
       "    pr_(300, 500]  pr_(500, 1000]  dr_(0, 3]  dr_(3, 6]  dr_(6, 9]  dr_(9, 12]  \n",
       "1               0               0          0          0          1           0  \n",
       "8               0               0          0          0          1           0  \n",
       "10              0               0          0          0          1           0  \n",
       "12              0               0          0          0          1           0  \n",
       "14              0               1          0          0          1           0  "
      ]
     },
     "execution_count": 153,
     "metadata": {},
     "output_type": "execute_result"
    }
   ],
   "source": [
    "df_data.head()"
   ]
  },
  {
   "cell_type": "markdown",
   "metadata": {},
   "source": [
    "# Train-Test Split\n",
    "- Now we have to split our data into train-test data to be able to train our model and validate its capabilities."
   ]
  },
  {
   "cell_type": "code",
   "execution_count": 154,
   "metadata": {
    "execution": {
     "iopub.status.busy": "2023-09-21T11:02:31.633683Z",
     "iopub.status.idle": "2023-09-21T11:02:31.634206Z",
     "shell.execute_reply": "2023-09-21T11:02:31.633971Z",
     "shell.execute_reply.started": "2023-09-21T11:02:31.633947Z"
    }
   },
   "outputs": [],
   "source": [
    "y = df_data['UnitPrice']\n",
    "X = df_data.drop(columns=['UnitPrice'])"
   ]
  },
  {
   "cell_type": "code",
   "execution_count": 155,
   "metadata": {
    "execution": {
     "iopub.status.busy": "2023-09-21T11:02:31.635549Z",
     "iopub.status.idle": "2023-09-21T11:02:31.636086Z",
     "shell.execute_reply": "2023-09-21T11:02:31.635838Z",
     "shell.execute_reply.started": "2023-09-21T11:02:31.635814Z"
    }
   },
   "outputs": [],
   "source": [
    "from sklearn.model_selection import train_test_split\n",
    "\n",
    "X_train, X_test, y_train, y_test = train_test_split(X, y, test_size = 0.20, random_state=42)"
   ]
  },
  {
   "cell_type": "markdown",
   "metadata": {},
   "source": [
    "# Testing and validating different models\n",
    "- We use GridSearch and CrossValidation to test three types of regressors:\n",
    "    - Linear\n",
    "    - Decision Tree\n",
    "    - RandomForest"
   ]
  },
  {
   "cell_type": "code",
   "execution_count": 156,
   "metadata": {
    "execution": {
     "iopub.status.busy": "2023-09-21T11:02:31.637542Z",
     "iopub.status.idle": "2023-09-21T11:02:31.639068Z",
     "shell.execute_reply": "2023-09-21T11:02:31.638798Z",
     "shell.execute_reply.started": "2023-09-21T11:02:31.63877Z"
    }
   },
   "outputs": [],
   "source": [
    "from sklearn.model_selection import KFold\n",
    "from sklearn.linear_model import LinearRegression\n",
    "from sklearn.tree import DecisionTreeRegressor\n",
    "from sklearn.ensemble import RandomForestRegressor\n",
    "import statsmodels.api as sm\n",
    "from scipy import stats\n",
    "from sklearn.model_selection import GridSearchCV\n",
    "\n",
    "from sklearn.metrics import mean_absolute_error\n",
    "from sklearn.metrics import mean_squared_error\n",
    "from sklearn.metrics import r2_score"
   ]
  },
  {
   "cell_type": "code",
   "execution_count": 157,
   "metadata": {},
   "outputs": [
    {
     "name": "stdout",
     "output_type": "stream",
     "text": [
      "                            OLS Regression Results                            \n",
      "==============================================================================\n",
      "Dep. Variable:              UnitPrice   R-squared:                       0.948\n",
      "Model:                            OLS   Adj. R-squared:                  0.948\n",
      "Method:                 Least Squares   F-statistic:                     7077.\n",
      "Date:                Mon, 11 Dec 2023   Prob (F-statistic):               0.00\n",
      "Time:                        23:53:03   Log-Likelihood:                -28976.\n",
      "No. Observations:                5877   AIC:                         5.798e+04\n",
      "Df Residuals:                    5861   BIC:                         5.809e+04\n",
      "Df Model:                          15                                         \n",
      "Covariance Type:            nonrobust                                         \n",
      "==================================================================================\n",
      "                     coef    std err          t      P>|t|      [0.025      0.975]\n",
      "----------------------------------------------------------------------------------\n",
      "const          -8.466e+12   1.24e+13     -0.685      0.493   -3.27e+13    1.58e+13\n",
      "QuantityInv       -4.4326      0.502     -8.837      0.000      -5.416      -3.449\n",
      "qr_(0, 1]        -35.5594     34.419     -1.033      0.302    -103.033      31.914\n",
      "qr_(1, 3]        -42.9332     34.387     -1.249      0.212    -110.345      24.478\n",
      "qr_(3, 5]        -49.3590     34.382     -1.436      0.151    -116.760      18.042\n",
      "qr_(5, 7]        -45.0038     34.597     -1.301      0.193    -112.828      22.820\n",
      "qr_(7, 9]        -57.1973     36.193     -1.580      0.114    -128.149      13.755\n",
      "qr_(9, 100]      -45.2556     34.699     -1.304      0.192    -113.278      22.767\n",
      "pr_(0, 100]     7.525e+12    1.1e+13      0.685      0.493    -1.4e+13    2.91e+13\n",
      "pr_(100, 200]   7.525e+12    1.1e+13      0.685      0.493    -1.4e+13    2.91e+13\n",
      "pr_(200, 300]   7.525e+12    1.1e+13      0.685      0.493    -1.4e+13    2.91e+13\n",
      "pr_(300, 500]   7.525e+12    1.1e+13      0.685      0.493    -1.4e+13    2.91e+13\n",
      "pr_(500, 1000]  7.525e+12    1.1e+13      0.685      0.493    -1.4e+13    2.91e+13\n",
      "dr_(0, 3]       9.408e+11   1.37e+12      0.685      0.493   -1.75e+12    3.63e+12\n",
      "dr_(3, 6]       9.408e+11   1.37e+12      0.685      0.493   -1.75e+12    3.63e+12\n",
      "dr_(6, 9]       9.408e+11   1.37e+12      0.685      0.493   -1.75e+12    3.63e+12\n",
      "dr_(9, 12]      9.408e+11   1.37e+12      0.685      0.493   -1.75e+12    3.63e+12\n",
      "==============================================================================\n",
      "Omnibus:                     3083.945   Durbin-Watson:                   2.000\n",
      "Prob(Omnibus):                  0.000   Jarque-Bera (JB):            70971.927\n",
      "Skew:                           2.015   Prob(JB):                         0.00\n",
      "Kurtosis:                      19.541   Cond. No.                     1.11e+15\n",
      "==============================================================================\n",
      "\n",
      "Notes:\n",
      "[1] Standard Errors assume that the covariance matrix of the errors is correctly specified.\n",
      "[2] The smallest eigenvalue is 1.26e-26. This might indicate that there are\n",
      "strong multicollinearity problems or that the design matrix is singular.\n"
     ]
    }
   ],
   "source": [
    "# Add a constant term for the intercept\n",
    "X_train_with_const = sm.add_constant(X_train)\n",
    "\n",
    "# Fit the model\n",
    "model_stats = sm.OLS(y_train, X_train_with_const).fit()\n",
    "\n",
    "# Display the summary\n",
    "print(model_stats.summary())"
   ]
  },
  {
   "cell_type": "markdown",
   "metadata": {},
   "source": [
    "# Linear Regression"
   ]
  },
  {
   "cell_type": "code",
   "execution_count": 158,
   "metadata": {
    "execution": {
     "iopub.status.busy": "2023-09-21T11:02:31.64045Z",
     "iopub.status.idle": "2023-09-21T11:02:31.641001Z",
     "shell.execute_reply": "2023-09-21T11:02:31.64075Z",
     "shell.execute_reply.started": "2023-09-21T11:02:31.640723Z"
    }
   },
   "outputs": [],
   "source": [
    "fit_intercepts = [True, False]\n",
    "param_grid_linear = dict(fit_intercept=fit_intercepts)\n",
    "linear_model = LinearRegression()"
   ]
  },
  {
   "cell_type": "markdown",
   "metadata": {},
   "source": [
    "# Decision Tree"
   ]
  },
  {
   "cell_type": "code",
   "execution_count": 159,
   "metadata": {
    "execution": {
     "iopub.status.busy": "2023-09-21T11:02:31.64268Z",
     "iopub.status.idle": "2023-09-21T11:02:31.643454Z",
     "shell.execute_reply": "2023-09-21T11:02:31.643069Z",
     "shell.execute_reply.started": "2023-09-21T11:02:31.643005Z"
    }
   },
   "outputs": [],
   "source": [
    "min_tree_splits = range(2,3)\n",
    "min_tree_leaves = range(2,3)\n",
    "param_grid_tree = dict(min_samples_split=min_tree_splits,\n",
    "                       min_samples_leaf=min_tree_leaves)\n",
    "tree_model = DecisionTreeRegressor()"
   ]
  },
  {
   "cell_type": "markdown",
   "metadata": {},
   "source": [
    "# Random Forest"
   ]
  },
  {
   "cell_type": "code",
   "execution_count": 160,
   "metadata": {
    "execution": {
     "iopub.status.busy": "2023-09-21T11:02:31.645038Z",
     "iopub.status.idle": "2023-09-21T11:02:31.645425Z",
     "shell.execute_reply": "2023-09-21T11:02:31.645257Z",
     "shell.execute_reply.started": "2023-09-21T11:02:31.645239Z"
    }
   },
   "outputs": [],
   "source": [
    "estimators_space = [100]\n",
    "min_sample_splits = range(2,4)\n",
    "min_sample_leaves = range(2,3)\n",
    "param_grid_forest = dict(min_samples_split=min_sample_splits,\n",
    "                       min_samples_leaf=min_sample_leaves,\n",
    "                       n_estimators=estimators_space)\n",
    "forest_model = RandomForestRegressor()"
   ]
  },
  {
   "cell_type": "markdown",
   "metadata": {},
   "source": [
    "# Testing and validating"
   ]
  },
  {
   "cell_type": "code",
   "execution_count": 161,
   "metadata": {
    "execution": {
     "iopub.status.busy": "2023-09-21T11:02:31.647271Z",
     "iopub.status.idle": "2023-09-21T11:02:31.647696Z",
     "shell.execute_reply": "2023-09-21T11:02:31.647488Z",
     "shell.execute_reply.started": "2023-09-21T11:02:31.64747Z"
    }
   },
   "outputs": [
    {
     "name": "stdout",
     "output_type": "stream",
     "text": [
      " === Start report for regressor LinearRegression ===\n",
      "Tuned Parameters: {'fit_intercept': True}\n",
      "Best score is -9.585057210334634e+18\n",
      "MAE for LinearRegression\n",
      "22.63888775510204\n",
      "MSE for LinearRegression\n",
      "1053.4258349659863\n",
      "R2 score for LinearRegression\n",
      "0.9442281400408045\n",
      " === End of report for regressor LinearRegression === \n",
      "\n",
      " === Start report for regressor DecisionTreeRegressor ===\n",
      "Tuned Parameters: {'min_samples_leaf': 2, 'min_samples_split': 2}\n",
      "Best score is 0.9440982521581802\n",
      "MAE for DecisionTreeRegressor\n",
      "21.947898203924467\n",
      "MSE for DecisionTreeRegressor\n",
      "1095.80836680777\n",
      "R2 score for DecisionTreeRegressor\n",
      "0.9419842681400622\n",
      " === End of report for regressor DecisionTreeRegressor === \n",
      "\n",
      " === Start report for regressor RandomForest ===\n",
      "Tuned Parameters: {'min_samples_leaf': 2, 'min_samples_split': 3, 'n_estimators': 100}\n",
      "Best score is 0.9458324269148948\n",
      "MAE for RandomForest\n",
      "21.78663032585083\n",
      "MSE for RandomForest\n",
      "1076.4985400025082\n",
      "R2 score for RandomForest\n",
      "0.9430065944592702\n",
      " === End of report for regressor RandomForest === \n",
      "\n"
     ]
    }
   ],
   "source": [
    "cv = 5\n",
    "\n",
    "models_to_test = ['LinearRegression','DecisionTreeRegressor','RandomForest']\n",
    "regression_dict = dict(LinearRegression=linear_model,\n",
    "                       DecisionTreeRegressor=tree_model,\n",
    "                       RandomForest=forest_model)\n",
    "param_grid_dict = dict(LinearRegression=param_grid_linear,\n",
    "                       DecisionTreeRegressor=param_grid_tree,\n",
    "                       RandomForest=param_grid_forest)\n",
    "\n",
    "score_dict = {}\n",
    "params_dict = {}\n",
    "mae_dict = {}\n",
    "mse_dict = {}\n",
    "r2_dict = {}\n",
    "best_est_dict = {}\n",
    "\n",
    "for model in models_to_test:\n",
    "  regressor = GridSearchCV(regression_dict[model], param_grid_dict[model], cv=cv, n_jobs=-1)\n",
    "\n",
    "  regressor.fit(X_train, y_train)\n",
    "  y_pred = regressor.predict(X_test)\n",
    "\n",
    "  # Print the tuned parameters and score\n",
    "  print(\" === Start report for regressor {} ===\".format(model))\n",
    "  score_dict[model] = regressor.best_score_\n",
    "  print(\"Tuned Parameters: {}\".format(regressor.best_params_)) \n",
    "  params_dict = regressor.best_params_\n",
    "  print(\"Best score is {}\".format(regressor.best_score_))\n",
    "\n",
    "  # Compute metrics\n",
    "  mae_dict[model] = mean_absolute_error(y_test, y_pred)\n",
    "  print(\"MAE for {}\".format(model))\n",
    "  print(mean_absolute_error(y_test, y_pred))\n",
    "  mse_dict[model] = mean_squared_error(y_test, y_pred)\n",
    "  print(\"MSE for {}\".format(model))\n",
    "  print(mean_squared_error(y_test, y_pred))\n",
    "  r2_dict[model] = r2_score(y_test, y_pred)\n",
    "  print(\"R2 score for {}\".format(model))\n",
    "  print(r2_score(y_test, y_pred))\n",
    "  print(\" === End of report for regressor {} === \\n\".format(model))\n",
    "  \n",
    "  # Add best estimator to the dict\n",
    "  best_est_dict[model] = regressor.best_estimator_"
   ]
  },
  {
   "cell_type": "markdown",
   "metadata": {},
   "source": [
    "# Creating summary report"
   ]
  },
  {
   "cell_type": "code",
   "execution_count": 162,
   "metadata": {
    "execution": {
     "iopub.status.busy": "2023-09-21T11:02:31.648944Z",
     "iopub.status.idle": "2023-09-21T11:02:31.649328Z",
     "shell.execute_reply": "2023-09-21T11:02:31.64916Z",
     "shell.execute_reply.started": "2023-09-21T11:02:31.649142Z"
    }
   },
   "outputs": [],
   "source": [
    "summary_cols = ['Best Score']\n",
    "summary = pd.DataFrame.from_dict(r2_dict, orient='index')\n",
    "summary.index.name = 'Regressor'\n",
    "summary.columns = summary_cols\n",
    "summary = summary.reset_index()"
   ]
  },
  {
   "cell_type": "markdown",
   "metadata": {},
   "source": [
    "# Visualizing results"
   ]
  },
  {
   "cell_type": "code",
   "execution_count": 163,
   "metadata": {
    "execution": {
     "iopub.status.busy": "2023-09-21T11:02:31.653373Z",
     "iopub.status.idle": "2023-09-21T11:02:31.653882Z",
     "shell.execute_reply": "2023-09-21T11:02:31.653675Z",
     "shell.execute_reply.started": "2023-09-21T11:02:31.653644Z"
    },
    "scrolled": true
   },
   "outputs": [
    {
     "data": {
      "text/plain": [
       "<AxesSubplot:title={'center':'Regressor Comparison'}, xlabel='Best Score', ylabel='Regressor'>"
      ]
     },
     "execution_count": 163,
     "metadata": {},
     "output_type": "execute_result"
    },
    {
     "data": {
      "image/png": "[encoded data removed]",
      "text/plain": [
       "<Figure size 864x288 with 1 Axes>"
      ]
     },
     "metadata": {
      "needs_background": "light"
     },
     "output_type": "display_data"
    }
   ],
   "source": [
    "plt.figure(figsize=(12,4))\n",
    "plt.xlabel('Best score')\n",
    "plt.title('Regressor Comparison')\n",
    "\n",
    "sns.barplot(x='Best Score', y='Regressor', data=summary)"
   ]
  },
  {
   "cell_type": "markdown",
   "metadata": {},
   "source": [
    "# Conclusions\n",
    "- This is a basic analysis of a transactions dataset with a model that predicts sales.\n",
    "\n",
    "- Random Forest Regressor appears to be the best model for our prediction with an R2 score of more than 0.6 which is not that bad."
   ]
  },
  {
   "cell_type": "code",
   "execution_count": 164,
   "metadata": {},
   "outputs": [
    {
     "name": "stdout",
     "output_type": "stream",
     "text": [
      "Mean Squared Error on Test Data: 1053.4258349659863\n",
      "R-squared on Test Data: 0.9442281400408045\n"
     ]
    }
   ],
   "source": [
    "from sklearn.linear_model import LinearRegression\n",
    "from sklearn.metrics import mean_squared_error, r2_score\n",
    "\n",
    "# Create a linear regression model\n",
    "model = LinearRegression()\n",
    "\n",
    "# Fit the model on the training data\n",
    "model.fit(X_train, y_train)\n",
    "\n",
    "# Predict on the test data\n",
    "y_pred_test = model.predict(X_test)\n",
    "\n",
    "# Evaluate the model\n",
    "mse = mean_squared_error(y_test, y_pred_test)\n",
    "r_squared = r2_score(y_test, y_pred_test)\n",
    "\n",
    "print(\"Mean Squared Error on Test Data:\", mse)\n",
    "print(\"R-squared on Test Data:\", r_squared)\n"
   ]
  },
  {
   "cell_type": "markdown",
   "metadata": {},
   "source": [
    "# Generate random data for demonstration\n",
    "np.random.seed(42)\n",
    "months = pd.date_range(start='2020-01-01', end='2023-12-01', freq='M')\n",
    "all_sales = np.random.randint(100, 300, size=len(months))\n",
    "\n",
    "# Create a DataFrame with random features for the months\n",
    "features = pd.DataFrame({\n",
    "    'QuantityInv': np.random.rand(len(months)),\n",
    "    'qr_(0, 1]': np.random.randint(0, 2, size=len(months)),\n",
    "    'qr_(1, 3]': np.random.randint(0, 2, size=len(months)),\n",
    "    'qr_(3, 5]': np.random.randint(0, 2, size=len(months)),\n",
    "    'qr_(5, 7]': np.random.randint(0, 2, size=len(months)),\n",
    "    'qr_(7, 9]': np.random.randint(0, 2, size=len(months)),\n",
    "    'qr_(9, 100]': np.random.randint(0, 2, size=len(months)),\n",
    "    'pr_(0, 100]': np.random.randint(0, 2, size=len(months)),\n",
    "    'pr_(100, 200]': np.random.randint(0, 2, size=len(months)),\n",
    "    'pr_(200, 300]': np.random.randint(0, 2, size=len(months)),\n",
    "    'pr_(300, 500]': np.random.randint(0, 2, size=len(months)),\n",
    "    'pr_(500, 1000]': np.random.randint(0, 2, size=len(months)),\n",
    "    'dr_(0, 3]': np.random.randint(0, 2, size=len(months)),\n",
    "    'dr_(3, 6]': np.random.randint(0, 2, size=len(months)),\n",
    "    'dr_(6, 9]': np.random.randint(0, 2, size=len(months)),\n",
    "    'dr_(9, 12]': np.random.randint(0, 2, size=len(months)),\n",
    "})\n",
    "\n",
    "# Split the data into train and test sets\n",
    "train_size = int(len(months) * 0.8)  # 80% train, 20% test\n",
    "train_sales, test_sales = all_sales[:train_size], all_sales[train_size:]\n",
    "train_features, test_features = features[:train_size], features[train_size:]\n",
    "\n",
    "# Train the model on the training data\n",
    "model = LinearRegression()\n",
    "model.fit(train_features, train_sales)\n",
    "\n",
    "# Predict sales for both train and test data\n",
    "train_predicted_sales = model.predict(train_features)\n",
    "test_predicted_sales = model.predict(test_features)\n",
    "\n",
    "# Plot the trends for train and test data\n",
    "plt.figure(figsize=(12, 8))\n",
    "\n",
    "# Plot the trend of actual sales for both train and test data\n",
    "plt.plot(months[:train_size], train_sales, label='Actual Train Sales', marker='o', color='blue')\n",
    "plt.plot(months[train_size:], test_sales, label='Actual Test Sales', marker='o', color='green')\n",
    "\n",
    "# Plot the trend of predicted sales for both train and test data\n",
    "plt.plot(months[:train_size], train_predicted_sales, label='Predicted Train Sales', linestyle='dashed', marker='x', color='orange')\n",
    "plt.plot(months[train_size:], test_predicted_sales, label='Predicted Test Sales', linestyle='dashed', marker='x', color='red')\n",
    "\n",
    "# Customize the plot\n",
    "plt.xlabel('Month')\n",
    "plt.ylabel('Sales')\n",
    "plt.title('Actual and Predicted Sales Trend Over Time (Monthly)')\n",
    "plt.legend()\n",
    "plt.grid(True)\n",
    "plt.show()\n"
   ]
  },
  {
   "cell_type": "markdown",
   "metadata": {},
   "source": [
    "# Sample data for demonstration (replace this with your actual training data)\n",
    "train_data = pd.DataFrame({\n",
    "    'Date': pd.date_range(start='2020-01-01', end='2022-12-31', freq='M'),\n",
    "    'UnitPrice': np.random.randint(100, 300, size=36),\n",
    "    'QuantityInv': np.random.rand(36),\n",
    "    'qr_(0, 1]': np.random.randint(0, 2, size=36),\n",
    "    'qr_(1, 3]': np.random.randint(0, 2, size=36),\n",
    "    'qr_(3, 5]': np.random.randint(0, 2, size=36),\n",
    "    'qr_(5, 7]': np.random.randint(0, 2, size=36),\n",
    "    'qr_(7, 9]': np.random.randint(0, 2, size=36),\n",
    "    'qr_(9, 100]': np.random.randint(0, 2, size=36),\n",
    "    'pr_(0, 100]': np.random.randint(0, 2, size=36),\n",
    "    'pr_(100, 200]': np.random.randint(0, 2, size=36),\n",
    "    'pr_(200, 300]': np.random.randint(0, 2, size=36),\n",
    "    'pr_(300, 500]': np.random.randint(0, 2, size=36),\n",
    "    'pr_(500, 1000]': np.random.randint(0, 2, size=36),\n",
    "    'dr_(0, 3]': np.random.randint(0, 2, size=36),\n",
    "    'dr_(3, 6]': np.random.randint(0, 2, size=36),\n",
    "    'dr_(6, 9]': np.random.randint(0, 2, size=36),\n",
    "    'dr_(9, 12]': np.random.randint(0, 2, size=36),\n",
    "})\n",
    "\n",
    "# Extract features and sales from the training data\n",
    "train_features = train_data[['QuantityInv', 'qr_(0, 1]', 'qr_(1, 3]', 'qr_(3, 5]', 'qr_(5, 7]', 'qr_(7, 9]',\n",
    "                             'qr_(9, 100]', 'pr_(0, 100]', 'pr_(100, 200]', 'pr_(200, 300]', 'pr_(300, 500]',\n",
    "                             'pr_(500, 1000]', 'dr_(0, 3]', 'dr_(3, 6]', 'dr_(6, 9]', 'dr_(9, 12]']]\n",
    "train_sales = train_data['UnitPrice']\n",
    "\n",
    "# Train a model using the training data\n",
    "model = LinearRegression()\n",
    "model.fit(train_features, train_sales)\n",
    "\n",
    "# Generate synthetic test data for demonstration purposes\n",
    "test_data = pd.DataFrame({\n",
    "    'Date': pd.date_range(start='2023-01-01', end='2023-12-31', freq='M'),\n",
    "    'QuantityInv': np.random.rand(12),\n",
    "    'qr_(0, 1]': np.random.randint(0, 2, size=12),\n",
    "    'qr_(1, 3]': np.random.randint(0, 2, size=12),\n",
    "    'qr_(3, 5]': np.random.randint(0, 2, size=12),\n",
    "    'qr_(5, 7]': np.random.randint(0, 2, size=12),\n",
    "    'qr_(7, 9]': np.random.randint(0, 2, size=12),\n",
    "    'qr_(9, 100]': np.random.randint(0, 2, size=12),\n",
    "    'pr_(0, 100]': np.random.randint(0, 2, size=12),\n",
    "    'pr_(100, 200]': np.random.randint(0, 2, size=12),\n",
    "    'pr_(200, 300]': np.random.randint(0, 2, size=12),\n",
    "    'pr_(300, 500]': np.random.randint(0, 2, size=12),\n",
    "    'pr_(500, 1000]': np.random.randint(0, 2, size=12),\n",
    "    'dr_(0, 3]': np.random.randint(0, 2, size=12),\n",
    "    'dr_(3, 6]': np.random.randint(0, 2, size=12),\n",
    "    'dr_(6, 9]': np.random.randint(0, 2, size=12),\n",
    "    'dr_(9, 12]': np.random.randint(0, 2, size=12),\n",
    "})\n",
    "\n",
    "# Extract features from the synthetic test data\n",
    "test_features = test_data[['QuantityInv', 'qr_(0, 1]', 'qr_(1, 3]', 'qr_(3, 5]', 'qr_(5, 7]', 'qr_(7, 9]',\n",
    "                           'qr_(9, 100]', 'pr_(0, 100]', 'pr_(100, 200]', 'pr_(200, 300]', 'pr_(300, 500]',\n",
    "                           'pr_(500, 1000]', 'dr_(0, 3]', 'dr_(3, 6]', 'dr_(6, 9]', 'dr_(9, 12]']]\n",
    "\n",
    "# Predict sales using the trained model\n",
    "test_predicted_sales = model.predict(test_features)\n",
    "\n",
    "# Plot the trends for both train and test data\n",
    "plt.figure(figsize=(12, 8))\n",
    "\n",
    "# Plot the trend of actual sales for the training data\n",
    "plt.plot(train_data['Date'], train_sales, label='Actual Train Sales', marker='o', color='blue')\n",
    "\n",
    "# Plot the trend of predicted sales for the training data\n",
    "train_predicted_sales = model.predict(train_features)\n",
    "plt.plot(train_data['Date'], train_predicted_sales, label='Predicted Train Sales', linestyle='dashed', marker='x', color='orange')\n",
    "\n",
    "# Plot the trend of predicted sales for the test data\n",
    "plt.plot(test_data['Date'], test_predicted_sales, label='Predicted Test Sales', linestyle='dashed', marker='x', color='red')\n",
    "\n",
    "# Customize the plot\n",
    "plt.xlabel('Date')\n",
    "plt.ylabel('Sales')\n",
    "plt.title('Actual and Predicted Sales Trend Over Time (Monthly)')\n",
    "plt.legend()\n",
    "plt.grid(True)\n",
    "plt.show()\n"
   ]
  },
  {
   "cell_type": "markdown",
   "metadata": {},
   "source": [
    "\n",
    "\n",
    "# Sample data for demonstration (replace this with your actual training data)\n",
    "train_data = pd.DataFrame({\n",
    "    'Date': pd.date_range(start='2020-01-01', end='2022-12-31', freq='M'),\n",
    "    'UnitPrice': np.random.randint(100, 300, size=36),\n",
    "    'QuantityInv': np.random.rand(36),\n",
    "    'qr_(0, 1]': np.random.randint(0, 2, size=36),\n",
    "    'qr_(1, 3]': np.random.randint(0, 2, size=36),\n",
    "    'qr_(3, 5]': np.random.randint(0, 2, size=36),\n",
    "    'qr_(5, 7]': np.random.randint(0, 2, size=36),\n",
    "    'qr_(7, 9]': np.random.randint(0, 2, size=36),\n",
    "    'qr_(9, 100]': np.random.randint(0, 2, size=36),\n",
    "    'pr_(0, 100]': np.random.randint(0, 2, size=36),\n",
    "    'pr_(100, 200]': np.random.randint(0, 2, size=36),\n",
    "    'pr_(200, 300]': np.random.randint(0, 2, size=36),\n",
    "    'pr_(300, 500]': np.random.randint(0, 2, size=36),\n",
    "    'pr_(500, 1000]': np.random.randint(0, 2, size=36),\n",
    "    'dr_(0, 3]': np.random.randint(0, 2, size=36),\n",
    "    'dr_(3, 6]': np.random.randint(0, 2, size=36),\n",
    "    'dr_(6, 9]': np.random.randint(0, 2, size=36),\n",
    "    'dr_(9, 12]': np.random.randint(0, 2, size=36),\n",
    "})\n",
    "\n",
    "# Extract features and sales from the training data\n",
    "train_features = train_data[['QuantityInv', 'qr_(0, 1]', 'qr_(1, 3]', 'qr_(3, 5]', 'qr_(5, 7]', 'qr_(7, 9]',\n",
    "                             'qr_(9, 100]', 'pr_(0, 100]', 'pr_(100, 200]', 'pr_(200, 300]', 'pr_(300, 500]',\n",
    "                             'pr_(500, 1000]', 'dr_(0, 3]', 'dr_(3, 6]', 'dr_(6, 9]', 'dr_(9, 12]']]\n",
    "train_sales = train_data['UnitPrice']\n",
    "\n",
    "# Train a model using the training data\n",
    "model = LinearRegression()\n",
    "model.fit(train_features, train_sales)\n",
    "\n",
    "# Generate features for the year 2024\n",
    "start_date_2024 = datetime(2024, 1, 1)\n",
    "end_date_2024 = datetime(2024, 12, 31)\n",
    "features_2024 = pd.DataFrame({\n",
    "    'QuantityInv': np.random.rand(12),  # Replace with actual values or use your feature generation logic\n",
    "    'qr_(0, 1]': np.random.randint(0, 2, size=12),\n",
    "    'qr_(1, 3]': np.random.randint(0, 2, size=12),\n",
    "    'qr_(3, 5]': np.random.randint(0, 2, size=12),\n",
    "    'qr_(5, 7]': np.random.randint(0, 2, size=12),\n",
    "    'qr_(7, 9]': np.random.randint(0, 2, size=12),\n",
    "    'qr_(9, 100]': np.random.randint(0, 2, size=12),\n",
    "    'pr_(0, 100]': np.random.randint(0, 2, size=12),\n",
    "    'pr_(100, 200]': np.random.randint(0, 2, size=12),\n",
    "    'pr_(200, 300]': np.random.randint(0, 2, size=12),\n",
    "    'pr_(300, 500]': np.random.randint(0, 2, size=12),\n",
    "    'pr_(500, 1000]': np.random.randint(0, 2, size=12),\n",
    "    'dr_(0, 3]': np.random.randint(0, 2, size=12),\n",
    "    'dr_(3, 6]': np.random.randint(0, 2, size=12),\n",
    "    'dr_(6, 9]': np.random.randint(0, 2, size=12),\n",
    "    'dr_(9, 12]': np.random.randint(0, 2, size=12),\n",
    "}, index=pd.date_range(start=start_date_2024, end=end_date_2024, freq='M'))\n",
    "\n",
    "# Predict sales for the year 2024\n",
    "predicted_sales_2024 = model.predict(features_2024)\n",
    "\n",
    "# Plot the trends for both train and 2024 predicted data\n",
    "plt.figure(figsize=(12, 8))\n",
    "\n",
    "# Plot the trend of actual sales for the training data\n",
    "plt.plot(train_data['Date'], train_sales, label='Actual Train Sales', marker='o', color='blue')\n",
    "\n",
    "# Plot the trend of predicted sales for the training data\n",
    "train_predicted_sales = model.predict(train_features)\n",
    "plt.plot(train_data['Date'], train_predicted_sales, label='Predicted Train Sales', linestyle='dashed', marker='x', color='orange')\n",
    "\n",
    "# Plot the trend of predicted sales for the year 2024\n",
    "plt.plot(features_2024.index, predicted_sales_2024, label='Predicted 2024 Sales', linestyle='dashed', marker='x', color='red')\n",
    "\n",
    "# Customize the plot\n",
    "plt.xlabel('Date')\n",
    "plt.ylabel('Sales')\n",
    "plt.title('Actual and Predicted Sales Trend Over Time (Monthly)')\n",
    "plt.legend()\n",
    "plt.grid(True)\n",
    "plt.show()\n"
   ]
  },
  {
   "cell_type": "markdown",
   "metadata": {},
   "source": [
    "\n",
    "\n",
    "# Assuming you have a trained model named 'model'\n",
    "\n",
    "# Generate features for the year 2024\n",
    "start_date_2024 = datetime(2024, 1, 1)\n",
    "end_date_2024 = datetime(2024, 12, 31)\n",
    "features_2024 = pd.DataFrame({\n",
    "    'QuantityInv': np.random.rand(12),  # Replace with actual values or use your feature generation logic\n",
    "    'qr_(0, 1]': np.random.randint(0, 2, size=12),\n",
    "    'qr_(1, 3]': np.random.randint(0, 2, size=12),\n",
    "    'qr_(3, 5]': np.random.randint(0, 2, size=12),\n",
    "    'qr_(5, 7]': np.random.randint(0, 2, size=12),\n",
    "    'qr_(7, 9]': np.random.randint(0, 2, size=12),\n",
    "    'qr_(9, 100]': np.random.randint(0, 2, size=12),\n",
    "    'pr_(0, 100]': np.random.randint(0, 2, size=12),\n",
    "    'pr_(100, 200]': np.random.randint(0, 2, size=12),\n",
    "    'pr_(200, 300]': np.random.randint(0, 2, size=12),\n",
    "    'pr_(300, 500]': np.random.randint(0, 2, size=12),\n",
    "    'pr_(500, 1000]': np.random.randint(0, 2, size=12),\n",
    "    'dr_(0, 3]': np.random.randint(0, 2, size=12),\n",
    "    'dr_(3, 6]': np.random.randint(0, 2, size=12),\n",
    "    'dr_(6, 9]': np.random.randint(0, 2, size=12),\n",
    "    'dr_(9, 12]': np.random.randint(0, 2, size=12),\n",
    "}, index=pd.date_range(start=start_date_2024, end=end_date_2024, freq='M'))\n",
    "\n",
    "# Predict sales for the year 2024 using the trained model\n",
    "predicted_sales_2024 = model.predict(features_2024)\n",
    "\n",
    "# Plot the trends for the predicted data\n",
    "plt.figure(figsize=(12, 8))\n",
    "\n",
    "# Plot the trend of predicted sales for the year 2024\n",
    "plt.plot(features_2024.index, predicted_sales_2024, label='Predicted 2024 Sales', linestyle='dashed', marker='x', color='red')\n",
    "\n",
    "# Customize the plot\n",
    "plt.xlabel('Date')\n",
    "plt.ylabel('Sales')\n",
    "plt.title('Predicted Sales Trend for 2024 (Monthly)')\n",
    "plt.legend()\n",
    "plt.grid(True)\n",
    "plt.show()\n"
   ]
  },
  {
   "cell_type": "code",
   "execution_count": 165,
   "metadata": {},
   "outputs": [
    {
     "name": "stdout",
     "output_type": "stream",
     "text": [
      "Predicted Target Variable: [37.78125]\n"
     ]
    }
   ],
   "source": [
    "import pandas as pd\n",
    "\n",
    "# Assuming you have a trained model named 'model'\n",
    "# model = ...\n",
    "\n",
    "# Create a dictionary with feature values\n",
    "feature_values = {\n",
    "    'QuantityInv': -0.480393,\n",
    "    'qr_(0, 1]': 1,\n",
    "    'qr_(1, 3]': 0,\n",
    "    'qr_(3, 5]': 0,\n",
    "    'qr_(5, 7]': 0,\n",
    "    'qr_(7, 9]': 0,\n",
    "    'qr_(9, 100]': 0,\n",
    "    'pr_(0, 100]': 1,\n",
    "    'pr_(100, 200]': 0,\n",
    "    'pr_(200, 300]': 0,\n",
    "    'pr_(300, 500]': 0,\n",
    "    'pr_(500, 1000]': 0,\n",
    "    'dr_(0, 3]': 0,\n",
    "    'dr_(3, 6]': 0,\n",
    "    'dr_(6, 9]': 1,\n",
    "    'dr_(9, 12]': 0\n",
    "}\n",
    "\n",
    "# Convert the dictionary to a DataFrame\n",
    "input_data = pd.DataFrame([feature_values])\n",
    "\n",
    "# Predict the target variable for the given feature values\n",
    "predicted_target = model.predict(input_data)\n",
    "\n",
    "print(\"Predicted Target Variable:\", predicted_target)\n"
   ]
  }
 ],
 "metadata": {
  "kernelspec": {
   "display_name": "Python 3",
   "language": "python",
   "name": "python3"
  },
  "language_info": {
   "codemirror_mode": {
    "name": "ipython",
    "version": 3
   },
   "file_extension": ".py",
   "mimetype": "text/x-python",
   "name": "python",
   "nbconvert_exporter": "python",
   "pygments_lexer": "ipython3",
   "version": "3.8.5"
  }
 },
 "nbformat": 4,
 "nbformat_minor": 4
}
